{
 "cells": [
  {
   "cell_type": "markdown",
   "metadata": {},
   "source": [
    "# Aula 16 &mdash; Análise de discriminante e Naïve Bayes\n",
    "\n",
    "Renato Vimieiro\n",
    "\n",
    "rv2 {em} cin.ufpe.br\n",
    "\n",
    "maio 2017"
   ]
  },
  {
   "cell_type": "markdown",
   "metadata": {},
   "source": [
    "## Introdução\n",
    "\n",
    "Na aula passada vimos o algoritmo de Regressão Logística que é usado para o problema de classificação. O uso de regressão logística, contudo, é recomendado apenas quando o número de classes é dois. Isso porque o modelo apresenta problemas de estabilidade quando o número de amostras é pequeno ou quando as classes são bem separadas (ver ISLR). Nesses casos, outros classificadores são mais recomendados. Nessa aula veremos dois classificadores que se assemelham ao modelo de regressão logística, mas que estimam a probabilidade condicional das classes dados os atributos de maneira diferente.\n",
    "\n",
    "Como dito, o objetivo central de regressão logística era ajustar um modelo para predizer $P(Y=1~|~X)$. Pelo teorema de Bayes, sabemos que tal probabilidade condicional pode ser reescrita como\n",
    "\n",
    "$$\n",
    "P(Y=k~|~X) = \\frac{P(X~|~Y=k)P(Y=k)}{P(X)}\n",
    "$$.\n",
    "\n",
    "Dessa forma, podemos enxergar o problema como a estimativa da probabilidade de se observar $X$ na classe $k$, a probabilidade de uma amostra ser da classe $k$ e a probabilidade de se observar o valor $X$. Em outras palavras, invertemos nossa análise para a probabilidade de se observar os valores nas diferentes classes. Assim, classificamos uma amostra como da classe $k$ quando seus atributos tiverem maior probabilidade de ocorrer nesta classe. Essa é a intuição por trás da Análise de discriminante e Naive Bayes."
   ]
  },
  {
   "cell_type": "markdown",
   "metadata": {},
   "source": [
    "## Análise de discriminante\n",
    "\n",
    "A análise de discriminante supõe que os atributos sigam uma distribuição normal em cada uma das classes. No caso mais simples, linear, é assumido ainda que a variância dos atributos é a mesma em todas as classes. Portanto, o problema se resume a estimar as funções de densidade $f_k(X)$.\n",
    "\n",
    "Se expressarmos $P(Y=k) = p_k$, podemos reescrever a equação acima como\n",
    "\n",
    "$$\n",
    "P(Y=k~|~X) = \\frac{p_k~f_k(X)}{\\sum p_i~f_i(X)}\n",
    "$$\n",
    "\n",
    "Iniciamos nossa análise pelo caso mais simples onde o modelo contém apenas um atributo. Como a suposição é de que os atributos sigam uma distribuição normal em cada classe com uma mesma variância $\\sigma^2$, temos que\n",
    "\n",
    "$$\n",
    "f_k(X) = \\frac{1}{\\sigma\\sqrt{2\\pi}}\\exp\\left({-\\frac{1}{2\\sigma^2}(X-\\bar{X_k})^2}\\right)\n",
    "$$\n",
    "\n",
    "e consequentemente\n",
    "\n",
    "$$\n",
    "P(Y=k~|~X) = \\frac{p_k~\\frac{1}{\\sigma\\sqrt{2\\pi}}\\exp\\left({-\\frac{1}{2\\sigma^2}(X-\\bar{X_k})^2}\\right)}{\\sum p_i~\\frac{1}{\\sigma\\sqrt{2\\pi}}\\exp\\left({-\\frac{1}{2\\sigma^2}(X-\\bar{X_i})^2}\\right)}\n",
    "$$\n",
    "\n",
    "A classe da amostra $X$ é aquela com a maior probabilidade. Com alguma manipulação algébrica, pode-se verificar que o máximo da equação acima é equivalente a\n",
    "\n",
    "$$\n",
    "argmax_k(P(Y=k~|~X)) = argmax_k\\log(P(Y=k~|~X)) = argmax_k \\delta_k(X) = X\\frac{\\bar{X_k}}{\\sigma^2}-\\frac{\\bar{X_k}^2}{2\\sigma^2} + log(p_k)\n",
    "$$\n",
    "\n",
    "Assim, precisamos estimar $p_k = n_i/n$, a média de $X$ e sua variância.\n",
    "\n",
    "Vamos retomar o exemplo da aula passada e ajustar um modelo para os dados."
   ]
  },
  {
   "cell_type": "code",
   "execution_count": 1,
   "metadata": {},
   "outputs": [],
   "source": [
    "import pandas as pd\n",
    "import numpy as np\n",
    "\n",
    "import seaborn as sns\n",
    "import matplotlib.pyplot as plt\n",
    "\n",
    "% matplotlib inline"
   ]
  },
  {
   "cell_type": "code",
   "execution_count": 2,
   "metadata": {},
   "outputs": [],
   "source": [
    "prostate = pd.read_csv(\"https://web.stanford.edu/~hastie/ElemStatLearn/datasets/prostate.data\",\n",
    "                       header=0,index_col=0,sep='\\t')\n",
    "prostate['prognostico'] = prostate.gleason.map(lambda x: x >=7 and 'mau' or 'bom')\n",
    "treino = prostate[prostate.train=='T'].drop('train',axis=1)\n",
    "teste = prostate[prostate.train=='F'].drop('train',axis=1)"
   ]
  },
  {
   "cell_type": "code",
   "execution_count": 7,
   "metadata": {},
   "outputs": [],
   "source": [
    "lpk = np.log(treino.prognostico.value_counts()/treino.shape[0])\n",
    "avgPSA = treino.groupby('prognostico').lpsa.mean()\n",
    "varPSA = treino.lpsa.var()\n",
    "deltaK = [treino.lpsa*(avgPSA[i]/varPSA)-((avgPSA[i]**2)/(2*varPSA))+lpk[i] for i in ['bom','mau']]"
   ]
  },
  {
   "cell_type": "code",
   "execution_count": 8,
   "metadata": {},
   "outputs": [
    {
     "data": {
      "text/plain": [
       "<matplotlib.axes._subplots.AxesSubplot at 0x1106225c0>"
      ]
     },
     "execution_count": 8,
     "metadata": {},
     "output_type": "execute_result"
    },
    {
     "data": {
      "image/png": "[encoded data removed]",
      "text/plain": [
       "<matplotlib.figure.Figure at 0x10fd91cc0>"
      ]
     },
     "metadata": {},
     "output_type": "display_data"
    }
   ],
   "source": [
    "sns.kdeplot(treino[treino.prognostico=='bom'].lpsa,label='bom')\n",
    "sns.kdeplot(treino[treino.prognostico=='mau'].lpsa,label='mau')"
   ]
  },
  {
   "cell_type": "code",
   "execution_count": 5,
   "metadata": {},
   "outputs": [
    {
     "data": {
      "text/plain": [
       "array([0, 0, 0, 0, 0, 0, 0, 0, 0, 0, 0, 0, 0, 0, 0, 0, 0, 1, 1, 1, 1, 1,\n",
       "       1, 1, 1, 1, 1, 1, 1, 1, 1, 1, 1, 1, 1, 1, 1, 1, 1, 1, 1, 1, 1, 1,\n",
       "       1, 1, 1, 1, 1, 1, 1, 1, 1, 1, 1, 1, 1, 1, 1, 1, 1, 1, 1, 1, 1, 1,\n",
       "       1])"
      ]
     },
     "execution_count": 5,
     "metadata": {},
     "output_type": "execute_result"
    }
   ],
   "source": [
    "classes = np.fromiter(map(lambda x: np.argmax(np.fromiter(x,dtype='float')),zip(*deltaK)),dtype='int')\n",
    "classes"
   ]
  },
  {
   "cell_type": "code",
   "execution_count": 6,
   "metadata": {},
   "outputs": [
    {
     "data": {
      "text/html": [
       "<div>\n",
       "<style scoped>\n",
       "    .dataframe tbody tr th:only-of-type {\n",
       "        vertical-align: middle;\n",
       "    }\n",
       "\n",
       "    .dataframe tbody tr th {\n",
       "        vertical-align: top;\n",
       "    }\n",
       "\n",
       "    .dataframe thead th {\n",
       "        text-align: right;\n",
       "    }\n",
       "</style>\n",
       "<table border=\"1\" class=\"dataframe\">\n",
       "  <thead>\n",
       "    <tr style=\"text-align: right;\">\n",
       "      <th>prognostico</th>\n",
       "      <th>bom</th>\n",
       "      <th>mau</th>\n",
       "    </tr>\n",
       "    <tr>\n",
       "      <th>row_0</th>\n",
       "      <th></th>\n",
       "      <th></th>\n",
       "    </tr>\n",
       "  </thead>\n",
       "  <tbody>\n",
       "    <tr>\n",
       "      <th>0</th>\n",
       "      <td>13</td>\n",
       "      <td>4</td>\n",
       "    </tr>\n",
       "    <tr>\n",
       "      <th>1</th>\n",
       "      <td>12</td>\n",
       "      <td>38</td>\n",
       "    </tr>\n",
       "  </tbody>\n",
       "</table>\n",
       "</div>"
      ],
      "text/plain": [
       "prognostico  bom  mau\n",
       "row_0                \n",
       "0             13    4\n",
       "1             12   38"
      ]
     },
     "execution_count": 6,
     "metadata": {},
     "output_type": "execute_result"
    }
   ],
   "source": [
    "pd.crosstab(classes,treino.prognostico)"
   ]
  },
  {
   "cell_type": "markdown",
   "metadata": {},
   "source": [
    "#### Caso multivariado\n",
    "\n",
    "No caso em que $X$ corresponde a um vetor de atributos, usamos a distribuição normal multivariada, cuja função de densidade é dada por\n",
    "\n",
    "$$\n",
    "f_k(X) = \\frac{1}{2\\pi^{p/2}det(\\Sigma)^{1/2}}\\exp\\left({-\\frac{1}{2}(X-\\mu)^T\\Sigma^{-1}(X-\\mu)}\\right)\n",
    "$$\n",
    "\n",
    "Substituindo a função de densidade multivariada na equação de probabilidade condicional, podemos novamente constatar que seu argumento máximo é equivalente ao da função discriminante\n",
    "\n",
    "$$\n",
    "\\delta_k(X) = X^T\\Sigma^{-1}\\mu_k-\\frac{1}{2}\\mu_k^T\\Sigma^{-1}\\mu_k+\\log(p_k)\n",
    "$$\n",
    "\n",
    "Voltando ao exemplo, podemos agora incluir no modelo outros atributos como o volume e o peso da próstata. Felizmente não precisamos executar os cálculos manualmente. Podemos usar o modelo `sklearn.discriminant_analysis.LinearDiscriminant`."
   ]
  },
  {
   "cell_type": "code",
   "execution_count": 9,
   "metadata": {},
   "outputs": [
    {
     "data": {
      "text/plain": [
       "LinearDiscriminantAnalysis(n_components=None, priors=None, shrinkage=None,\n",
       "              solver='svd', store_covariance=False, tol=0.0001)"
      ]
     },
     "execution_count": 9,
     "metadata": {},
     "output_type": "execute_result"
    }
   ],
   "source": [
    "from sklearn.discriminant_analysis import LinearDiscriminantAnalysis\n",
    "attrs = ['lpsa','lcavol','lweight','lcp','lbph']\n",
    "model = LinearDiscriminantAnalysis()\n",
    "model.fit(treino[attrs],treino.prognostico.map(lambda x: x=='mau' and 1 or 0))"
   ]
  },
  {
   "cell_type": "code",
   "execution_count": 10,
   "metadata": {},
   "outputs": [
    {
     "data": {
      "text/html": [
       "<div>\n",
       "<style scoped>\n",
       "    .dataframe tbody tr th:only-of-type {\n",
       "        vertical-align: middle;\n",
       "    }\n",
       "\n",
       "    .dataframe tbody tr th {\n",
       "        vertical-align: top;\n",
       "    }\n",
       "\n",
       "    .dataframe thead th {\n",
       "        text-align: right;\n",
       "    }\n",
       "</style>\n",
       "<table border=\"1\" class=\"dataframe\">\n",
       "  <thead>\n",
       "    <tr style=\"text-align: right;\">\n",
       "      <th>prognostico</th>\n",
       "      <th>bom</th>\n",
       "      <th>mau</th>\n",
       "    </tr>\n",
       "    <tr>\n",
       "      <th>row_0</th>\n",
       "      <th></th>\n",
       "      <th></th>\n",
       "    </tr>\n",
       "  </thead>\n",
       "  <tbody>\n",
       "    <tr>\n",
       "      <th>0</th>\n",
       "      <td>18</td>\n",
       "      <td>9</td>\n",
       "    </tr>\n",
       "    <tr>\n",
       "      <th>1</th>\n",
       "      <td>7</td>\n",
       "      <td>33</td>\n",
       "    </tr>\n",
       "  </tbody>\n",
       "</table>\n",
       "</div>"
      ],
      "text/plain": [
       "prognostico  bom  mau\n",
       "row_0                \n",
       "0             18    9\n",
       "1              7   33"
      ]
     },
     "execution_count": 10,
     "metadata": {},
     "output_type": "execute_result"
    }
   ],
   "source": [
    "pd.crosstab(model.predict(treino[attrs]),treino.prognostico)"
   ]
  },
  {
   "cell_type": "code",
   "execution_count": 11,
   "metadata": {},
   "outputs": [
    {
     "data": {
      "text/html": [
       "<div>\n",
       "<style scoped>\n",
       "    .dataframe tbody tr th:only-of-type {\n",
       "        vertical-align: middle;\n",
       "    }\n",
       "\n",
       "    .dataframe tbody tr th {\n",
       "        vertical-align: top;\n",
       "    }\n",
       "\n",
       "    .dataframe thead th {\n",
       "        text-align: right;\n",
       "    }\n",
       "</style>\n",
       "<table border=\"1\" class=\"dataframe\">\n",
       "  <thead>\n",
       "    <tr style=\"text-align: right;\">\n",
       "      <th>prognostico</th>\n",
       "      <th>bom</th>\n",
       "      <th>mau</th>\n",
       "    </tr>\n",
       "    <tr>\n",
       "      <th>row_0</th>\n",
       "      <th></th>\n",
       "      <th></th>\n",
       "    </tr>\n",
       "  </thead>\n",
       "  <tbody>\n",
       "    <tr>\n",
       "      <th>0</th>\n",
       "      <td>6</td>\n",
       "      <td>4</td>\n",
       "    </tr>\n",
       "    <tr>\n",
       "      <th>1</th>\n",
       "      <td>4</td>\n",
       "      <td>16</td>\n",
       "    </tr>\n",
       "  </tbody>\n",
       "</table>\n",
       "</div>"
      ],
      "text/plain": [
       "prognostico  bom  mau\n",
       "row_0                \n",
       "0              6    4\n",
       "1              4   16"
      ]
     },
     "execution_count": 11,
     "metadata": {},
     "output_type": "execute_result"
    }
   ],
   "source": [
    "pd.crosstab(model.predict(teste[attrs]),teste.prognostico)"
   ]
  },
  {
   "cell_type": "code",
   "execution_count": 12,
   "metadata": {},
   "outputs": [
    {
     "data": {
      "text/plain": [
       "array([[0.77402017, 0.22597983],\n",
       "       [0.90268906, 0.09731094],\n",
       "       [0.80471737, 0.19528263],\n",
       "       [0.613118  , 0.386882  ],\n",
       "       [0.10543924, 0.89456076],\n",
       "       [0.61839164, 0.38160836],\n",
       "       [0.40897862, 0.59102138],\n",
       "       [0.71431772, 0.28568228],\n",
       "       [0.62182098, 0.37817902],\n",
       "       [0.65799105, 0.34200895],\n",
       "       [0.61277706, 0.38722294],\n",
       "       [0.6590894 , 0.3409106 ],\n",
       "       [0.33489838, 0.66510162],\n",
       "       [0.35651756, 0.64348244],\n",
       "       [0.49969552, 0.50030448],\n",
       "       [0.25928121, 0.74071879],\n",
       "       [0.19195958, 0.80804042],\n",
       "       [0.10048359, 0.89951641],\n",
       "       [0.37545518, 0.62454482],\n",
       "       [0.08787725, 0.91212275],\n",
       "       [0.03714086, 0.96285914],\n",
       "       [0.03814711, 0.96185289],\n",
       "       [0.4627366 , 0.5372634 ],\n",
       "       [0.23620869, 0.76379131],\n",
       "       [0.30420294, 0.69579706],\n",
       "       [0.0350234 , 0.9649766 ],\n",
       "       [0.13845334, 0.86154666],\n",
       "       [0.02600525, 0.97399475],\n",
       "       [0.0040018 , 0.9959982 ],\n",
       "       [0.00243055, 0.99756945]])"
      ]
     },
     "execution_count": 12,
     "metadata": {},
     "output_type": "execute_result"
    }
   ],
   "source": [
    "model.predict_proba(teste[attrs])"
   ]
  },
  {
   "cell_type": "markdown",
   "metadata": {},
   "source": [
    "#### Análise discriminante quadrática\n",
    "\n",
    "Se abrirmos mão da suposição de que a matriz de variância e covariância é a mesma em todas as classes e tomarmos uma para cada classe, a função discriminante vista acima se transforma em uma função quadrática. A vantagem desse novo modelo é que a fronteira entre classes passa a ser não-linear (no caso mais simples uma parábola ao invés de uma reta). Por outro lado, o modelo contém muito mais parâmetros uma vez que cada matriz de covariância contribui com a estimativa de $p(p+1)/2$ parâmetros, levando a um total de $Kp(p+1)/2$ parâmetros. Essa flexibilidade pode contribuir para o aumento da variância. A escolha de qual modelo é melhor depende sempre do conjunto de dados, mas via de regra o modelo linear deve ser a escolha quando o número de exemplos no conjunto de treinamento é pequeno.\n",
    "\n",
    "Para exemplificar, vamos treinar o modelo quadrático com os mesmos dados e ver se há uma melhora na acurácia."
   ]
  },
  {
   "cell_type": "code",
   "execution_count": 13,
   "metadata": {},
   "outputs": [
    {
     "data": {
      "text/plain": [
       "QuadraticDiscriminantAnalysis(priors=None, reg_param=0.0,\n",
       "               store_covariance=False, store_covariances=None, tol=0.0001)"
      ]
     },
     "execution_count": 13,
     "metadata": {},
     "output_type": "execute_result"
    }
   ],
   "source": [
    "from sklearn.discriminant_analysis import QuadraticDiscriminantAnalysis\n",
    "model = QuadraticDiscriminantAnalysis()\n",
    "model.fit(treino[attrs],treino.prognostico.map(lambda x: x=='mau' and 1 or 0))"
   ]
  },
  {
   "cell_type": "code",
   "execution_count": 14,
   "metadata": {},
   "outputs": [
    {
     "data": {
      "text/html": [
       "<div>\n",
       "<style scoped>\n",
       "    .dataframe tbody tr th:only-of-type {\n",
       "        vertical-align: middle;\n",
       "    }\n",
       "\n",
       "    .dataframe tbody tr th {\n",
       "        vertical-align: top;\n",
       "    }\n",
       "\n",
       "    .dataframe thead th {\n",
       "        text-align: right;\n",
       "    }\n",
       "</style>\n",
       "<table border=\"1\" class=\"dataframe\">\n",
       "  <thead>\n",
       "    <tr style=\"text-align: right;\">\n",
       "      <th>prognostico</th>\n",
       "      <th>bom</th>\n",
       "      <th>mau</th>\n",
       "    </tr>\n",
       "    <tr>\n",
       "      <th>row_0</th>\n",
       "      <th></th>\n",
       "      <th></th>\n",
       "    </tr>\n",
       "  </thead>\n",
       "  <tbody>\n",
       "    <tr>\n",
       "      <th>0</th>\n",
       "      <td>21</td>\n",
       "      <td>9</td>\n",
       "    </tr>\n",
       "    <tr>\n",
       "      <th>1</th>\n",
       "      <td>4</td>\n",
       "      <td>33</td>\n",
       "    </tr>\n",
       "  </tbody>\n",
       "</table>\n",
       "</div>"
      ],
      "text/plain": [
       "prognostico  bom  mau\n",
       "row_0                \n",
       "0             21    9\n",
       "1              4   33"
      ]
     },
     "execution_count": 14,
     "metadata": {},
     "output_type": "execute_result"
    }
   ],
   "source": [
    "pd.crosstab(model.predict(treino[attrs]),treino.prognostico)"
   ]
  },
  {
   "cell_type": "code",
   "execution_count": 15,
   "metadata": {},
   "outputs": [
    {
     "data": {
      "text/html": [
       "<div>\n",
       "<style scoped>\n",
       "    .dataframe tbody tr th:only-of-type {\n",
       "        vertical-align: middle;\n",
       "    }\n",
       "\n",
       "    .dataframe tbody tr th {\n",
       "        vertical-align: top;\n",
       "    }\n",
       "\n",
       "    .dataframe thead th {\n",
       "        text-align: right;\n",
       "    }\n",
       "</style>\n",
       "<table border=\"1\" class=\"dataframe\">\n",
       "  <thead>\n",
       "    <tr style=\"text-align: right;\">\n",
       "      <th>prognostico</th>\n",
       "      <th>bom</th>\n",
       "      <th>mau</th>\n",
       "    </tr>\n",
       "    <tr>\n",
       "      <th>row_0</th>\n",
       "      <th></th>\n",
       "      <th></th>\n",
       "    </tr>\n",
       "  </thead>\n",
       "  <tbody>\n",
       "    <tr>\n",
       "      <th>0</th>\n",
       "      <td>9</td>\n",
       "      <td>4</td>\n",
       "    </tr>\n",
       "    <tr>\n",
       "      <th>1</th>\n",
       "      <td>1</td>\n",
       "      <td>16</td>\n",
       "    </tr>\n",
       "  </tbody>\n",
       "</table>\n",
       "</div>"
      ],
      "text/plain": [
       "prognostico  bom  mau\n",
       "row_0                \n",
       "0              9    4\n",
       "1              1   16"
      ]
     },
     "execution_count": 15,
     "metadata": {},
     "output_type": "execute_result"
    }
   ],
   "source": [
    "pd.crosstab(model.predict(teste[attrs]),teste.prognostico)"
   ]
  },
  {
   "cell_type": "markdown",
   "metadata": {},
   "source": [
    "## Naive Bayes\n",
    "\n",
    "O classificador Naive Bayes é muito similar à análise de discriminante. Nas funções discriminantes acima, nosso maior interesse foi em avaliar o valor máximo de $P(X|Y=k)P(Y=k)$. Isso pois o denominador é independente da classe. O numerador, por outro lado, é equivalente a probabilidade conjunta de $X$ e $Y$. Assim, usando as propriedades de probabilidades condicionais e conjuntas, temos que\n",
    "\n",
    "\\begin{align}\n",
    "P(X|Y=k)P(Y=k) & = P(X,Y=k) = P(X_1,X_2,\\dots,X_p,Y=k) \\\\\n",
    "& = P(X_1~|~X_2,\\dots,X_p,Y=k)P(X_2,\\dots,X_p,Y=k) \\\\\n",
    "                                                     & = P(X_1~|~X_2,\\dots,X_p,Y=k)P(X_2|X_3,\\dots,X_p,Y=k)P(X_1~|~X_2,\\dots,X_p,Y=k)P(X_3,\\dots,X_p,Y=k) \\\\\n",
    "                                                     & = P(X_1~|~X_2,\\dots,X_p,Y=k)\\ldots P(X_p|Y=k)P(Y=k)\n",
    "\\end{align}\n",
    "\n",
    "O classificador Naive Bayes assume que os atributos são independentes entre si. Logo, o modelo pode ser reescrito como\n",
    "\n",
    "$$\n",
    "P(X|Y=k)P(Y=k) = P(X,Y=k) = P(Y=k)\\prod P(X_i~|~Y=k) \n",
    "$$\n",
    "\n",
    "Portanto, temos que a probabilidade condicional de $Y$ dado $X$ é\n",
    "\n",
    "$$\n",
    "P(Y=k~|~X) = P(Y=k)\\prod P(X_i~|~Y=k) \n",
    "$$\n",
    "\n",
    "Dessa forma, basta usarmos funções de densidade para estimarmos $P(X_i~|~Y=k)$ para ajustarmos o modelo."
   ]
  },
  {
   "cell_type": "code",
   "execution_count": 16,
   "metadata": {},
   "outputs": [
    {
     "data": {
      "text/plain": [
       "GaussianNB(priors=None)"
      ]
     },
     "execution_count": 16,
     "metadata": {},
     "output_type": "execute_result"
    }
   ],
   "source": [
    "from sklearn.naive_bayes import GaussianNB \n",
    "model = GaussianNB()\n",
    "model.fit(treino[attrs],treino.prognostico.map(lambda x: x=='mau' and 1 or 0))"
   ]
  },
  {
   "cell_type": "code",
   "execution_count": 17,
   "metadata": {},
   "outputs": [
    {
     "data": {
      "text/html": [
       "<div>\n",
       "<style scoped>\n",
       "    .dataframe tbody tr th:only-of-type {\n",
       "        vertical-align: middle;\n",
       "    }\n",
       "\n",
       "    .dataframe tbody tr th {\n",
       "        vertical-align: top;\n",
       "    }\n",
       "\n",
       "    .dataframe thead th {\n",
       "        text-align: right;\n",
       "    }\n",
       "</style>\n",
       "<table border=\"1\" class=\"dataframe\">\n",
       "  <thead>\n",
       "    <tr style=\"text-align: right;\">\n",
       "      <th>prognostico</th>\n",
       "      <th>bom</th>\n",
       "      <th>mau</th>\n",
       "    </tr>\n",
       "    <tr>\n",
       "      <th>row_0</th>\n",
       "      <th></th>\n",
       "      <th></th>\n",
       "    </tr>\n",
       "  </thead>\n",
       "  <tbody>\n",
       "    <tr>\n",
       "      <th>0</th>\n",
       "      <td>20</td>\n",
       "      <td>10</td>\n",
       "    </tr>\n",
       "    <tr>\n",
       "      <th>1</th>\n",
       "      <td>5</td>\n",
       "      <td>32</td>\n",
       "    </tr>\n",
       "  </tbody>\n",
       "</table>\n",
       "</div>"
      ],
      "text/plain": [
       "prognostico  bom  mau\n",
       "row_0                \n",
       "0             20   10\n",
       "1              5   32"
      ]
     },
     "execution_count": 17,
     "metadata": {},
     "output_type": "execute_result"
    }
   ],
   "source": [
    "pd.crosstab(model.predict(treino[attrs]),treino.prognostico)"
   ]
  },
  {
   "cell_type": "code",
   "execution_count": 18,
   "metadata": {},
   "outputs": [
    {
     "data": {
      "text/html": [
       "<div>\n",
       "<style scoped>\n",
       "    .dataframe tbody tr th:only-of-type {\n",
       "        vertical-align: middle;\n",
       "    }\n",
       "\n",
       "    .dataframe tbody tr th {\n",
       "        vertical-align: top;\n",
       "    }\n",
       "\n",
       "    .dataframe thead th {\n",
       "        text-align: right;\n",
       "    }\n",
       "</style>\n",
       "<table border=\"1\" class=\"dataframe\">\n",
       "  <thead>\n",
       "    <tr style=\"text-align: right;\">\n",
       "      <th>prognostico</th>\n",
       "      <th>bom</th>\n",
       "      <th>mau</th>\n",
       "    </tr>\n",
       "    <tr>\n",
       "      <th>row_0</th>\n",
       "      <th></th>\n",
       "      <th></th>\n",
       "    </tr>\n",
       "  </thead>\n",
       "  <tbody>\n",
       "    <tr>\n",
       "      <th>0</th>\n",
       "      <td>8</td>\n",
       "      <td>4</td>\n",
       "    </tr>\n",
       "    <tr>\n",
       "      <th>1</th>\n",
       "      <td>2</td>\n",
       "      <td>16</td>\n",
       "    </tr>\n",
       "  </tbody>\n",
       "</table>\n",
       "</div>"
      ],
      "text/plain": [
       "prognostico  bom  mau\n",
       "row_0                \n",
       "0              8    4\n",
       "1              2   16"
      ]
     },
     "execution_count": 18,
     "metadata": {},
     "output_type": "execute_result"
    }
   ],
   "source": [
    "pd.crosstab(model.predict(teste[attrs]),teste.prognostico)"
   ]
  },
  {
   "cell_type": "code",
   "execution_count": 19,
   "metadata": {},
   "outputs": [
    {
     "data": {
      "text/plain": [
       "array([[9.53588905e-01, 4.64110947e-02],\n",
       "       [9.95408406e-01, 4.59159404e-03],\n",
       "       [9.76165352e-01, 2.38346477e-02],\n",
       "       [7.37601945e-01, 2.62398055e-01],\n",
       "       [1.79112565e-03, 9.98208874e-01],\n",
       "       [8.97149447e-01, 1.02850553e-01],\n",
       "       [7.18938180e-01, 2.81061820e-01],\n",
       "       [9.60335980e-01, 3.96640200e-02],\n",
       "       [8.88610701e-01, 1.11389299e-01],\n",
       "       [9.46200543e-01, 5.37994570e-02],\n",
       "       [5.72224579e-01, 4.27775421e-01],\n",
       "       [6.60351546e-01, 3.39648454e-01],\n",
       "       [1.32114260e-02, 9.86788574e-01],\n",
       "       [2.76382583e-01, 7.23617417e-01],\n",
       "       [5.27991561e-01, 4.72008439e-01],\n",
       "       [4.42831638e-01, 5.57168362e-01],\n",
       "       [2.53924453e-01, 7.46075547e-01],\n",
       "       [2.38180110e-04, 9.99761820e-01],\n",
       "       [2.81004421e-01, 7.18995579e-01],\n",
       "       [5.51875580e-02, 9.44812442e-01],\n",
       "       [2.65690524e-05, 9.99973431e-01],\n",
       "       [6.94959536e-06, 9.99993050e-01],\n",
       "       [3.79873582e-01, 6.20126418e-01],\n",
       "       [1.91444839e-01, 8.08555161e-01],\n",
       "       [8.04275552e-02, 9.19572445e-01],\n",
       "       [1.10724257e-03, 9.98892757e-01],\n",
       "       [9.95984194e-03, 9.90040158e-01],\n",
       "       [1.96499576e-05, 9.99980350e-01],\n",
       "       [1.29463078e-07, 9.99999871e-01],\n",
       "       [2.21829688e-09, 9.99999998e-01]])"
      ]
     },
     "execution_count": 19,
     "metadata": {},
     "output_type": "execute_result"
    }
   ],
   "source": [
    "model.predict_proba(teste[attrs])"
   ]
  },
  {
   "cell_type": "markdown",
   "metadata": {},
   "source": [
    "## Gerando conjuntos de treinamento e teste com sklearn\n",
    "\n",
    "Uma funcionalidade bastante interessante em `sklearn` é a geração de conjuntos de treinamento e teste. Obviamente, você pode separá-los manualmente, mas o pacote auxilia nessa tarefa, permitindo inclusive a amostragem estratificada."
   ]
  },
  {
   "cell_type": "code",
   "execution_count": 19,
   "metadata": {},
   "outputs": [
    {
     "name": "stdout",
     "output_type": "stream",
     "text": [
      "(67, 5) 41 26\n",
      "(30, 5) 21 9\n"
     ]
    }
   ],
   "source": [
    "from sklearn.model_selection import train_test_split\n",
    "\n",
    "dados = prostate.drop('train',axis=1)\n",
    "X_train, X_test, y_train, y_test = train_test_split(\n",
    "    dados[attrs], dados.prognostico.map(lambda x: x=='mau' and 1 or 0), \n",
    "    test_size=0.3)\n",
    "\n",
    "print(X_train.shape, np.sum(y_train), y_train.shape[0]-np.sum(y_train))\n",
    "print(X_test.shape, np.sum(y_test), y_test.shape[0]-np.sum(y_test))"
   ]
  },
  {
   "cell_type": "markdown",
   "metadata": {},
   "source": [
    "## Validação cruzada com sklearn\n",
    "\n",
    "Outra funcionalidade de `sklearn` é a avaliação do modelo usando validação cruzada. O pacote fornece mecanismos para auxiliar na partição automática do conjunto de dados e na avaliação do modelo em cada partição. Em seguida, a função retorna os resultados obtidos para avaliação do usuário."
   ]
  },
  {
   "cell_type": "code",
   "execution_count": 20,
   "metadata": {},
   "outputs": [
    {
     "data": {
      "text/plain": [
       "array([ 0.5       ,  0.75      ,  0.78947368,  0.89473684,  0.63157895])"
      ]
     },
     "execution_count": 20,
     "metadata": {},
     "output_type": "execute_result"
    }
   ],
   "source": [
    "from sklearn.model_selection import cross_val_score\n",
    "model = GaussianNB()\n",
    "scores = cross_val_score(model, dados[attrs], \n",
    "                         dados.prognostico.map(lambda x: x=='mau' and 1 or 0), \n",
    "                         cv=5)\n",
    "scores "
   ]
  },
  {
   "cell_type": "markdown",
   "metadata": {},
   "source": [
    "Por padrão, a função `cross_val_score` avalia a acurácia em cada fold. Contudo, o pacote permite que outras funções de avaliação sejam usada. Basta indicar uma das funções disponíveis em http://scikit-learn.org/stable/modules/model_evaluation.html#scoring-parameter como parâmetro. No exemplo a seguir, usamos a sensitividade como função de avaliação."
   ]
  },
  {
   "cell_type": "code",
   "execution_count": 23,
   "metadata": {},
   "outputs": [
    {
     "data": {
      "text/plain": [
       "array([ 0.53846154,  0.84615385,  0.83333333,  0.91666667,  0.83333333])"
      ]
     },
     "execution_count": 23,
     "metadata": {},
     "output_type": "execute_result"
    }
   ],
   "source": [
    "from sklearn.model_selection import StratifiedKFold\n",
    "scores = cross_val_score(model, dados[attrs], \n",
    "                         dados.prognostico.map(lambda x: x=='mau' and 1 or 0),\n",
    "                         scoring='recall',\n",
    "                         cv=StratifiedKFold(5,shuffle=True,random_state=18))\n",
    "scores "
   ]
  },
  {
   "cell_type": "code",
   "execution_count": null,
   "metadata": {
    "collapsed": true
   },
   "outputs": [],
   "source": []
  },
  {
   "cell_type": "code",
   "execution_count": null,
   "metadata": {
    "collapsed": true
   },
   "outputs": [],
   "source": []
  }
 ],
 "metadata": {
  "kernelspec": {
   "display_name": "Python 3",
   "language": "python",
   "name": "python3"
  },
  "language_info": {
   "codemirror_mode": {
    "name": "ipython",
    "version": 3
   },
   "file_extension": ".py",
   "mimetype": "text/x-python",
   "name": "python",
   "nbconvert_exporter": "python",
   "pygments_lexer": "ipython3",
   "version": "3.6.3"
  }
 },
 "nbformat": 4,
 "nbformat_minor": 2
}
