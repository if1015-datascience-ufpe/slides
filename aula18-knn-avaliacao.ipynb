{
 "cells": [
  {
   "cell_type": "markdown",
   "metadata": {},
   "source": [
    "# Aula 18 &mdash; Classificação pelos K vizinhos mais próximos e Métricas de avaliação\n",
    "\n",
    "Renato Vimieiro\n",
    "\n",
    "rv2 {em} cin.ufpe.br\n",
    "\n",
    "maio 2017"
   ]
  },
  {
   "cell_type": "markdown",
   "metadata": {},
   "source": [
    "## KNN &dash; K vizinhos mais próximos\n",
    "\n",
    "O método supervisionado de classificação pelos $k$ vizinhos mais próximos é talvez o método mais simples de classificação. Como vimos os classificadores Naive Bayes e Análise de discriminantes consistem em ajustar modelos para estimar a probabilidade condicional $P(c_i~|~X)$. Os classificadores para isso supunham que os atributos seguiam alguma distribuição pré-definida (e.g. normal). O KNN, por outro lado, estima essa probabilidade a partir dos dados. A ideia é usar os $k$ vizinhos mais próximos da amostra a ser classificada para tomar a decisão.\n",
    "\n",
    "A definição de vizinhos mais próximos é dada por uma função de distância (em geral, Euclidiana, mas qualquer distância é válida). A distância $\\delta(X,X_i)$ é a distância Euclidiana entre a amostra a ser classificada $X$ e uma amostra do conjunto de treinamento $X_i$ no espaço p-dimensional. Mais precisamente,\n",
    "\n",
    "$$\n",
    "\\delta(X,X_i) = ||X-X_i||_2 = \\sqrt{\\sum (X_j - X_{ij})^2}\n",
    "$$\n",
    "\n",
    "Pode-se demonstrar (ver Zaki e Meira Jr. seção 18.3) que \n",
    "\n",
    "$$\n",
    "P(c_i~|~X) = \\frac{K_i}{K}\n",
    "$$\n",
    "\n",
    "onde $K_i$ é a quantidade de vizinhos da classe $c_i$ entre os $K$ vizinhos mais próximos de $X$.\n",
    "\n",
    "Logo, a classe predita para a amostra $X$ é\n",
    "\n",
    "$$\n",
    "\\hat{y} = argmax{P(c_i~|~X)} = argmax{\\frac{K_i}{K}} = argmax{K_i}\n",
    "$$\n",
    "\n",
    "Em outras palavras, o kNN atribui a $X$ a classe da maioria de seus vizinhos mais próximos."
   ]
  },
  {
   "cell_type": "code",
   "execution_count": 1,
   "metadata": {
    "collapsed": true
   },
   "outputs": [],
   "source": [
    "import pandas as pd\n",
    "import numpy as np\n",
    "import seaborn as sns\n",
    "import matplotlib.pyplot as plt\n",
    "\n",
    "%matplotlib inline"
   ]
  },
  {
   "cell_type": "code",
   "execution_count": 22,
   "metadata": {
    "collapsed": true
   },
   "outputs": [],
   "source": [
    "prostate = pd.read_csv(\"https://web.stanford.edu/~hastie/ElemStatLearn/datasets/prostate.data\",\n",
    "                       header=0,index_col=0,sep='\\t')\n",
    "prostate['prognostico'] = prostate.gleason.map(lambda x: x >=7 and 'mau' or 'bom')\n",
    "treino = prostate[prostate.train=='T'].drop('train',axis=1)\n",
    "teste = prostate[prostate.train=='F'].drop('train',axis=1)"
   ]
  },
  {
   "cell_type": "code",
   "execution_count": 23,
   "metadata": {},
   "outputs": [
    {
     "data": {
      "text/plain": [
       "KNeighborsClassifier(algorithm='auto', leaf_size=30, metric='minkowski',\n",
       "           metric_params=None, n_jobs=1, n_neighbors=4, p=2,\n",
       "           weights='uniform')"
      ]
     },
     "execution_count": 23,
     "metadata": {},
     "output_type": "execute_result"
    }
   ],
   "source": [
    "from sklearn.neighbors import KNeighborsClassifier\n",
    "model = KNeighborsClassifier(n_neighbors=4)\n",
    "attrs = ['lpsa','lcavol','lweight','lcp','lbph','svi']\n",
    "model.fit(treino[attrs],treino.prognostico.map(lambda x: x=='mau' and 1 or 0))"
   ]
  },
  {
   "cell_type": "code",
   "execution_count": 24,
   "metadata": {},
   "outputs": [
    {
     "data": {
      "text/html": [
       "<div>\n",
       "<table border=\"1\" class=\"dataframe\">\n",
       "  <thead>\n",
       "    <tr style=\"text-align: right;\">\n",
       "      <th>prognostico</th>\n",
       "      <th>bom</th>\n",
       "      <th>mau</th>\n",
       "    </tr>\n",
       "    <tr>\n",
       "      <th>row_0</th>\n",
       "      <th></th>\n",
       "      <th></th>\n",
       "    </tr>\n",
       "  </thead>\n",
       "  <tbody>\n",
       "    <tr>\n",
       "      <th>0</th>\n",
       "      <td>20</td>\n",
       "      <td>10</td>\n",
       "    </tr>\n",
       "    <tr>\n",
       "      <th>1</th>\n",
       "      <td>5</td>\n",
       "      <td>32</td>\n",
       "    </tr>\n",
       "  </tbody>\n",
       "</table>\n",
       "</div>"
      ],
      "text/plain": [
       "prognostico  bom  mau\n",
       "row_0                \n",
       "0             20   10\n",
       "1              5   32"
      ]
     },
     "execution_count": 24,
     "metadata": {},
     "output_type": "execute_result"
    }
   ],
   "source": [
    "pd.crosstab(model.predict(treino[attrs]),treino.prognostico)"
   ]
  },
  {
   "cell_type": "code",
   "execution_count": 25,
   "metadata": {},
   "outputs": [
    {
     "data": {
      "text/html": [
       "<div>\n",
       "<table border=\"1\" class=\"dataframe\">\n",
       "  <thead>\n",
       "    <tr style=\"text-align: right;\">\n",
       "      <th>prognostico</th>\n",
       "      <th>bom</th>\n",
       "      <th>mau</th>\n",
       "    </tr>\n",
       "    <tr>\n",
       "      <th>row_0</th>\n",
       "      <th></th>\n",
       "      <th></th>\n",
       "    </tr>\n",
       "  </thead>\n",
       "  <tbody>\n",
       "    <tr>\n",
       "      <th>0</th>\n",
       "      <td>8</td>\n",
       "      <td>7</td>\n",
       "    </tr>\n",
       "    <tr>\n",
       "      <th>1</th>\n",
       "      <td>2</td>\n",
       "      <td>13</td>\n",
       "    </tr>\n",
       "  </tbody>\n",
       "</table>\n",
       "</div>"
      ],
      "text/plain": [
       "prognostico  bom  mau\n",
       "row_0                \n",
       "0              8    7\n",
       "1              2   13"
      ]
     },
     "execution_count": 25,
     "metadata": {},
     "output_type": "execute_result"
    }
   ],
   "source": [
    "pd.crosstab(model.predict(teste[attrs]),teste.prognostico)"
   ]
  },
  {
   "cell_type": "markdown",
   "metadata": {},
   "source": [
    "## Métricas de avaliação de classificadores\n",
    "\n",
    "Como havíamos discutido antes, a tabela de contingência nos permite calcular diversas métricas de qualidade. Segue uma lista das métricas mais usadas\n",
    "\n",
    "- **acurácia**: $(TP+TN)/(TP+FP+TN+FN)$\n",
    "- **taxa de erro**: $(FP+FN)/(TP+FP+TN+FN)$\n",
    "- **precisão**: $TP/(TP+FP)$\n",
    "- **revocação/cobertura/sensitividade**: $TP/(TP+FN)$\n",
    "- **especificidade**: $TN/(FP+TN)$\n",
    "- **F-measure**: $2(precisao*sensitividade)/(precisao + sensitividade) = 2TP/(2TP+FP+FN)$ (média harmônica da precisão e sensitividade)\n",
    "- **MCC (Matthew's Correlation Coefficient)**: $(TP*TN-FP*FN)/\\sqrt{(TP+FP)(TP+FN)(TN+FP)(TN+FN)}$ \n",
    "\n",
    "A F-measure é uma boa métrica de avaliação pois leva em consideração a precisão do modelo em classificar corretamente as amostras positivas (mostra o quanto ele acerta e quantas amostras positivas ele classifica como tal). Seu valor máximo é 1, exatamente quando o modelo consegue classificar corretamente todas as amostras (FP=FN=0).\n",
    "\n",
    "O MCC também é bastante valioso principalmente quando há um desbalanço na distribuição das classes. Seu valor varia de -1 a +1, sendo +1 perfeita classificação, 0 aleatória, e -1 classificação completamente oposta.\n",
    "\n",
    "A maior parte dessas métricas podem ser computadas diretamente em `sklearn`."
   ]
  },
  {
   "cell_type": "code",
   "execution_count": 26,
   "metadata": {},
   "outputs": [
    {
     "name": "stdout",
     "output_type": "stream",
     "text": [
      "             precision    recall  f1-score   support\n",
      "\n",
      "        bom       0.67      0.80      0.73        25\n",
      "        mau       0.86      0.76      0.81        42\n",
      "\n",
      "avg / total       0.79      0.78      0.78        67\n",
      "\n",
      "MCC treino = 0.547, Acuracia treino = 0.776\n",
      "             precision    recall  f1-score   support\n",
      "\n",
      "        bom       0.53      0.80      0.64        10\n",
      "        mau       0.87      0.65      0.74        20\n",
      "\n",
      "avg / total       0.76      0.70      0.71        30\n",
      "\n",
      "MCC teste = 0.424, Acuracia teste = 0.700\n"
     ]
    }
   ],
   "source": [
    "from sklearn.metrics import matthews_corrcoef, classification_report, accuracy_score, roc_curve, roc_auc_score\n",
    "pred_teste = model.predict(teste[attrs])\n",
    "pred_treino = model.predict(treino[attrs])\n",
    "real_teste = teste.prognostico.map(lambda x: x=='mau' and 1 or 0)\n",
    "real_treino = treino.prognostico.map(lambda x: x=='mau' and 1 or 0)\n",
    "print(classification_report(real_treino,pred_treino,target_names=['bom','mau']))\n",
    "print('MCC treino = {:.3f}, Acuracia treino = {:.3f}'.format(matthews_corrcoef(real_treino,pred_treino),\n",
    "                                                            accuracy_score(real_treino,pred_treino)))\n",
    "print(classification_report(real_teste,pred_teste,target_names=['bom','mau']))\n",
    "print('MCC teste = {:.3f}, Acuracia teste = {:.3f}'.format(matthews_corrcoef(real_teste,pred_teste),\n",
    "                                                            accuracy_score(real_teste,pred_teste)))"
   ]
  },
  {
   "cell_type": "markdown",
   "metadata": {},
   "source": [
    "Outra métrica muito popular é a curva ROC (Receive Operating Characteristic). Essa curva mostra a relação entre a proporção de verdadeiros positivos (sensibilidade) e falsos positivos (FPR=FP/FP+TN) quando se varia os limiares de corte para classificação. Como vimos, alguns modelos usam um limiar na probabilidade condicional $P(c_i~|~X)$ para classificar as amostras como positivas e negativas. Cada limiar escolhido resulta em um valor de sensibilidade e FPR. Os limiares são escolhidos com base nas probabilidades de pertencerem à classe positiva das $m$ amostras. Os valores são variados da menor pra maior probabilidade."
   ]
  },
  {
   "cell_type": "code",
   "execution_count": 46,
   "metadata": {},
   "outputs": [
    {
     "data": {
      "image/png": "[encoded data removed]",
      "text/plain": [
       "<matplotlib.figure.Figure at 0x118b39668>"
      ]
     },
     "metadata": {},
     "output_type": "display_data"
    }
   ],
   "source": [
    "fpr, tpr, thresholds = roc_curve(treino.prognostico.map(lambda x: x=='mau' and 1 or 0),\n",
    "                                 model.predict_proba(treino[attrs])[:,1],\n",
    "                                 drop_intermediate=False)\n",
    "plt.plot(fpr,tpr, marker='o',drawstyle='steps')\n",
    "plt.plot(fpr,fpr,linestyle='--')\n",
    "plt.plot(fpr,thresholds,marker='d',color='red')\n",
    "plt.xlim([-0.01, 1.05])\n",
    "plt.ylim([0.0, 1.05])\n",
    "plt.xlabel('False Positive Rate')\n",
    "plt.ylabel('True Positive Rate');"
   ]
  },
  {
   "cell_type": "markdown",
   "metadata": {},
   "source": [
    "Podemos interpretar esse gráfico da seguinte forma. O ideal é estarmos o mais próximo possível do canto esquerdo superior. Pontos acima da linha tracejada indicam uma predição melhor que aleatória (sobre a linha). Finalmente, podemos resumir o desempenho do classificador calculando a área sob a curva ROC (AUC). Como a área do gráfico é 1, a AUC será um valor entre 0 e 1."
   ]
  },
  {
   "cell_type": "code",
   "execution_count": 11,
   "metadata": {},
   "outputs": [
    {
     "data": {
      "text/plain": [
       "0.86749999999999994"
      ]
     },
     "execution_count": 11,
     "metadata": {},
     "output_type": "execute_result"
    }
   ],
   "source": [
    "from sklearn.metrics import roc_auc_score\n",
    "roc_auc_score(teste.prognostico.map(lambda x: x=='mau' and 1 or 0),\n",
    "                                 model.predict_proba(teste[attrs])[:,1])"
   ]
  },
  {
   "cell_type": "markdown",
   "metadata": {},
   "source": [
    "Assim, como o valor é próximo de 1, concluimos que o classificador teve um bom desempenho.\n",
    "\n",
    "Finalmente, podemos avaliar o desempenho do classificador testando a hipótese de que a classe predita e a classe real são independentes e não estão relacionadas. Para isso, podemos usa o teste do $\\chi^2$.\n",
    "\n",
    "O teste avalia se a diferença entre os valores observados e esperados (sob a hipótese de independência) na tabela de contigência através da estatística $\\chi^2$.\n",
    "\n",
    "O valor esperado para a célula $E_{ij}$ é dado por\n",
    "\n",
    "$$\n",
    "E_{ij} = \\frac{R_iC_j}{N}\n",
    "$$\n",
    "\n",
    "A estatística $\\chi^2$ é dada por\n",
    "\n",
    "$$\n",
    "\\chi^2 = \\sum_i^k\\sum_j^k\\frac{(O_{ij}-E_{ij})^2}{E_{ij}}\n",
    "$$\n",
    "\n",
    "Depois avalia-se a probabilidade de se observar uma estatística tão alta quanto a calculada usando a distribuição $\\chi^2$. Se o valor for suficientemente pequeno, rejeita-se a hipótese nula, ou seja, aceita-se que existe relação entre as classes preditas e reais."
   ]
  },
  {
   "cell_type": "code",
   "execution_count": 12,
   "metadata": {},
   "outputs": [
    {
     "name": "stdout",
     "output_type": "stream",
     "text": [
      "prognostico  bom  mau\n",
      "row_0                \n",
      "0              8    7\n",
      "1              2   13\n",
      "[10 20]\n",
      "[15 15]\n"
     ]
    }
   ],
   "source": [
    "tabcont = pd.crosstab(model.predict(teste[attrs]),teste.prognostico)\n",
    "print(tabcont)\n",
    "cols = tabcont.sum(axis=0).values\n",
    "print(cols)\n",
    "rows = tabcont.sum(axis=1).values\n",
    "print(rows)"
   ]
  },
  {
   "cell_type": "code",
   "execution_count": 13,
   "metadata": {},
   "outputs": [
    {
     "data": {
      "text/plain": [
       "array([[  5.,  10.],\n",
       "       [  5.,  10.]])"
      ]
     },
     "execution_count": 13,
     "metadata": {},
     "output_type": "execute_result"
    }
   ],
   "source": [
    "exp = np.fromiter([cols[j]*rows[i]/np.sum(cols) for i in [0,1] for j in [0,1]],dtype='float').reshape(2,2)\n",
    "exp"
   ]
  },
  {
   "cell_type": "code",
   "execution_count": 14,
   "metadata": {},
   "outputs": [
    {
     "data": {
      "text/plain": [
       "5.4000000000000004"
      ]
     },
     "execution_count": 14,
     "metadata": {},
     "output_type": "execute_result"
    }
   ],
   "source": [
    "chisq = np.sum((tabcont.values-exp)**2/exp)\n",
    "chisq"
   ]
  },
  {
   "cell_type": "code",
   "execution_count": 15,
   "metadata": {},
   "outputs": [
    {
     "data": {
      "text/plain": [
       "0.020136751550346329"
      ]
     },
     "execution_count": 15,
     "metadata": {},
     "output_type": "execute_result"
    }
   ],
   "source": [
    "from scipy.stats import chi2_contingency\n",
    "from scipy.stats.distributions import chi2\n",
    "chi2.sf(chisq,df=1)"
   ]
  },
  {
   "cell_type": "code",
   "execution_count": 16,
   "metadata": {},
   "outputs": [
    {
     "data": {
      "text/plain": [
       "(5.4000000000000004, 0.020136751550346329, 1, array([[  5.,  10.],\n",
       "        [  5.,  10.]]))"
      ]
     },
     "execution_count": 16,
     "metadata": {},
     "output_type": "execute_result"
    }
   ],
   "source": [
    "chi2_contingency(tabcont.values,correction=False)"
   ]
  },
  {
   "cell_type": "markdown",
   "metadata": {},
   "source": [
    "Como o p-value é menor que 0.05, rejeitamos a hipótese de independência e concluimos que há relação entre o valor predito e o valor real."
   ]
  },
  {
   "cell_type": "markdown",
   "metadata": {},
   "source": [
    "## Investigando a correção dos rótulos\n",
    "\n",
    "Todas as métricas de qualidade discutidas acima assumem que os rótulos do conjunto de treinamento são corretos. Podemos analisar a correção dos rótulos, avaliando a concordância na atribuição dos rótulos por vários classificadores. Se houver alta concordância na atribuição dos rótulos, temos mais indícios de que os rótulos são corretos.\n",
    "\n",
    "Existem diversas métricas para se quantificar o nível de concordância entre os rótulos atribuidos por diversos codificadores (classificadores). Entre essas métricas as mais conhecidas são [Fleiss Kappa](https://en.wikipedia.org/wiki/Fleiss%27_kappa) e [Krippendorf alpha](https://en.wikipedia.org/wiki/Krippendorff%27s_alpha).\n",
    "\n",
    "O Fleiss Kappa possui uma escala de valores associados que facilita sua compreensão (veja o artigo da Wikipedia). Logo, focaremos nela nessa aula. Imagine que possuimos $n$ amostras que serão classificadas em $k$ classes por $m$ codificadores. O Fleiss Kappa informa o quanto a probabilidade/proporção média de concordância desvia do valor esperado. Formalmente,\n",
    "\n",
    "$$\n",
    "\\kappa = \\frac{\\bar{P}-\\bar{P_e}}{1-\\bar{P_e}}\n",
    "$$\n",
    "\n",
    "A probabilidade de concordância esperada é o valor esperado sobre todas as classes\n",
    "\n",
    "$$\n",
    "\\bar{P_e} = \\sum_j^k p_j^2 = \\sum_j^k(\\frac{1}{nm} \\sum_i n_{ij})^2\n",
    "$$\n",
    "onde $n_{ij}$ é a quantidade de codificadores que assinalaram a classe $j$ ao exemplo $i$.\n",
    "\n",
    "A probabilidade de concordância observada para cada amostra é dada pela proporção de pares de classificadores que concordam na atribuição da classe sobre o total de pares.\n",
    "\n",
    "$$\n",
    "P_i = \\frac{1}{m(m-1)}\\sum_j^km_{ij}(m_{ij}-1)\n",
    "$$\n",
    "\n",
    "Assim, a probabilidade de concordância média observada é dada por:\n",
    "\n",
    "$$\n",
    "\\bar{P} = \\frac{1}{n}\\sum P_i = \\frac{1}{n}\\sum_i^n\\frac{1}{m(m-1)}\\sum_j^km_{ij}(m_{ij}-1) = \\frac{1}{nm(m-1)}\\sum_i^n\\sum_j^km_{ij}^2-nm\n",
    "$$\n",
    "\n",
    "Quando $\\bar{P}$ é menor ou igual a $\\bar{P_e}$, temos uma concordância simplesmente por chance e $\\kappa \\leq 0$. Por outro lado, $\\kappa = 1$ indica que todos os classificadores concordam com as classes atribuídas. A escala de interpretação proposta por [Landis e Koch (1977)](www.jstor.org/stable/2529310) é a seguinte:\n",
    "\n",
    "\n",
    "| ${\\displaystyle \\kappa }$ | Interpretation |\n",
    "|-------------------------|----------------|\n",
    "|< 0 |\tPoor agreement|\n",
    "|0.01 – 0.20 |\tSlight agreement|\n",
    "|0.21 – 0.40 |\tFair agreement|\n",
    "|0.41 – 0.60 |\tModerate agreement|\n",
    "|0.61 – 0.80 |\tSubstantial agreement|\n",
    "|0.81 – 1.00 |\tAlmost perfect agreement|\n",
    "\n",
    "Podemos aplicar essa metodologia para avaliar os rótulos das amostras de nosso exemplo. Para isso, vamos avaliar a concordância de várias classificadores e a classe real."
   ]
  },
  {
   "cell_type": "code",
   "execution_count": 47,
   "metadata": {},
   "outputs": [
    {
     "data": {
      "text/html": [
       "<div>\n",
       "<table border=\"1\" class=\"dataframe\">\n",
       "  <thead>\n",
       "    <tr style=\"text-align: right;\">\n",
       "      <th></th>\n",
       "      <th>DecisionTreeClassifier</th>\n",
       "      <th>ExtraTreesClassifier</th>\n",
       "      <th>GaussianNB</th>\n",
       "      <th>KNeighborsClassifier</th>\n",
       "      <th>LogisticRegression</th>\n",
       "      <th>RandomForestClassifier</th>\n",
       "      <th>prognostico</th>\n",
       "    </tr>\n",
       "  </thead>\n",
       "  <tbody>\n",
       "    <tr>\n",
       "      <th>1</th>\n",
       "      <td>0</td>\n",
       "      <td>0</td>\n",
       "      <td>0</td>\n",
       "      <td>0</td>\n",
       "      <td>0</td>\n",
       "      <td>0</td>\n",
       "      <td>0</td>\n",
       "    </tr>\n",
       "    <tr>\n",
       "      <th>2</th>\n",
       "      <td>0</td>\n",
       "      <td>0</td>\n",
       "      <td>0</td>\n",
       "      <td>0</td>\n",
       "      <td>0</td>\n",
       "      <td>0</td>\n",
       "      <td>0</td>\n",
       "    </tr>\n",
       "    <tr>\n",
       "      <th>3</th>\n",
       "      <td>1</td>\n",
       "      <td>0</td>\n",
       "      <td>0</td>\n",
       "      <td>0</td>\n",
       "      <td>0</td>\n",
       "      <td>0</td>\n",
       "      <td>1</td>\n",
       "    </tr>\n",
       "    <tr>\n",
       "      <th>4</th>\n",
       "      <td>0</td>\n",
       "      <td>0</td>\n",
       "      <td>0</td>\n",
       "      <td>0</td>\n",
       "      <td>0</td>\n",
       "      <td>0</td>\n",
       "      <td>0</td>\n",
       "    </tr>\n",
       "    <tr>\n",
       "      <th>5</th>\n",
       "      <td>0</td>\n",
       "      <td>0</td>\n",
       "      <td>0</td>\n",
       "      <td>0</td>\n",
       "      <td>0</td>\n",
       "      <td>0</td>\n",
       "      <td>0</td>\n",
       "    </tr>\n",
       "    <tr>\n",
       "      <th>6</th>\n",
       "      <td>0</td>\n",
       "      <td>0</td>\n",
       "      <td>0</td>\n",
       "      <td>0</td>\n",
       "      <td>0</td>\n",
       "      <td>0</td>\n",
       "      <td>0</td>\n",
       "    </tr>\n",
       "    <tr>\n",
       "      <th>8</th>\n",
       "      <td>0</td>\n",
       "      <td>0</td>\n",
       "      <td>0</td>\n",
       "      <td>0</td>\n",
       "      <td>0</td>\n",
       "      <td>0</td>\n",
       "      <td>0</td>\n",
       "    </tr>\n",
       "    <tr>\n",
       "      <th>11</th>\n",
       "      <td>0</td>\n",
       "      <td>0</td>\n",
       "      <td>0</td>\n",
       "      <td>0</td>\n",
       "      <td>0</td>\n",
       "      <td>0</td>\n",
       "      <td>0</td>\n",
       "    </tr>\n",
       "    <tr>\n",
       "      <th>12</th>\n",
       "      <td>0</td>\n",
       "      <td>0</td>\n",
       "      <td>0</td>\n",
       "      <td>0</td>\n",
       "      <td>0</td>\n",
       "      <td>0</td>\n",
       "      <td>0</td>\n",
       "    </tr>\n",
       "    <tr>\n",
       "      <th>13</th>\n",
       "      <td>1</td>\n",
       "      <td>1</td>\n",
       "      <td>0</td>\n",
       "      <td>1</td>\n",
       "      <td>0</td>\n",
       "      <td>1</td>\n",
       "      <td>1</td>\n",
       "    </tr>\n",
       "  </tbody>\n",
       "</table>\n",
       "</div>"
      ],
      "text/plain": [
       "    DecisionTreeClassifier  ExtraTreesClassifier  GaussianNB  \\\n",
       "1                        0                     0           0   \n",
       "2                        0                     0           0   \n",
       "3                        1                     0           0   \n",
       "4                        0                     0           0   \n",
       "5                        0                     0           0   \n",
       "6                        0                     0           0   \n",
       "8                        0                     0           0   \n",
       "11                       0                     0           0   \n",
       "12                       0                     0           0   \n",
       "13                       1                     1           0   \n",
       "\n",
       "    KNeighborsClassifier  LogisticRegression  RandomForestClassifier  \\\n",
       "1                      0                   0                       0   \n",
       "2                      0                   0                       0   \n",
       "3                      0                   0                       0   \n",
       "4                      0                   0                       0   \n",
       "5                      0                   0                       0   \n",
       "6                      0                   0                       0   \n",
       "8                      0                   0                       0   \n",
       "11                     0                   0                       0   \n",
       "12                     0                   0                       0   \n",
       "13                     1                   0                       1   \n",
       "\n",
       "    prognostico  \n",
       "1             0  \n",
       "2             0  \n",
       "3             1  \n",
       "4             0  \n",
       "5             0  \n",
       "6             0  \n",
       "8             0  \n",
       "11            0  \n",
       "12            0  \n",
       "13            1  "
      ]
     },
     "execution_count": 47,
     "metadata": {},
     "output_type": "execute_result"
    }
   ],
   "source": [
    "from sklearn.tree import DecisionTreeClassifier\n",
    "from sklearn.ensemble import RandomForestClassifier, ExtraTreesClassifier\n",
    "from sklearn.linear_model import LogisticRegression\n",
    "from sklearn.naive_bayes import GaussianNB\n",
    "\n",
    "models = [DecisionTreeClassifier(), RandomForestClassifier(min_samples_leaf=5,n_estimators=100),\n",
    "         ExtraTreesClassifier(min_samples_leaf=5,n_estimators=100),LogisticRegression(), GaussianNB(),\n",
    "         KNeighborsClassifier(n_neighbors=3)]\n",
    "attrs = ['lpsa','lcavol','lweight','lcp','lbph']\n",
    "models = map(lambda x: x.fit(treino[attrs],\n",
    "                             treino.prognostico.map(lambda x: x=='mau' and 1 or 0)), models)\n",
    "import re\n",
    "prediction = pd.DataFrame(dict(map(lambda x: (re.sub('.*\\.','',str(type(x))).rstrip(\"'>\"),\n",
    "                                              x.predict(treino[attrs])),models)))\n",
    "prediction['prognostico'] = treino.prognostico.map(lambda x: x=='mau' and 1 or 0).values\n",
    "prediction.index = treino.index\n",
    "prediction.head(10)"
   ]
  },
  {
   "cell_type": "code",
   "execution_count": 18,
   "metadata": {},
   "outputs": [
    {
     "data": {
      "text/plain": [
       "0.6813079161745185"
      ]
     },
     "execution_count": 18,
     "metadata": {},
     "output_type": "execute_result"
    }
   ],
   "source": [
    "from nltk.metrics.agreement import AnnotationTask\n",
    "at = AnnotationTask(data=[(coder,item,prediction.loc[item,coder]) for coder in prediction.columns for item in prediction.index])\n",
    "at.kappa()"
   ]
  },
  {
   "cell_type": "markdown",
   "metadata": {},
   "source": [
    "De acordo com a tabela, temos concordância substancial acerca dos rótulos atribuídos pelos codificadores.\n",
    "De qualquer forma, podemos ainda verificar quais são as amostras onde houve maior discordância entre os classificadores e o rótulo real, e no geral."
   ]
  },
  {
   "cell_type": "code",
   "execution_count": 19,
   "metadata": {},
   "outputs": [
    {
     "data": {
      "text/html": [
       "<div>\n",
       "<table border=\"1\" class=\"dataframe\">\n",
       "  <thead>\n",
       "    <tr style=\"text-align: right;\">\n",
       "      <th></th>\n",
       "      <th>0</th>\n",
       "      <th>1</th>\n",
       "    </tr>\n",
       "  </thead>\n",
       "  <tbody>\n",
       "    <tr>\n",
       "      <th>3</th>\n",
       "      <td>5.0</td>\n",
       "      <td>2.0</td>\n",
       "    </tr>\n",
       "    <tr>\n",
       "      <th>13</th>\n",
       "      <td>2.0</td>\n",
       "      <td>5.0</td>\n",
       "    </tr>\n",
       "    <tr>\n",
       "      <th>14</th>\n",
       "      <td>4.0</td>\n",
       "      <td>3.0</td>\n",
       "    </tr>\n",
       "    <tr>\n",
       "      <th>16</th>\n",
       "      <td>6.0</td>\n",
       "      <td>1.0</td>\n",
       "    </tr>\n",
       "    <tr>\n",
       "      <th>17</th>\n",
       "      <td>5.0</td>\n",
       "      <td>2.0</td>\n",
       "    </tr>\n",
       "    <tr>\n",
       "      <th>18</th>\n",
       "      <td>3.0</td>\n",
       "      <td>4.0</td>\n",
       "    </tr>\n",
       "    <tr>\n",
       "      <th>27</th>\n",
       "      <td>4.0</td>\n",
       "      <td>3.0</td>\n",
       "    </tr>\n",
       "    <tr>\n",
       "      <th>30</th>\n",
       "      <td>2.0</td>\n",
       "      <td>5.0</td>\n",
       "    </tr>\n",
       "    <tr>\n",
       "      <th>33</th>\n",
       "      <td>3.0</td>\n",
       "      <td>4.0</td>\n",
       "    </tr>\n",
       "    <tr>\n",
       "      <th>35</th>\n",
       "      <td>6.0</td>\n",
       "      <td>1.0</td>\n",
       "    </tr>\n",
       "    <tr>\n",
       "      <th>38</th>\n",
       "      <td>1.0</td>\n",
       "      <td>6.0</td>\n",
       "    </tr>\n",
       "    <tr>\n",
       "      <th>41</th>\n",
       "      <td>2.0</td>\n",
       "      <td>5.0</td>\n",
       "    </tr>\n",
       "    <tr>\n",
       "      <th>43</th>\n",
       "      <td>4.0</td>\n",
       "      <td>3.0</td>\n",
       "    </tr>\n",
       "    <tr>\n",
       "      <th>51</th>\n",
       "      <td>2.0</td>\n",
       "      <td>5.0</td>\n",
       "    </tr>\n",
       "    <tr>\n",
       "      <th>52</th>\n",
       "      <td>2.0</td>\n",
       "      <td>5.0</td>\n",
       "    </tr>\n",
       "    <tr>\n",
       "      <th>58</th>\n",
       "      <td>4.0</td>\n",
       "      <td>3.0</td>\n",
       "    </tr>\n",
       "    <tr>\n",
       "      <th>59</th>\n",
       "      <td>2.0</td>\n",
       "      <td>5.0</td>\n",
       "    </tr>\n",
       "    <tr>\n",
       "      <th>60</th>\n",
       "      <td>1.0</td>\n",
       "      <td>6.0</td>\n",
       "    </tr>\n",
       "    <tr>\n",
       "      <th>61</th>\n",
       "      <td>5.0</td>\n",
       "      <td>2.0</td>\n",
       "    </tr>\n",
       "    <tr>\n",
       "      <th>87</th>\n",
       "      <td>2.0</td>\n",
       "      <td>5.0</td>\n",
       "    </tr>\n",
       "    <tr>\n",
       "      <th>91</th>\n",
       "      <td>2.0</td>\n",
       "      <td>5.0</td>\n",
       "    </tr>\n",
       "  </tbody>\n",
       "</table>\n",
       "</div>"
      ],
      "text/plain": [
       "      0    1\n",
       "3   5.0  2.0\n",
       "13  2.0  5.0\n",
       "14  4.0  3.0\n",
       "16  6.0  1.0\n",
       "17  5.0  2.0\n",
       "18  3.0  4.0\n",
       "27  4.0  3.0\n",
       "30  2.0  5.0\n",
       "33  3.0  4.0\n",
       "35  6.0  1.0\n",
       "38  1.0  6.0\n",
       "41  2.0  5.0\n",
       "43  4.0  3.0\n",
       "51  2.0  5.0\n",
       "52  2.0  5.0\n",
       "58  4.0  3.0\n",
       "59  2.0  5.0\n",
       "60  1.0  6.0\n",
       "61  5.0  2.0\n",
       "87  2.0  5.0\n",
       "91  2.0  5.0"
      ]
     },
     "execution_count": 19,
     "metadata": {},
     "output_type": "execute_result"
    }
   ],
   "source": [
    "geral = prediction.apply(lambda x: x.value_counts(),axis=1).dropna()\n",
    "geral"
   ]
  },
  {
   "cell_type": "code",
   "execution_count": 20,
   "metadata": {},
   "outputs": [
    {
     "data": {
      "text/html": [
       "<div>\n",
       "<table border=\"1\" class=\"dataframe\">\n",
       "  <thead>\n",
       "    <tr style=\"text-align: right;\">\n",
       "      <th></th>\n",
       "      <th>gleason</th>\n",
       "      <th>prognostico</th>\n",
       "      <th>0</th>\n",
       "      <th>1</th>\n",
       "    </tr>\n",
       "  </thead>\n",
       "  <tbody>\n",
       "    <tr>\n",
       "      <th>3</th>\n",
       "      <td>7</td>\n",
       "      <td>mau</td>\n",
       "      <td>5.0</td>\n",
       "      <td>2.0</td>\n",
       "    </tr>\n",
       "    <tr>\n",
       "      <th>13</th>\n",
       "      <td>7</td>\n",
       "      <td>mau</td>\n",
       "      <td>2.0</td>\n",
       "      <td>5.0</td>\n",
       "    </tr>\n",
       "    <tr>\n",
       "      <th>14</th>\n",
       "      <td>7</td>\n",
       "      <td>mau</td>\n",
       "      <td>4.0</td>\n",
       "      <td>3.0</td>\n",
       "    </tr>\n",
       "    <tr>\n",
       "      <th>16</th>\n",
       "      <td>6</td>\n",
       "      <td>bom</td>\n",
       "      <td>6.0</td>\n",
       "      <td>1.0</td>\n",
       "    </tr>\n",
       "    <tr>\n",
       "      <th>17</th>\n",
       "      <td>7</td>\n",
       "      <td>mau</td>\n",
       "      <td>5.0</td>\n",
       "      <td>2.0</td>\n",
       "    </tr>\n",
       "    <tr>\n",
       "      <th>18</th>\n",
       "      <td>6</td>\n",
       "      <td>bom</td>\n",
       "      <td>3.0</td>\n",
       "      <td>4.0</td>\n",
       "    </tr>\n",
       "    <tr>\n",
       "      <th>27</th>\n",
       "      <td>7</td>\n",
       "      <td>mau</td>\n",
       "      <td>4.0</td>\n",
       "      <td>3.0</td>\n",
       "    </tr>\n",
       "    <tr>\n",
       "      <th>30</th>\n",
       "      <td>6</td>\n",
       "      <td>bom</td>\n",
       "      <td>2.0</td>\n",
       "      <td>5.0</td>\n",
       "    </tr>\n",
       "    <tr>\n",
       "      <th>33</th>\n",
       "      <td>6</td>\n",
       "      <td>bom</td>\n",
       "      <td>3.0</td>\n",
       "      <td>4.0</td>\n",
       "    </tr>\n",
       "    <tr>\n",
       "      <th>35</th>\n",
       "      <td>6</td>\n",
       "      <td>bom</td>\n",
       "      <td>6.0</td>\n",
       "      <td>1.0</td>\n",
       "    </tr>\n",
       "    <tr>\n",
       "      <th>38</th>\n",
       "      <td>7</td>\n",
       "      <td>mau</td>\n",
       "      <td>1.0</td>\n",
       "      <td>6.0</td>\n",
       "    </tr>\n",
       "    <tr>\n",
       "      <th>41</th>\n",
       "      <td>9</td>\n",
       "      <td>mau</td>\n",
       "      <td>2.0</td>\n",
       "      <td>5.0</td>\n",
       "    </tr>\n",
       "    <tr>\n",
       "      <th>43</th>\n",
       "      <td>6</td>\n",
       "      <td>bom</td>\n",
       "      <td>4.0</td>\n",
       "      <td>3.0</td>\n",
       "    </tr>\n",
       "    <tr>\n",
       "      <th>51</th>\n",
       "      <td>7</td>\n",
       "      <td>mau</td>\n",
       "      <td>2.0</td>\n",
       "      <td>5.0</td>\n",
       "    </tr>\n",
       "    <tr>\n",
       "      <th>52</th>\n",
       "      <td>6</td>\n",
       "      <td>bom</td>\n",
       "      <td>2.0</td>\n",
       "      <td>5.0</td>\n",
       "    </tr>\n",
       "    <tr>\n",
       "      <th>58</th>\n",
       "      <td>6</td>\n",
       "      <td>bom</td>\n",
       "      <td>4.0</td>\n",
       "      <td>3.0</td>\n",
       "    </tr>\n",
       "    <tr>\n",
       "      <th>59</th>\n",
       "      <td>7</td>\n",
       "      <td>mau</td>\n",
       "      <td>2.0</td>\n",
       "      <td>5.0</td>\n",
       "    </tr>\n",
       "    <tr>\n",
       "      <th>60</th>\n",
       "      <td>7</td>\n",
       "      <td>mau</td>\n",
       "      <td>1.0</td>\n",
       "      <td>6.0</td>\n",
       "    </tr>\n",
       "    <tr>\n",
       "      <th>61</th>\n",
       "      <td>6</td>\n",
       "      <td>bom</td>\n",
       "      <td>5.0</td>\n",
       "      <td>2.0</td>\n",
       "    </tr>\n",
       "    <tr>\n",
       "      <th>87</th>\n",
       "      <td>6</td>\n",
       "      <td>bom</td>\n",
       "      <td>2.0</td>\n",
       "      <td>5.0</td>\n",
       "    </tr>\n",
       "    <tr>\n",
       "      <th>91</th>\n",
       "      <td>6</td>\n",
       "      <td>bom</td>\n",
       "      <td>2.0</td>\n",
       "      <td>5.0</td>\n",
       "    </tr>\n",
       "  </tbody>\n",
       "</table>\n",
       "</div>"
      ],
      "text/plain": [
       "    gleason prognostico    0    1\n",
       "3         7         mau  5.0  2.0\n",
       "13        7         mau  2.0  5.0\n",
       "14        7         mau  4.0  3.0\n",
       "16        6         bom  6.0  1.0\n",
       "17        7         mau  5.0  2.0\n",
       "18        6         bom  3.0  4.0\n",
       "27        7         mau  4.0  3.0\n",
       "30        6         bom  2.0  5.0\n",
       "33        6         bom  3.0  4.0\n",
       "35        6         bom  6.0  1.0\n",
       "38        7         mau  1.0  6.0\n",
       "41        9         mau  2.0  5.0\n",
       "43        6         bom  4.0  3.0\n",
       "51        7         mau  2.0  5.0\n",
       "52        6         bom  2.0  5.0\n",
       "58        6         bom  4.0  3.0\n",
       "59        7         mau  2.0  5.0\n",
       "60        7         mau  1.0  6.0\n",
       "61        6         bom  5.0  2.0\n",
       "87        6         bom  2.0  5.0\n",
       "91        6         bom  2.0  5.0"
      ]
     },
     "execution_count": 20,
     "metadata": {},
     "output_type": "execute_result"
    }
   ],
   "source": [
    "pd.merge(treino.loc[geral.index.values.tolist(),['gleason','prognostico']],geral,left_index=True,right_index=True)"
   ]
  },
  {
   "cell_type": "code",
   "execution_count": null,
   "metadata": {
    "collapsed": true
   },
   "outputs": [],
   "source": []
  }
 ],
 "metadata": {
  "kernelspec": {
   "display_name": "Python 3",
   "language": "python",
   "name": "python3"
  },
  "language_info": {
   "codemirror_mode": {
    "name": "ipython",
    "version": 3
   },
   "file_extension": ".py",
   "mimetype": "text/x-python",
   "name": "python",
   "nbconvert_exporter": "python",
   "pygments_lexer": "ipython3",
   "version": "3.6.3"
  }
 },
 "nbformat": 4,
 "nbformat_minor": 2
}
