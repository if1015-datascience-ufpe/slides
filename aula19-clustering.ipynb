{
 "cells": [
  {
   "cell_type": "markdown",
   "metadata": {},
   "source": [
    "# Aula 19 &mdash; Aprendizado não-supervisionado - Agrupamento\n",
    "\n",
    "Renato Vimieiro\n",
    "\n",
    "rv2 {em} cin.ufpe.br\n",
    "\n",
    "maio 2017"
   ]
  },
  {
   "cell_type": "markdown",
   "metadata": {},
   "source": [
    "## Introdução\n",
    "\n",
    "Dedicamos as últimas aulas ao estudo de modelos para aprendizado supervisionado. No caso supervisionado, o objetivo do algoritmo de aprendizado é ajustar um modelo capaz de predizer um valor para uma variável dependente a partir de um conjunto de variáveis independentes. Vimos que esse problema está relacionado tanto a variáveis contínuas (regressão) quanto variáveis categóricas (classificação). No problema de aprendizado não-supervisionado, os algoritmos não levam em consideração a variável dependente (se ela existir). \n",
    "\n",
    "Os algoritmos de agrupamento ou clustering são classificados como algoritmos de aprendizado não-supervisionado. O objetivo desses algoritmos é encontrar subgrupos de exemplos que concentram mais características em comum entre si do que com exemplos em outros grupos. Essa tarefa pode, por exemplo, preceder o aprendizado supervisionado. Podemos querer identificar grupos de clientes para direcionar nossa campanha de marketing e, em seguida, podemos aplicar técnicas de aprendizado supervisionado, e.g. regressão linear, para ajustar um modelo para cada segmento. No exemplo que consideramos durante as aulas de regressão linear, isso significaria verificar a efetividade (aumento de vendas) de nossa campanha para cada grupo de clientes. Dessa forma, poderíamos constatar que entre um público mais jovem campanhas majoritariamente online e TV seriam mais efetivas que em rádio e jornal impresso. Por outro lado, campanhas direcionadas a idosos seriam o inverso. No caso de classificação, poderíamos encontrar grupos de pacientes com câncer de próstata similares e depois ajustar um modelo baseado em rótulos atribuídos a esses grupos.\n",
    "\n",
    "Os algoritmos de clustering dividem as amostras em grupos baseado em um função de (dis)similaridade/distância. A escolha da função de distância é dependente dos dados. As mais populares são: euclidiana, cosseno e correlação para dados numéricos; e manhattan e jaccard para dados categóricos. Os algoritmos podem buscar os grupos dividindo as amostras em subgrupos (o conjunto de todas é um único cluster), sendo chamados de **particionais**; ou podem reunir amostras mais comuns em um grupo (cada amostra é inicialmente um grupo), sendo chamados de **aglomerativos**. O representante mais conhecido do universo particional é o *K-means*, enquanto o aglomerativo mais conhecido é o *hierárquico*. Estudaremos ambos nessa aula."
   ]
  },
  {
   "cell_type": "markdown",
   "metadata": {},
   "source": [
    "## Distância\n",
    "\n",
    "As distâncias mencionadas acima são formalizadas pelas fórmulas a seguir. Nesse contexto, imaginamos um conjunto de dados com $n$ amostras cada uma descrita por $p$ atributos. Seguem as distâncias:\n",
    "\n",
    "- Euclidiana\n",
    "$$\n",
    "d(x,z) = ||x-z||_2 = \\sqrt{\\sum_j^p (x_j - z_j)^2}\n",
    "$$\n",
    "\n",
    "- Cosseno\n",
    "$$\n",
    "d(x,z) = 1 - \\frac{x\\cdot z}{||x||_2 ||z||_2} = 1-\\frac{\\sum x_jz_j}{\\sqrt{\\sum x_j^2}\\sqrt{\\sum z_j^2}}\n",
    "$$\n",
    "\n",
    "- Baseada na correlação de Pearson\n",
    "$$\n",
    "d(x,z) = 1-\\frac{cov(x,z)}{\\sigma_x \\sigma_z} = 1-\\frac{\\sum (x_j-\\bar{x})(z_j-\\bar{z})}{\\sqrt{\\sum (x_j-\\bar{x})^2}\\sqrt{\\sum (z_j-\\bar{z})^2}}\n",
    "$$\n",
    "\n",
    "- Manhattan\n",
    "$$\n",
    "d(x,z) = ||x-z||_1 = \\sum_j^p |x_j - z_j|\n",
    "$$\n",
    "\n",
    "- Jaccard\n",
    "$$\n",
    "d(x,z) = 1 - \\frac{|x\\cap z|}{|x\\cup z|}\n",
    "$$\n"
   ]
  },
  {
   "cell_type": "markdown",
   "metadata": {},
   "source": [
    "## K-Means\n",
    "\n",
    "Como discutimos anteriormente, o K-Means é um algoritmo particional. O funcionamento do algoritmo é bastante simples. Inicialmente, o algoritmo gera aleatoriamente $k$ representantes, um para cada grupo. Em seguida, o algoritmo assinala as amostras aos grupos aos quais elas são mais próximas. A distância é avaliada com base no representante do grupo. Feito isso, novos representantes são escolhidos para cada grupo e o processo se repete. \n",
    "Os representantes são gerados com base nas médias dos atributos das amostras dos grupos, daí o nome do algoritmo. \n",
    "O processo segue até que os representantes (**centroids**) não mudem, ou que a diferença entre os centroids atuais e anteriores seja mínima.\n",
    "\n",
    "Formalmente, esse processo visa a minimizar a seguinte função objetivo\n",
    "\n",
    "$$\n",
    "SSE(C) = \\sum_i^k\\sum_{x_j\\in C_i}||x_j - \\mu_i||^2 = \\sum_i^k\\sum_{x_j\\in C_i}\\sum^p (x_{jl} - \\bar{x_{il}})^2\n",
    "$$\n",
    "\n",
    "Para ilustar o processo, vamos inicialmente gerar um conjunto de dados artificial dividio em três grupos."
   ]
  },
  {
   "cell_type": "code",
   "execution_count": 1,
   "metadata": {
    "collapsed": true
   },
   "outputs": [],
   "source": [
    "import pandas as pd\n",
    "import numpy as np\n",
    "import seaborn as sns\n",
    "import matplotlib.pyplot as plt\n",
    "\n",
    "%matplotlib inline"
   ]
  },
  {
   "cell_type": "code",
   "execution_count": 14,
   "metadata": {},
   "outputs": [
    {
     "data": {
      "text/plain": [
       "<matplotlib.axes._subplots.AxesSubplot at 0x10f94f780>"
      ]
     },
     "execution_count": 14,
     "metadata": {},
     "output_type": "execute_result"
    },
    {
     "data": {
      "image/png": "[encoded data removed]",
      "text/plain": [
       "<matplotlib.figure.Figure at 0x10f9425f8>"
      ]
     },
     "metadata": {},
     "output_type": "display_data"
    }
   ],
   "source": [
    "x1 = np.random.normal(loc=-1,scale=0.7,size=20)\n",
    "x2 = np.random.normal(loc=0,scale=1.,size=20)\n",
    "x3 = np.random.normal(loc=1,scale=0.5,size=20)\n",
    "\n",
    "y1 = np.random.normal(loc=1,scale=0.5,size=20)\n",
    "y2 = np.random.normal(loc=-2,scale=0.5,size=20)\n",
    "y3 = np.random.normal(loc=0,scale=0.5,size=20)\n",
    "\n",
    "df = pd.DataFrame(dict(x=np.concatenate([x1,x2,x3]),y=np.concatenate([y1,y2,y3]),c=np.repeat([1,2,3],20)))\n",
    "df.plot.scatter(x='x',y='y')"
   ]
  },
  {
   "cell_type": "code",
   "execution_count": 85,
   "metadata": {},
   "outputs": [
    {
     "data": {
      "text/plain": [
       "(array([-0.13682671, -0.20222997]),\n",
       " array([-1.65669336,  1.5451075 ]),\n",
       " array([ 0.81076057,  1.41638   ]))"
      ]
     },
     "execution_count": 85,
     "metadata": {},
     "output_type": "execute_result"
    }
   ],
   "source": [
    "c1 = np.random.uniform(-2,2,size=2)\n",
    "c2 = np.random.uniform(-2,2,size=2)\n",
    "c3 = np.random.uniform(-2,2,size=2)\n",
    "c1,c2,c3"
   ]
  },
  {
   "cell_type": "code",
   "execution_count": 86,
   "metadata": {},
   "outputs": [
    {
     "data": {
      "text/plain": [
       "<matplotlib.collections.PathCollection at 0x111aad780>"
      ]
     },
     "execution_count": 86,
     "metadata": {},
     "output_type": "execute_result"
    },
    {
     "data": {
      "image/png": "[encoded data removed]",
      "text/plain": [
       "<matplotlib.figure.Figure at 0x111978860>"
      ]
     },
     "metadata": {},
     "output_type": "display_data"
    }
   ],
   "source": [
    "ax = df.plot.scatter(x='x',y='y')\n",
    "ax.scatter(*c1,color='red',marker='^',s=50)\n",
    "ax.scatter(*c2,marker='d',color='green',s=50)\n",
    "ax.scatter(*c3,marker='s',color='magenta',s=50)"
   ]
  },
  {
   "cell_type": "code",
   "execution_count": 87,
   "metadata": {},
   "outputs": [
    {
     "data": {
      "text/html": [
       "<div>\n",
       "<table border=\"1\" class=\"dataframe\">\n",
       "  <thead>\n",
       "    <tr style=\"text-align: right;\">\n",
       "      <th></th>\n",
       "      <th>c1</th>\n",
       "      <th>c2</th>\n",
       "      <th>c3</th>\n",
       "    </tr>\n",
       "  </thead>\n",
       "  <tbody>\n",
       "    <tr>\n",
       "      <th>0</th>\n",
       "      <td>1.273081</td>\n",
       "      <td>1.258080</td>\n",
       "      <td>1.387498</td>\n",
       "    </tr>\n",
       "    <tr>\n",
       "      <th>1</th>\n",
       "      <td>1.562645</td>\n",
       "      <td>1.015393</td>\n",
       "      <td>1.500119</td>\n",
       "    </tr>\n",
       "    <tr>\n",
       "      <th>2</th>\n",
       "      <td>1.249776</td>\n",
       "      <td>1.066079</td>\n",
       "      <td>1.891891</td>\n",
       "    </tr>\n",
       "    <tr>\n",
       "      <th>3</th>\n",
       "      <td>1.762626</td>\n",
       "      <td>1.171655</td>\n",
       "      <td>1.300557</td>\n",
       "    </tr>\n",
       "    <tr>\n",
       "      <th>4</th>\n",
       "      <td>1.495759</td>\n",
       "      <td>1.740090</td>\n",
       "      <td>0.759979</td>\n",
       "    </tr>\n",
       "    <tr>\n",
       "      <th>5</th>\n",
       "      <td>2.093913</td>\n",
       "      <td>0.540350</td>\n",
       "      <td>2.666412</td>\n",
       "    </tr>\n",
       "    <tr>\n",
       "      <th>6</th>\n",
       "      <td>1.235466</td>\n",
       "      <td>1.081134</td>\n",
       "      <td>1.859949</td>\n",
       "    </tr>\n",
       "    <tr>\n",
       "      <th>7</th>\n",
       "      <td>0.549764</td>\n",
       "      <td>1.870729</td>\n",
       "      <td>1.493944</td>\n",
       "    </tr>\n",
       "    <tr>\n",
       "      <th>8</th>\n",
       "      <td>0.666184</td>\n",
       "      <td>1.712691</td>\n",
       "      <td>1.534769</td>\n",
       "    </tr>\n",
       "    <tr>\n",
       "      <th>9</th>\n",
       "      <td>3.012438</td>\n",
       "      <td>0.699721</td>\n",
       "      <td>2.951997</td>\n",
       "    </tr>\n",
       "    <tr>\n",
       "      <th>10</th>\n",
       "      <td>1.015130</td>\n",
       "      <td>1.323819</td>\n",
       "      <td>1.664219</td>\n",
       "    </tr>\n",
       "    <tr>\n",
       "      <th>11</th>\n",
       "      <td>2.439890</td>\n",
       "      <td>1.130602</td>\n",
       "      <td>1.699740</td>\n",
       "    </tr>\n",
       "    <tr>\n",
       "      <th>12</th>\n",
       "      <td>1.383605</td>\n",
       "      <td>1.552104</td>\n",
       "      <td>0.986979</td>\n",
       "    </tr>\n",
       "    <tr>\n",
       "      <th>13</th>\n",
       "      <td>1.039173</td>\n",
       "      <td>1.367367</td>\n",
       "      <td>2.136672</td>\n",
       "    </tr>\n",
       "    <tr>\n",
       "      <th>14</th>\n",
       "      <td>1.544684</td>\n",
       "      <td>0.775002</td>\n",
       "      <td>1.957129</td>\n",
       "    </tr>\n",
       "    <tr>\n",
       "      <th>15</th>\n",
       "      <td>1.963393</td>\n",
       "      <td>1.412444</td>\n",
       "      <td>1.123980</td>\n",
       "    </tr>\n",
       "    <tr>\n",
       "      <th>16</th>\n",
       "      <td>1.672082</td>\n",
       "      <td>0.655674</td>\n",
       "      <td>2.165343</td>\n",
       "    </tr>\n",
       "    <tr>\n",
       "      <th>17</th>\n",
       "      <td>0.251738</td>\n",
       "      <td>2.112985</td>\n",
       "      <td>1.959088</td>\n",
       "    </tr>\n",
       "    <tr>\n",
       "      <th>18</th>\n",
       "      <td>2.315044</td>\n",
       "      <td>0.316554</td>\n",
       "      <td>2.692657</td>\n",
       "    </tr>\n",
       "    <tr>\n",
       "      <th>19</th>\n",
       "      <td>2.199114</td>\n",
       "      <td>0.957290</td>\n",
       "      <td>1.653515</td>\n",
       "    </tr>\n",
       "    <tr>\n",
       "      <th>20</th>\n",
       "      <td>1.124327</td>\n",
       "      <td>3.032667</td>\n",
       "      <td>2.987127</td>\n",
       "    </tr>\n",
       "    <tr>\n",
       "      <th>21</th>\n",
       "      <td>1.244120</td>\n",
       "      <td>3.558506</td>\n",
       "      <td>2.611616</td>\n",
       "    </tr>\n",
       "    <tr>\n",
       "      <th>22</th>\n",
       "      <td>1.604327</td>\n",
       "      <td>3.402580</td>\n",
       "      <td>3.464848</td>\n",
       "    </tr>\n",
       "    <tr>\n",
       "      <th>23</th>\n",
       "      <td>0.984871</td>\n",
       "      <td>2.562515</td>\n",
       "      <td>2.836247</td>\n",
       "    </tr>\n",
       "    <tr>\n",
       "      <th>24</th>\n",
       "      <td>1.213370</td>\n",
       "      <td>3.391375</td>\n",
       "      <td>2.932862</td>\n",
       "    </tr>\n",
       "    <tr>\n",
       "      <th>25</th>\n",
       "      <td>2.700031</td>\n",
       "      <td>4.893671</td>\n",
       "      <td>4.225086</td>\n",
       "    </tr>\n",
       "    <tr>\n",
       "      <th>26</th>\n",
       "      <td>0.518245</td>\n",
       "      <td>2.760275</td>\n",
       "      <td>2.309506</td>\n",
       "    </tr>\n",
       "    <tr>\n",
       "      <th>27</th>\n",
       "      <td>1.618174</td>\n",
       "      <td>3.885007</td>\n",
       "      <td>3.129332</td>\n",
       "    </tr>\n",
       "    <tr>\n",
       "      <th>28</th>\n",
       "      <td>1.104069</td>\n",
       "      <td>3.137747</td>\n",
       "      <td>2.933055</td>\n",
       "    </tr>\n",
       "    <tr>\n",
       "      <th>29</th>\n",
       "      <td>1.689543</td>\n",
       "      <td>3.848683</td>\n",
       "      <td>3.363370</td>\n",
       "    </tr>\n",
       "    <tr>\n",
       "      <th>30</th>\n",
       "      <td>1.448419</td>\n",
       "      <td>3.756722</td>\n",
       "      <td>2.582407</td>\n",
       "    </tr>\n",
       "    <tr>\n",
       "      <th>31</th>\n",
       "      <td>1.310801</td>\n",
       "      <td>3.516953</td>\n",
       "      <td>2.982306</td>\n",
       "    </tr>\n",
       "    <tr>\n",
       "      <th>32</th>\n",
       "      <td>2.059328</td>\n",
       "      <td>3.948721</td>\n",
       "      <td>3.873746</td>\n",
       "    </tr>\n",
       "    <tr>\n",
       "      <th>33</th>\n",
       "      <td>1.034245</td>\n",
       "      <td>2.542632</td>\n",
       "      <td>2.876094</td>\n",
       "    </tr>\n",
       "    <tr>\n",
       "      <th>34</th>\n",
       "      <td>2.186509</td>\n",
       "      <td>3.784751</td>\n",
       "      <td>4.057023</td>\n",
       "    </tr>\n",
       "    <tr>\n",
       "      <th>35</th>\n",
       "      <td>2.295226</td>\n",
       "      <td>4.600447</td>\n",
       "      <td>3.225987</td>\n",
       "    </tr>\n",
       "    <tr>\n",
       "      <th>36</th>\n",
       "      <td>2.334269</td>\n",
       "      <td>4.517581</td>\n",
       "      <td>3.907930</td>\n",
       "    </tr>\n",
       "    <tr>\n",
       "      <th>37</th>\n",
       "      <td>1.903519</td>\n",
       "      <td>3.698791</td>\n",
       "      <td>3.752773</td>\n",
       "    </tr>\n",
       "    <tr>\n",
       "      <th>38</th>\n",
       "      <td>1.093510</td>\n",
       "      <td>3.207708</td>\n",
       "      <td>2.882379</td>\n",
       "    </tr>\n",
       "    <tr>\n",
       "      <th>39</th>\n",
       "      <td>2.380299</td>\n",
       "      <td>4.387815</td>\n",
       "      <td>4.116673</td>\n",
       "    </tr>\n",
       "    <tr>\n",
       "      <th>40</th>\n",
       "      <td>1.734930</td>\n",
       "      <td>2.673933</td>\n",
       "      <td>0.341047</td>\n",
       "    </tr>\n",
       "    <tr>\n",
       "      <th>41</th>\n",
       "      <td>1.877891</td>\n",
       "      <td>3.237492</td>\n",
       "      <td>0.945539</td>\n",
       "    </tr>\n",
       "    <tr>\n",
       "      <th>42</th>\n",
       "      <td>0.997870</td>\n",
       "      <td>2.076297</td>\n",
       "      <td>0.896565</td>\n",
       "    </tr>\n",
       "    <tr>\n",
       "      <th>43</th>\n",
       "      <td>1.354488</td>\n",
       "      <td>3.233747</td>\n",
       "      <td>1.442995</td>\n",
       "    </tr>\n",
       "    <tr>\n",
       "      <th>44</th>\n",
       "      <td>1.026695</td>\n",
       "      <td>2.733287</td>\n",
       "      <td>1.133988</td>\n",
       "    </tr>\n",
       "    <tr>\n",
       "      <th>45</th>\n",
       "      <td>0.152995</td>\n",
       "      <td>2.175458</td>\n",
       "      <td>1.778355</td>\n",
       "    </tr>\n",
       "    <tr>\n",
       "      <th>46</th>\n",
       "      <td>0.803642</td>\n",
       "      <td>2.927582</td>\n",
       "      <td>1.659591</td>\n",
       "    </tr>\n",
       "    <tr>\n",
       "      <th>47</th>\n",
       "      <td>1.003518</td>\n",
       "      <td>3.109336</td>\n",
       "      <td>1.692535</td>\n",
       "    </tr>\n",
       "    <tr>\n",
       "      <th>48</th>\n",
       "      <td>1.647714</td>\n",
       "      <td>2.971952</td>\n",
       "      <td>0.774555</td>\n",
       "    </tr>\n",
       "    <tr>\n",
       "      <th>49</th>\n",
       "      <td>1.502094</td>\n",
       "      <td>2.928736</td>\n",
       "      <td>0.856597</td>\n",
       "    </tr>\n",
       "    <tr>\n",
       "      <th>50</th>\n",
       "      <td>3.081027</td>\n",
       "      <td>4.829448</td>\n",
       "      <td>2.527240</td>\n",
       "    </tr>\n",
       "    <tr>\n",
       "      <th>51</th>\n",
       "      <td>1.873724</td>\n",
       "      <td>3.641340</td>\n",
       "      <td>1.554465</td>\n",
       "    </tr>\n",
       "    <tr>\n",
       "      <th>52</th>\n",
       "      <td>0.727406</td>\n",
       "      <td>2.730913</td>\n",
       "      <td>1.470608</td>\n",
       "    </tr>\n",
       "    <tr>\n",
       "      <th>53</th>\n",
       "      <td>1.650475</td>\n",
       "      <td>3.433325</td>\n",
       "      <td>1.437420</td>\n",
       "    </tr>\n",
       "    <tr>\n",
       "      <th>54</th>\n",
       "      <td>1.403474</td>\n",
       "      <td>2.521505</td>\n",
       "      <td>0.550494</td>\n",
       "    </tr>\n",
       "    <tr>\n",
       "      <th>55</th>\n",
       "      <td>1.210058</td>\n",
       "      <td>2.816349</td>\n",
       "      <td>1.025231</td>\n",
       "    </tr>\n",
       "    <tr>\n",
       "      <th>56</th>\n",
       "      <td>1.255723</td>\n",
       "      <td>3.519686</td>\n",
       "      <td>2.223126</td>\n",
       "    </tr>\n",
       "    <tr>\n",
       "      <th>57</th>\n",
       "      <td>0.774569</td>\n",
       "      <td>2.919624</td>\n",
       "      <td>1.688968</td>\n",
       "    </tr>\n",
       "    <tr>\n",
       "      <th>58</th>\n",
       "      <td>0.986192</td>\n",
       "      <td>3.284822</td>\n",
       "      <td>2.533706</td>\n",
       "    </tr>\n",
       "    <tr>\n",
       "      <th>59</th>\n",
       "      <td>0.533303</td>\n",
       "      <td>2.815461</td>\n",
       "      <td>2.263360</td>\n",
       "    </tr>\n",
       "  </tbody>\n",
       "</table>\n",
       "</div>"
      ],
      "text/plain": [
       "          c1        c2        c3\n",
       "0   1.273081  1.258080  1.387498\n",
       "1   1.562645  1.015393  1.500119\n",
       "2   1.249776  1.066079  1.891891\n",
       "3   1.762626  1.171655  1.300557\n",
       "4   1.495759  1.740090  0.759979\n",
       "5   2.093913  0.540350  2.666412\n",
       "6   1.235466  1.081134  1.859949\n",
       "7   0.549764  1.870729  1.493944\n",
       "8   0.666184  1.712691  1.534769\n",
       "9   3.012438  0.699721  2.951997\n",
       "10  1.015130  1.323819  1.664219\n",
       "11  2.439890  1.130602  1.699740\n",
       "12  1.383605  1.552104  0.986979\n",
       "13  1.039173  1.367367  2.136672\n",
       "14  1.544684  0.775002  1.957129\n",
       "15  1.963393  1.412444  1.123980\n",
       "16  1.672082  0.655674  2.165343\n",
       "17  0.251738  2.112985  1.959088\n",
       "18  2.315044  0.316554  2.692657\n",
       "19  2.199114  0.957290  1.653515\n",
       "20  1.124327  3.032667  2.987127\n",
       "21  1.244120  3.558506  2.611616\n",
       "22  1.604327  3.402580  3.464848\n",
       "23  0.984871  2.562515  2.836247\n",
       "24  1.213370  3.391375  2.932862\n",
       "25  2.700031  4.893671  4.225086\n",
       "26  0.518245  2.760275  2.309506\n",
       "27  1.618174  3.885007  3.129332\n",
       "28  1.104069  3.137747  2.933055\n",
       "29  1.689543  3.848683  3.363370\n",
       "30  1.448419  3.756722  2.582407\n",
       "31  1.310801  3.516953  2.982306\n",
       "32  2.059328  3.948721  3.873746\n",
       "33  1.034245  2.542632  2.876094\n",
       "34  2.186509  3.784751  4.057023\n",
       "35  2.295226  4.600447  3.225987\n",
       "36  2.334269  4.517581  3.907930\n",
       "37  1.903519  3.698791  3.752773\n",
       "38  1.093510  3.207708  2.882379\n",
       "39  2.380299  4.387815  4.116673\n",
       "40  1.734930  2.673933  0.341047\n",
       "41  1.877891  3.237492  0.945539\n",
       "42  0.997870  2.076297  0.896565\n",
       "43  1.354488  3.233747  1.442995\n",
       "44  1.026695  2.733287  1.133988\n",
       "45  0.152995  2.175458  1.778355\n",
       "46  0.803642  2.927582  1.659591\n",
       "47  1.003518  3.109336  1.692535\n",
       "48  1.647714  2.971952  0.774555\n",
       "49  1.502094  2.928736  0.856597\n",
       "50  3.081027  4.829448  2.527240\n",
       "51  1.873724  3.641340  1.554465\n",
       "52  0.727406  2.730913  1.470608\n",
       "53  1.650475  3.433325  1.437420\n",
       "54  1.403474  2.521505  0.550494\n",
       "55  1.210058  2.816349  1.025231\n",
       "56  1.255723  3.519686  2.223126\n",
       "57  0.774569  2.919624  1.688968\n",
       "58  0.986192  3.284822  2.533706\n",
       "59  0.533303  2.815461  2.263360"
      ]
     },
     "execution_count": 87,
     "metadata": {},
     "output_type": "execute_result"
    }
   ],
   "source": [
    "def dist(x):\n",
    "    return pd.Series(dict(c1=np.linalg.norm(x-c1),c2=np.linalg.norm(x-c2),c3=np.linalg.norm(x-c3)))\n",
    "\n",
    "df[['x','y']].apply(dist,axis=1)"
   ]
  },
  {
   "cell_type": "code",
   "execution_count": 88,
   "metadata": {},
   "outputs": [
    {
     "data": {
      "text/plain": [
       "0    c2\n",
       "1    c2\n",
       "2    c2\n",
       "3    c2\n",
       "4    c3\n",
       "dtype: object"
      ]
     },
     "execution_count": 88,
     "metadata": {},
     "output_type": "execute_result"
    }
   ],
   "source": [
    "clusters = df[['x','y']].apply(dist,axis=1).apply(lambda x: x.argmin(),axis=1)\n",
    "clusters.head()"
   ]
  },
  {
   "cell_type": "code",
   "execution_count": 89,
   "metadata": {},
   "outputs": [
    {
     "data": {
      "text/plain": [
       "<matplotlib.collections.PathCollection at 0x111be6320>"
      ]
     },
     "execution_count": 89,
     "metadata": {},
     "output_type": "execute_result"
    },
    {
     "data": {
      "image/png": "[encoded data removed]",
      "text/plain": [
       "<matplotlib.figure.Figure at 0x111a772b0>"
      ]
     },
     "metadata": {},
     "output_type": "display_data"
    }
   ],
   "source": [
    "ax = df[clusters=='c1'].plot.scatter(x='x',y='y',marker='^',color='red')\n",
    "df[clusters=='c2'].plot.scatter(x='x',y='y',marker='d', color='green',ax=ax)\n",
    "df[clusters=='c3'].plot.scatter(x='x',y='y',marker='s',color='magenta', ax=ax)\n",
    "ax.scatter(*c1,color='red',marker='^',s=50)\n",
    "ax.scatter(*c2,marker='d',color='green',s=50)\n",
    "ax.scatter(*c3,marker='s',color='magenta',s=50)"
   ]
  },
  {
   "cell_type": "code",
   "execution_count": 90,
   "metadata": {},
   "outputs": [],
   "source": [
    "c = df.groupby(clusters)[['x','y']].mean()\n",
    "c1 = c.loc['c1',:].values\n",
    "c2 = c.loc['c2',:].values\n",
    "c3 = c.loc['c3',:].values"
   ]
  },
  {
   "cell_type": "code",
   "execution_count": 91,
   "metadata": {},
   "outputs": [
    {
     "data": {
      "text/plain": [
       "<matplotlib.collections.PathCollection at 0x111d26860>"
      ]
     },
     "execution_count": 91,
     "metadata": {},
     "output_type": "execute_result"
    },
    {
     "data": {
      "image/png": "[encoded data removed]",
      "text/plain": [
       "<matplotlib.figure.Figure at 0x11197b588>"
      ]
     },
     "metadata": {},
     "output_type": "display_data"
    }
   ],
   "source": [
    "ax = df.plot.scatter(x='x',y='y')\n",
    "ax.scatter(*c1,color='red',marker='^',s=50)\n",
    "ax.scatter(*c2,marker='d',color='green',s=50)\n",
    "ax.scatter(*c3,marker='s',color='magenta',s=50)"
   ]
  },
  {
   "cell_type": "code",
   "execution_count": 92,
   "metadata": {},
   "outputs": [
    {
     "data": {
      "text/plain": [
       "<matplotlib.collections.PathCollection at 0x110583fd0>"
      ]
     },
     "execution_count": 92,
     "metadata": {},
     "output_type": "execute_result"
    },
    {
     "data": {
      "image/png": "[encoded data removed]",
      "text/plain": [
       "<matplotlib.figure.Figure at 0x111d2ec18>"
      ]
     },
     "metadata": {},
     "output_type": "display_data"
    }
   ],
   "source": [
    "clusters = df[['x','y']].apply(dist,axis=1).apply(lambda x: x.argmin(),axis=1)\n",
    "ax = df[clusters=='c1'].plot.scatter(x='x',y='y',marker='^',color='red')\n",
    "df[clusters=='c2'].plot.scatter(x='x',y='y',marker='d', color='green',ax=ax)\n",
    "df[clusters=='c3'].plot.scatter(x='x',y='y',marker='s',color='magenta', ax=ax)\n",
    "ax.scatter(*c1,color='red',marker='^',s=50)\n",
    "ax.scatter(*c2,marker='d',color='green',s=50)\n",
    "ax.scatter(*c3,marker='s',color='magenta',s=50)"
   ]
  },
  {
   "cell_type": "markdown",
   "metadata": {},
   "source": [
    "Acima foram mostradas as duas primeiras iterações do K-means sobre o conjunto de dados sintético. Repare que os centroids são deslocados para o centro de massa dos clusters. Esse deslocamento modifica os clusters, atraindo mais amostras. Isso, por sua vez, desloca novamente os centroids até se estabilizarem. Portanto, a posição inicial dos centroids tem um impacto muito grande no resultado final. Em geral, as implementações executam o algoritmo com diversos centroids iniciais e reportam o melhor resultado.\n",
    "\n",
    "A seguir eu mostro o resultado obtido com `sklearn`."
   ]
  },
  {
   "cell_type": "code",
   "execution_count": 94,
   "metadata": {},
   "outputs": [
    {
     "data": {
      "text/plain": [
       "KMeans(algorithm='auto', copy_x=True, init='k-means++', max_iter=300,\n",
       "    n_clusters=3, n_init=10, n_jobs=1, precompute_distances='auto',\n",
       "    random_state=None, tol=0.0001, verbose=0)"
      ]
     },
     "execution_count": 94,
     "metadata": {},
     "output_type": "execute_result"
    }
   ],
   "source": [
    "from sklearn.cluster import KMeans\n",
    "model = KMeans(n_clusters=3).fit(df[['x','y']].values)\n",
    "model"
   ]
  },
  {
   "cell_type": "code",
   "execution_count": 102,
   "metadata": {},
   "outputs": [
    {
     "data": {
      "text/plain": [
       "<matplotlib.collections.PathCollection at 0x112a7a390>"
      ]
     },
     "execution_count": 102,
     "metadata": {},
     "output_type": "execute_result"
    },
    {
     "data": {
      "image/png": "[encoded data removed]",
      "text/plain": [
       "<matplotlib.figure.Figure at 0x112a1bf28>"
      ]
     },
     "metadata": {},
     "output_type": "display_data"
    }
   ],
   "source": [
    "clusters = np.asarray(['c{}'.format(a+1) for a in model.labels_],dtype='object')\n",
    "ax = df[clusters=='c1'].plot.scatter(x='x',y='y',marker='^',color='red')\n",
    "df[clusters=='c2'].plot.scatter(x='x',y='y',marker='d', color='green',ax=ax)\n",
    "df[clusters=='c3'].plot.scatter(x='x',y='y',marker='s',color='magenta', ax=ax)\n",
    "c1, c2, c3 = model.cluster_centers_\n",
    "ax.scatter(*c1,color='red',marker='^',s=50)\n",
    "ax.scatter(*c2,marker='d',color='green',s=50)\n",
    "ax.scatter(*c3,marker='s',color='magenta',s=50)"
   ]
  },
  {
   "cell_type": "markdown",
   "metadata": {},
   "source": [
    "## Agrupamento hierárquico \n",
    "\n",
    "O algoritmo de clustering hierárquico, diferentemente do K-means, começa com cada amostra sendo um cluster e, a cada iteração, tenta combinar as amostras/clusters mais próximas/similares em um único cluster. O algoritmo termina quando todas as amostras são combinadas em um único cluster. \n",
    "\n",
    "A grande vantagem do cluster hierárquico é que essa sequência de combinações (ou fusões) podem ser reconstruídas numa árvore, chamada de dendrograma. Essa estrutura permite tanto a visualização das amostras mais próximas, como também definir o número 'ideal' de clusters.\n",
    "\n",
    "A seguir vemos um exemplo dessa estrutura."
   ]
  },
  {
   "cell_type": "code",
   "execution_count": 122,
   "metadata": {},
   "outputs": [
    {
     "data": {
      "image/png": "[encoded data removed]",
      "text/plain": [
       "<matplotlib.figure.Figure at 0x112c508d0>"
      ]
     },
     "metadata": {},
     "output_type": "display_data"
    }
   ],
   "source": [
    "from scipy.spatial.distance import pdist\n",
    "from scipy.cluster.hierarchy import linkage, dendrogram\n",
    "distancia = pdist(df[['x','y']].values)\n",
    "clusters = linkage(distancia,method='complete')\n",
    "plt.figure(figsize=(12,5))\n",
    "dn = dendrogram(clusters,leaf_font_size=9)\n"
   ]
  },
  {
   "cell_type": "markdown",
   "metadata": {},
   "source": [
    "Nesse ponto surgem duas perguntas: \n",
    "\n",
    "1. Como são computadas as distâncias entre amostras e clusters, e entre clusters?\n",
    "2. O quê significa a altura em que os clusters são combinados? Ou melhor, como ler o dendrograma?\n",
    "\n",
    "A generalização do conceito de distância (primeira pergunta) pode ser feita de diversas formas, tornando-se, assim, um parâmetro do algoritmo. As formas mais comuns são:\n",
    "\n",
    "- **single link**: menor distância intercluster. A distância entre dois clusters A e B é a menor distância entre as amostras pertencentes a A, e as de B\n",
    "- **complete link**: maior distância intercluster. É o oposto da single.\n",
    "- **group average**: é a distância média entre as amostras dos dois clusters\n",
    "- **centroid**: distância entre os centroids dos dois clusters (computados como no K-means)\n",
    "- **Ward's method**: a distância é definida como o incremento na soma dos quadrados dos erros definido como no K-means.\n",
    "\n",
    "Naturalmente, a escolha de diferentes critérios de distância levam a diferentes resultados. Contudo, single link tende a resultar em clusters menos balanceados. Frequentemente, os clusters são formados agregando-se uma amostra por vez. Assim, ela se torna menos interessante na prática. \n",
    "\n",
    "Em relação à segunda pergunta, o dendrograma é interpretado como a seguir. O diagrama é lido de baixo para cima. As linhas horizontais indicam a combinação de dois clusters. A altura dessa combinação (linha vertical) indica a distância (como computada acima) entre os dois clusters. Assim, percebemos que as amostras 2 e 6 são mais próximas entre si que as amostras 25 e 36. Embora ambos os clusters tenham sido formado no 'primeiro nível'. Outra consideração importante se faz em relação à posição das amostras em relação ao eixo x. Não podemos tirar conclusões a partir dessas posições. Por exemplo, podemos tender a interpretar que a amostra 50 é mais próxima de 40 do que de 41. Contudo, essa conclusão é errada, uma vez que a análise é feita com base nas distância entre clusters.\n",
    "\n",
    "Podemos usar o dendrograma para particionar as amostras em grupos. Por exemplo, se podarmos a árvore na altura 3, obtemos os três clusters em verde, vermelho e azul claro. Esse corte pode ser feito como a seguir:"
   ]
  },
  {
   "cell_type": "code",
   "execution_count": 125,
   "metadata": {},
   "outputs": [
    {
     "data": {
      "text/plain": [
       "array([0, 0, 0, 0, 0, 0, 0, 0, 0, 0, 0, 0, 0, 0, 0, 0, 0, 0, 0, 0, 1, 1, 1,\n",
       "       1, 1, 1, 1, 1, 1, 1, 1, 1, 1, 1, 1, 1, 1, 1, 1, 1, 2, 2, 0, 2, 2, 0,\n",
       "       2, 2, 2, 2, 2, 2, 2, 2, 2, 2, 1, 2, 1, 1])"
      ]
     },
     "execution_count": 125,
     "metadata": {},
     "output_type": "execute_result"
    }
   ],
   "source": [
    "from scipy.cluster.hierarchy import cut_tree\n",
    "labels = cut_tree(clusters,height=3)\n",
    "labels.flatten()"
   ]
  },
  {
   "cell_type": "markdown",
   "metadata": {},
   "source": [
    "## Métricas de avaliação do agrupamento\n",
    "\n",
    "Assim como no caso de aprendizado supervisionado, existem inúmeras métricas para avaliar os resultados de um agrupamento. Algumas métricas avaliam a homogeneidade dos clusters, outras avaliam o grau de concordância entre os grupos e os rótulos iniciais.\n",
    "\n",
    "#### Adjusted Rand Index\n",
    "\n",
    "Podemos usar o Fleiss Kappa como métrica de concordância dos rótulos. Outra alternativa é o Índice de Rand, ou sua versão ajustada. O índice de Rand é dado pela seguinte fórmula:\n",
    "\n",
    "$$\n",
    "RI = \\frac{a+b}{a+b+c+d}\n",
    "$$\n",
    "\n",
    "onde $a,b,c,d$ são dados por\n",
    "\n",
    "- $a$ é o número de pares que pertencem ao mesmo grupo nas partições S e T\n",
    "- $b$ é o número de pares que pertencem a grupos distintos nas partições S e T\n",
    "- $c$ é o número de pares que pertencem ao mesmo grupo em S e grupos distintos em T\n",
    "- $d$ é o número de pares que pertencem ao mesmo grupo em T e grupos distintos em S\n",
    "\n",
    "O índice de Rand ajustado é o quanto o RI difere do valor esperado. O valor do índice de Rand ajustado é dado por:\n",
    "\n",
    "$$\n",
    "ARI = \\frac{\\sum_{ij}\\binom{|S_i\\cap T_j|}{2} - [\\sum\\binom{|S_i|}{2}\\sum\\binom{|T_j|}{2}]/\\binom{n}{2}}{\\frac{1}{2}[\\sum\\binom{|S_i|}{2}+\\sum\\binom{|T_j|}{2}]- [\\sum\\binom{|S_i|}{2}\\sum\\binom{|T_j|}{2}]/\\binom{n}{2}}\n",
    "$$\n",
    "\n",
    "Ambas as versões do índice variam entre 0 e 1, onde 0 indica nenhuma concordância e 1 completa concordância.\n",
    "\n",
    "Computando o ARI para nosso conjunto de dados sintético, temos:\n"
   ]
  },
  {
   "cell_type": "code",
   "execution_count": 128,
   "metadata": {},
   "outputs": [
    {
     "data": {
      "text/plain": [
       "0.85426366756290029"
      ]
     },
     "execution_count": 128,
     "metadata": {},
     "output_type": "execute_result"
    }
   ],
   "source": [
    "from sklearn.metrics import adjusted_rand_score\n",
    "adjusted_rand_score(model.labels_,df.c)"
   ]
  },
  {
   "cell_type": "code",
   "execution_count": 129,
   "metadata": {},
   "outputs": [
    {
     "data": {
      "text/plain": [
       "0.76784277919085198"
      ]
     },
     "execution_count": 129,
     "metadata": {},
     "output_type": "execute_result"
    }
   ],
   "source": [
    "adjusted_rand_score(labels.flatten(),df.c)"
   ]
  },
  {
   "cell_type": "markdown",
   "metadata": {},
   "source": [
    "#### Silhueta\n",
    "\n",
    "A métrica da silhueta é uma medida de homogeneidade do agrupamento. Ela avalia, em média, o quão similar uma amostra é das demais amostras de seu grupo quando comparada às amostras do cluster mais próximo. O valor da métrica para uma dada amostra é:\n",
    "\n",
    "$$\n",
    "s(x) = \\frac{b(x)-a(x)}{max(b(x),a(x))}\n",
    "$$\n",
    "\n",
    "onde $b(x)$ é a menor distância média entre $x$ e as amostras de outros clusters, e $a(x)$ é a distância média de $x$  para as amostras dentro do cluster de $x$.\n",
    "\n",
    "O valor da métrica para o cluster é a média sobre todas as amostras. Ela varia entre -1 (quando a amostra é mais distante das amostras do cluster) e 1 (quando ela é mais distante das amostras fora do cluster).\n"
   ]
  },
  {
   "cell_type": "code",
   "execution_count": 132,
   "metadata": {},
   "outputs": [
    {
     "name": "stdout",
     "output_type": "stream",
     "text": [
      "[ 0.55094839  0.59975346  0.61007481  0.53705848  0.2453906   0.57287273\n",
      "  0.60913245  0.20997806  0.34122234  0.49796695  0.54534328  0.48821488\n",
      "  0.38468948  0.51187653  0.63623312  0.43788456  0.62564506  0.12741325\n",
      "  0.56935257  0.54101476  0.58009586  0.32095295  0.62147863  0.36196189\n",
      "  0.59805905  0.49401579  0.29288657  0.53444108  0.59488347  0.62417385\n",
      "  0.13512402  0.5944502   0.62453798  0.34245002  0.57054492  0.1408177\n",
      "  0.55087135  0.62300985  0.59086818  0.5894282   0.42427742  0.60317254\n",
      "  0.08260327  0.64610776  0.59553057  0.00945097  0.46487972  0.49871715\n",
      "  0.60340607  0.62762909  0.40785854  0.61844411  0.51803303  0.65225402\n",
      "  0.44623994  0.62842982  0.11854829  0.43630536  0.38335413  0.24895565]\n",
      "0.474021912518\n"
     ]
    }
   ],
   "source": [
    "from sklearn.metrics import silhouette_score, silhouette_samples\n",
    "print(silhouette_samples(df[['x','y']].values,model.labels_))\n",
    "print(silhouette_score(df[['x','y']].values,model.labels_))"
   ]
  },
  {
   "cell_type": "markdown",
   "metadata": {},
   "source": [
    "A silhueta é uma métrica muito usada também para definir o número de clusters no K-means. Podemos plotar os valores de silhueta de cada amostra por cluster e, assim, verificar visualmente a homogeneidade dos clusters obtidos. Se houverem muitos clusters com homogeneidade abaixo da média (ou essa for baixa), isso indica que devemos testar outros valores de $k$. A documentação de `sklearn` ilustra um exemplo disso http://scikit-learn.org/stable/auto_examples/cluster/plot_kmeans_silhouette_analysis.html#selecting-the-number-of-clusters-with-silhouette-analysis-on-kmeans-clustering\n",
    "\n",
    "Finalmente, `sklearn` possui uma boa documentação sobre métricas de avaliação do agrupamento no seguinte link http://scikit-learn.org/stable/modules/clustering.html#clustering-performance-evaluation"
   ]
  },
  {
   "cell_type": "code",
   "execution_count": null,
   "metadata": {
    "collapsed": true
   },
   "outputs": [],
   "source": []
  }
 ],
 "metadata": {
  "kernelspec": {
   "display_name": "Python 3",
   "language": "python",
   "name": "python3"
  },
  "language_info": {
   "codemirror_mode": {
    "name": "ipython",
    "version": 3
   },
   "file_extension": ".py",
   "mimetype": "text/x-python",
   "name": "python",
   "nbconvert_exporter": "python",
   "pygments_lexer": "ipython3",
   "version": "3.6.3"
  }
 },
 "nbformat": 4,
 "nbformat_minor": 2
}
