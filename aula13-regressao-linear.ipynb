{
 "cells": [
  {
   "cell_type": "markdown",
   "metadata": {},
   "source": [
    "# Aula 13 &mdash; Regressão linear\n",
    "\n",
    "Renato Vimieiro\n",
    "\n",
    "rv2 {em} cin.ufpe.br\n",
    "\n",
    "maio 2017"
   ]
  },
  {
   "cell_type": "code",
   "execution_count": 4,
   "metadata": {},
   "outputs": [],
   "source": [
    "import pandas as pd\n",
    "import numpy as np\n",
    "\n",
    "import matplotlib.pyplot as plt\n",
    "import seaborn as sns\n",
    "import matplotlib\n",
    "matplotlib.style.use('ggplot')\n",
    "\n",
    "from sklearn.linear_model import LinearRegression\n",
    "\n",
    "% matplotlib inline\n"
   ]
  },
  {
   "cell_type": "markdown",
   "metadata": {},
   "source": [
    "## Introdução\n",
    "\n",
    "Regressão linear é um método de aprendizado supervisionado que é muito simples, mas ainda assim muito eficiente e versátil na detecção e análise de padrões nos dados. O objetivo central do método de regressão linear é ajustar um modelo (um hiperplano) aos dados de forma a predizer o valor de um atributo quantitativo (variável dependente). Por exemplo, poderíamos tentar ajustar um modelo para predizer o valor do crédito a ser concedido a um cliente com base nos seus dados pessoais (salário, idade, tempo de serviço, empréstimos contraídos, dívidas, ...).\n",
    "\n",
    "Embora o objetivo central seja a construção de um modelo de predição de valores da variável dependente, o modelo ainda pode fornecer informações sobre a influência das variáveis independentes sobre ela. Em outras palavras, podemos usar regressão linear para entender como certos atributos influenciam uns aos outros.\n",
    "\n",
    "Essa aula é baseada no capítulo 3 do livro *An Introduction to Statistical Learning*, cujos detalhes estão nas referências da disciplina. Usaremos o mesmo exemplo base do livro. O exemplo consiste num conjunto de dados sobre o impacto de publicidade em três tipos de mídia (TV, jornal impresso, e rádio) nas vendas de um produto. A seguir carregamos o conjunto em um data frame:"
   ]
  },
  {
   "cell_type": "code",
   "execution_count": 2,
   "metadata": {},
   "outputs": [
    {
     "name": "stdout",
     "output_type": "stream",
     "text": [
      "(200, 4)\n"
     ]
    },
    {
     "data": {
      "text/html": [
       "<div>\n",
       "<style scoped>\n",
       "    .dataframe tbody tr th:only-of-type {\n",
       "        vertical-align: middle;\n",
       "    }\n",
       "\n",
       "    .dataframe tbody tr th {\n",
       "        vertical-align: top;\n",
       "    }\n",
       "\n",
       "    .dataframe thead th {\n",
       "        text-align: right;\n",
       "    }\n",
       "</style>\n",
       "<table border=\"1\" class=\"dataframe\">\n",
       "  <thead>\n",
       "    <tr style=\"text-align: right;\">\n",
       "      <th></th>\n",
       "      <th>TV</th>\n",
       "      <th>radio</th>\n",
       "      <th>newspaper</th>\n",
       "      <th>sales</th>\n",
       "    </tr>\n",
       "  </thead>\n",
       "  <tbody>\n",
       "    <tr>\n",
       "      <th>0</th>\n",
       "      <td>230.1</td>\n",
       "      <td>37.8</td>\n",
       "      <td>69.2</td>\n",
       "      <td>22.1</td>\n",
       "    </tr>\n",
       "    <tr>\n",
       "      <th>1</th>\n",
       "      <td>44.5</td>\n",
       "      <td>39.3</td>\n",
       "      <td>45.1</td>\n",
       "      <td>10.4</td>\n",
       "    </tr>\n",
       "    <tr>\n",
       "      <th>2</th>\n",
       "      <td>17.2</td>\n",
       "      <td>45.9</td>\n",
       "      <td>69.3</td>\n",
       "      <td>9.3</td>\n",
       "    </tr>\n",
       "    <tr>\n",
       "      <th>3</th>\n",
       "      <td>151.5</td>\n",
       "      <td>41.3</td>\n",
       "      <td>58.5</td>\n",
       "      <td>18.5</td>\n",
       "    </tr>\n",
       "    <tr>\n",
       "      <th>4</th>\n",
       "      <td>180.8</td>\n",
       "      <td>10.8</td>\n",
       "      <td>58.4</td>\n",
       "      <td>12.9</td>\n",
       "    </tr>\n",
       "  </tbody>\n",
       "</table>\n",
       "</div>"
      ],
      "text/plain": [
       "      TV  radio  newspaper  sales\n",
       "0  230.1   37.8       69.2   22.1\n",
       "1   44.5   39.3       45.1   10.4\n",
       "2   17.2   45.9       69.3    9.3\n",
       "3  151.5   41.3       58.5   18.5\n",
       "4  180.8   10.8       58.4   12.9"
      ]
     },
     "execution_count": 2,
     "metadata": {},
     "output_type": "execute_result"
    }
   ],
   "source": [
    "ads = pd.read_csv(\"http://www-bcf.usc.edu/~gareth/ISL/Advertising.csv\",\n",
    "                  usecols=[1,2,3,4])\n",
    "print(ads.shape)\n",
    "ads.head()"
   ]
  },
  {
   "cell_type": "markdown",
   "metadata": {},
   "source": [
    "Antes de iniciarmos qualquer análise, devemos plotar os dados para avaliar se existe alguma relação entre o investimento em publicidade e o total de vendas."
   ]
  },
  {
   "cell_type": "code",
   "execution_count": 7,
   "metadata": {},
   "outputs": [
    {
     "data": {
      "image/png": "[encoded data removed]",
      "text/plain": [
       "<matplotlib.figure.Figure at 0x117e72470>"
      ]
     },
     "metadata": {},
     "output_type": "display_data"
    }
   ],
   "source": [
    "figs, axes = plt.subplots(1,3,figsize=(15,4))\n",
    "ads[['TV','sales']].plot.scatter(x='TV',y='sales',ax=axes[0])\n",
    "ads[['radio','sales']].plot.scatter(x='radio',y='sales',ax=axes[1])\n",
    "ads[['newspaper','sales']].plot.scatter(x='newspaper',y='sales',ax=axes[2]);"
   ]
  },
  {
   "cell_type": "markdown",
   "metadata": {},
   "source": [
    "Percebemos que existe uma certa relação entre o investimento em publicidade e o aumento de vendas. É verdade também que a relação talvez não seja exatamente linear, mas, em geral, supomos como tal para simplificar o modelo. Nesse ponto, surgem várias perguntas:\n",
    "\n",
    "1. Em cada caso, qual a reta que melhor descreve os dados?\n",
    "2. Quão forte é essa relação entre publicidade e vendas?\n",
    "4. Qual a precisão do modelo e da influência dos meios nas vendas?\n",
    "3. Das três mídias investidas, qual é a que mais contribui para o aumento de vendas?\n",
    "5. Existe alguma interação entre as diferentes mídias? O efeito de cada uma delas é isolado ou elas se inter-influenciam?"
   ]
  },
  {
   "cell_type": "markdown",
   "metadata": {},
   "source": [
    "## Regressão linear simples (método dos mínimos quadrados)\n",
    "\n",
    "No caso mais simples de regressão linear, queremos determinar a equação de uma reta que melhor se ajusta ao conjunto de dados. Nossa suposição é que a relação entre a variável dependente e independente seja dada pela seguinte equação:\n",
    "\n",
    "$$ Y = \\beta_0 + \\beta_1X $$.\n",
    "\n",
    "A escolha de diferentes valores para os coeficientes $\\beta_0$ e $\\beta_1$ resulta em diferentes retas. Exemplos:"
   ]
  },
  {
   "cell_type": "code",
   "execution_count": 21,
   "metadata": {},
   "outputs": [
    {
     "data": {
      "image/png": "[encoded data removed]",
      "text/plain": [
       "<matplotlib.figure.Figure at 0x11860c160>"
      ]
     },
     "metadata": {},
     "output_type": "display_data"
    }
   ],
   "source": [
    "figs, ax = plt.subplots(1,1,figsize=(6,5))\n",
    "ads[['TV','sales']].plot.scatter(x='TV',y='sales',ax=ax)\n",
    "ax.plot(ads.TV,np.repeat(ads.sales.mean(),ads.shape[0]),color='green')\n",
    "ax.plot(ads.TV.sort_values(inplace=False),ads.TV.map(lambda x: 0.05*x+7).iloc[ads.TV.argsort()],color='red')\n",
    "ax.plot(ads.TV.sort_values(inplace=False),ads.TV.map(lambda x: 0.03*x+10).iloc[ads.TV.argsort()],color='black');"
   ]
  },
  {
   "cell_type": "markdown",
   "metadata": {},
   "source": [
    "O problema é como encontrar os coeficientes que melhor se ajustam aos dados. Isso nos leva a refletir como definir o conceito de 'melhor se ajusta aos dados'. A definição mais comum leva em conta a minimização da soma dos quadrados dos erros (chamados de **resíduos**). Ou seja, deseja-se obter o mínimo para a função:\n",
    "\n",
    "$$S(X) = \\sum e_i^2 = \\sum (y_i - \\hat{\\beta_0} - \\hat{\\beta_1}x_i)^2$$,\n",
    "onde $\\hat{\\beta_0}$ e $\\hat{\\beta_1}$ são estimativas para os coeficientes.\n",
    "\n",
    "A função atinge o mínimo quando sua derivada é zero. Assim, para calcular os coeficientes, derivamos a função, igualamos a zero e resolvemos o sistema resultante. O resultado é:\n",
    "\n",
    "$$\\hat{\\beta_1} = \\frac{\\sum (x_i-\\bar{x})(y_i-\\bar{y})}{\\sum (x_i-\\bar{x})^2}$$\n",
    "\n",
    "$$\\hat{\\beta_0} = \\bar{y} -\\hat{\\beta_1}\\bar{x}$$\n",
    "\n",
    "Logo, podemos calcular os coeficientes para os dados do exemplo:"
   ]
  },
  {
   "cell_type": "code",
   "execution_count": 16,
   "metadata": {},
   "outputs": [
    {
     "name": "stdout",
     "output_type": "stream",
     "text": [
      "y = 7.033 +0.048x\n"
     ]
    }
   ],
   "source": [
    "b1 = np.sum(ads.TV.map(lambda x: x-ads.TV.mean())*\\\n",
    "            ads.sales.map(lambda x: x-ads.sales.mean()))/\\\n",
    "np.sum(ads.TV.map(lambda x: (x-ads.TV.mean())**2))\n",
    "b0 = ads.sales.mean()-b1*ads.TV.mean()\n",
    "print('y = {:.3f} {:+.3f}x'.format(b0,b1))"
   ]
  },
  {
   "cell_type": "code",
   "execution_count": 17,
   "metadata": {},
   "outputs": [
    {
     "data": {
      "text/plain": [
       "[<matplotlib.lines.Line2D at 0x10cecadd8>]"
      ]
     },
     "execution_count": 17,
     "metadata": {},
     "output_type": "execute_result"
    },
    {
     "data": {
      "image/png": "[encoded data removed]",
      "text/plain": [
       "<matplotlib.figure.Figure at 0x10cb516a0>"
      ]
     },
     "metadata": {},
     "output_type": "display_data"
    }
   ],
   "source": [
    "figs, ax = plt.subplots(1,1,figsize=(6,4))\n",
    "ads[['TV','sales']].plot.scatter(x='TV',y='sales',ax=ax)\n",
    "ax.plot(ads.TV,ads.TV.map(lambda x: b1*x+b0),color='red')\n"
   ]
  },
  {
   "cell_type": "markdown",
   "metadata": {},
   "source": [
    "É importante ressaltar que, ainda que a relação entre as variáveis fosse realmente linear e soubéssemos os *verdadeiros* valores dos coeficientes $\\beta_0$ e $\\beta_1$, os valores encontrados pelo método dos mínimos quadrados seriam diferentes. Isso porque não consideramos erros que podem ser introduzidos aos dados por diversas vias (medições, representação numérica, ...). Assim, a equação mais fiel aos dados seria\n",
    "\n",
    "$$ Y = \\beta_0 + \\beta_1X + \\epsilon$$.\n",
    "\n",
    "Para exemplificar, vamos considerar que a verdadeira relação entre uma variável dependente e independente seja dada pela equação $y = 5x + 3$. Agora, consideremos que os erros sigam uma distribuição normal com média zero e desvio padrão 10. Vamos gerar um conjunto de dados seguindo tais especificações e ver como o modelo é ajustado."
   ]
  },
  {
   "cell_type": "code",
   "execution_count": 39,
   "metadata": {},
   "outputs": [],
   "source": [
    "f = lambda x: 5*x+3\n",
    "np.random.seed(111)\n",
    "x = np.random.uniform(10,0,size=100)\n",
    "e = np.random.normal(0,20,size=100)\n",
    "yv = np.apply_along_axis(f,0,x)\n",
    "y = yv+e\n",
    "\n",
    "b1 = np.sum((x-np.mean(x))*(y-np.mean(y)))/np.sum((x-np.mean(x))**2)\n",
    "b0 = np.mean(y)-b1*np.mean(x)\n",
    "g = lambda x: b0+b1*x\n",
    "yreg = np.apply_along_axis(g,0,x)"
   ]
  },
  {
   "cell_type": "code",
   "execution_count": 40,
   "metadata": {},
   "outputs": [
    {
     "data": {
      "image/png": "[encoded data removed]",
      "text/plain": [
       "<matplotlib.figure.Figure at 0x118a8d5c0>"
      ]
     },
     "metadata": {},
     "output_type": "display_data"
    }
   ],
   "source": [
    "fig, axes = plt.subplots(1,2,figsize=(12,4))\n",
    "axes[0].plot(x,y,'o',color='blue')\n",
    "axes[0].plot(x,yv,color='red')\n",
    "axes[0].plot(x,yreg,color='black')\n",
    "\n",
    "axes[1].plot(x,yv,color='red')\n",
    "axes[1].plot(x,yreg,color='black')\n",
    "\n",
    "for i in range(10):\n",
    "    f = lambda x: 5*x+3\n",
    "    x = np.random.uniform(10,0,size=100)\n",
    "    e = np.random.normal(0,20,size=100)\n",
    "    yv = np.apply_along_axis(f,0,x)\n",
    "    y = yv+e\n",
    "\n",
    "    b1 = np.sum((x-np.mean(x))*(y-np.mean(y)))/np.sum((x-np.mean(x))**2)\n",
    "    b0 = np.mean(y)-b1*np.mean(x)\n",
    "    g = lambda x: b0+b1*x\n",
    "    yreg = np.apply_along_axis(g,0,x)\n",
    "    axes[1].plot(x,yreg,color='blue',alpha=0.2)"
   ]
  },
  {
   "cell_type": "markdown",
   "metadata": {},
   "source": [
    "Observamos que, dadas as premissas de que os erros seguem uma distribuição normal com média zero e desvio padrão $\\sigma$, o valor médio entre as diversas predições para $Y$ se aproxima do valor real (dado pela equação da reta). Dessa forma, percebemos que não há um erro sistemático (viés) nas estimativas. Portanto, ainda que os coeficientes para um conjunto de dados específico não forneça a real relação entre as variáveis, se tivéssemos uma grande amostra de conjuntos de dados, a média dos coeficientes seria o valor exato deles."
   ]
  },
  {
   "cell_type": "markdown",
   "metadata": {},
   "source": [
    "#### Qualidade da estimativa dos coeficientes\n",
    "\n",
    "Da mesma forma que usamos o erro padrão para avaliar quão distante a média da amostra está da média populacional, o erro padrão dos coeficientes revela quão distantes eles estão dos reais valores. Através das propriedades da variância e esperança, pode-se [demonstrar](http://qed.econ.queensu.ca/pub/faculty/abbott/econ351/351note04.pdf) que os erros padrão dos coeficientes são dados por\n",
    "\n",
    "$$SE(\\hat{\\beta_0})^2 = \\sigma^2\\left[\\frac{1}{n}+\\frac{\\bar{x}^2}{\\sum (x_i-\\bar{x})^2}\\right]$$\n",
    "\n",
    "$$SE(\\hat{\\beta_1})^2 = \\frac{\\sigma^2}{\\sum (x_i-\\bar{x})^2}$$,\n",
    "onde $\\sigma^2 = Var(\\epsilon)$ e pode ser estimado por $S(x)/(n-2)$.\n",
    "\n",
    "As estimativas de erro padrão podem ser usadas para definir os intervalos de confiança dos coeficientes. Por exemplo, os intervalos de confiança de 95% dos coeficientes são dados por\n",
    "\n",
    "$$\\left[\\hat{\\beta_0}-1.96~SE(\\hat{\\beta_0}),~~\\hat{\\beta_0}+1.96~SE(\\hat{\\beta_0})\\right]$$\n",
    "$$\\left[\\hat{\\beta_1}-1.96~SE(\\hat{\\beta_1}),~~\\hat{\\beta_1}+1.96~SE(\\hat{\\beta_1})\\right]$$\n",
    "\n",
    "Assim, podemos calcular os intervalos de confiança dos coeficientes estimados para o problema da publicidade."
   ]
  },
  {
   "cell_type": "code",
   "execution_count": 20,
   "metadata": {},
   "outputs": [
    {
     "name": "stdout",
     "output_type": "stream",
     "text": [
      "b0 = [6.135, 7.930]\n",
      "b1 = [0.042, 0.053]\n"
     ]
    }
   ],
   "source": [
    "b1 = np.sum(ads.TV.map(lambda x: x-ads.TV.mean())*\\\n",
    "            ads.sales.map(lambda x: x-ads.sales.mean()))/\\\n",
    "np.sum(ads.TV.map(lambda x: (x-ads.TV.mean())**2))\n",
    "b0 = ads.sales.mean()-b1*ads.TV.mean()\n",
    "\n",
    "f = lambda x: b0+b1*x\n",
    "\n",
    "RSE = np.sum((ads.sales.values-ads.TV.map(f))**2)/(ads.shape[0]-2)\n",
    "TSS = np.sum(ads.TV.map(lambda x: (x-ads.TV.mean())**2))\n",
    "SEb0 = np.sqrt(RSE*(1/ads.shape[0]+(ads.TV.mean()**2)/TSS))\n",
    "SEb1 = np.sqrt(RSE/TSS)\n",
    "\n",
    "print('b0 = [{:.3f}, {:.3f}]'.format(b0-1.96*SEb0,b0+1.96*SEb0))\n",
    "print('b1 = [{:.3f}, {:.3f}]'.format(b1-1.96*SEb1,b1+1.96*SEb1))"
   ]
  },
  {
   "cell_type": "markdown",
   "metadata": {
    "collapsed": true
   },
   "source": [
    "Esses intervalos podem ser interpretados como:\n",
    "\n",
    "- Na ausência de investimentos em publicidade, as vendas vão ficar entre 6 e 8 unidades\n",
    "- O investimento de \\$1000 em publicidade na TV resulta no aumento da venda de 42 a 53 unidades"
   ]
  },
  {
   "cell_type": "markdown",
   "metadata": {},
   "source": [
    "## Quão forte é a relação entre publicidade e vendas\n",
    "\n",
    "O erro padrão do coeficiente $\\hat{\\beta_1}$ também é útil para testar a força da relação entre o investimento em publicidade na TV e o aumento das vendas. Podemos testar a hipótese de que não existe relação entre o investimento em TV e aumento de vendas (i.e. $\\beta_1=0$). Para isso avaliamos se o valor estimado é significativamente diferente de zero. Fazemos isso usando a estatística t\n",
    "\n",
    "$$t = \\frac{\\hat{\\beta_1} - 0}{SE(\\hat{\\beta_1})}$$\n",
    "\n",
    "e avaliando a probabilidade de observar um valor tão extremo quanto $t$."
   ]
  },
  {
   "cell_type": "code",
   "execution_count": 21,
   "metadata": {},
   "outputs": [
    {
     "name": "stdout",
     "output_type": "stream",
     "text": [
      "17.6676256009\n"
     ]
    },
    {
     "data": {
      "text/plain": [
       "7.3369485009735888e-43"
      ]
     },
     "execution_count": 21,
     "metadata": {},
     "output_type": "execute_result"
    }
   ],
   "source": [
    "from scipy.stats import t\n",
    "\n",
    "tB1 = b1/SEb1\n",
    "print(tB1)\n",
    "t.sf(tB1,ads.shape[0]-2) #sf = 1-cdf"
   ]
  },
  {
   "cell_type": "markdown",
   "metadata": {},
   "source": [
    "A probabilidade de observar um valor tão extremo quanto $t$ é quase zero como vimos acima. Esse valor, chamado de ***p-value***, nos informa a probabilidade do coeficiente computado ter ocorrido simplesmente por chance. Como essa probabilidade é bem pequena (em geral, os limiares usados para definir pequeno são 0.05 e 0.01), rejeitamos a hipótese de que o coeficiente real é zero. Em outras palavras, aceitamos que existe uma relação entre o investimento em TV e o aumento nas vendas."
   ]
  },
  {
   "cell_type": "markdown",
   "metadata": {},
   "source": [
    "## Qual a qualidade do modelo?\n",
    "\n",
    "O teste de hipótese mostrou que, de fato, existe uma relação entre a variável dependente e a independente. O p-value calculado, no entanto, não mostra a precisão deste modelo. \n",
    "\n",
    "A qualidade do modelo é avaliada de duas formas: *erro padrão residual* e *coeficiente de determinação*.\n",
    "\n",
    "O erro padrão residual (RSE) é uma estimativa do desvio padrão dos resíduos (erros) do modelo. Ele é definido por\n",
    "\n",
    "$$RSE = \\sqrt{\\frac{S(x)}{n-2}} = \\sqrt{\\frac{\\sum (y_i - \\beta_0 - \\beta_1x_i)^2}{n-2}}$$."
   ]
  },
  {
   "cell_type": "code",
   "execution_count": 22,
   "metadata": {},
   "outputs": [
    {
     "data": {
      "text/plain": [
       "3.2586563686504624"
      ]
     },
     "execution_count": 22,
     "metadata": {},
     "output_type": "execute_result"
    }
   ],
   "source": [
    "RSE = np.sqrt(np.sum((ads.sales.values-ads.TV.map(f))**2)/(ads.shape[0]-2))\n",
    "RSE"
   ]
  },
  {
   "cell_type": "markdown",
   "metadata": {},
   "source": [
    "Intuitivamente, esse valor nos mostra que, em média, os valores de venda vão oscilar em 3.26 unidades do valor real.\n",
    "\n",
    "O coeficiente de determinação, por outro lado, mostra a proporção da variância explicada pelo modelo. O coeficiente de determinação é calculado por\n",
    "\n",
    "$$R^2 = \\frac{TSS-RSS}{TSS}$$,\n",
    "onde $TSS = \\sum (y_i - \\bar{y})^2$ e $RSS = S(x) = \\sum (y_i - \\beta_0 - \\beta_1x_i)^2$"
   ]
  },
  {
   "cell_type": "code",
   "execution_count": 23,
   "metadata": {},
   "outputs": [
    {
     "name": "stdout",
     "output_type": "stream",
     "text": [
      "5417.14875 2102.53058313 0.61187505085\n"
     ]
    }
   ],
   "source": [
    "RSS = np.sum((ads.sales.values-ads.TV.map(f))**2)\n",
    "TSS = np.sum((ads.sales.values-ads.sales.mean())**2)\n",
    "R2 = (TSS-RSS)/TSS\n",
    "\n",
    "print(TSS,RSS,R2)"
   ]
  },
  {
   "cell_type": "markdown",
   "metadata": {},
   "source": [
    "O coeficiente de determinação varia entre 0 e 1. Valores próximos de zero indicam que o modelo não consegue explicar a variação dos dados, enquanto valores próximos de 1 indicam que a variação dos dados é totalmente explicada pelo modelo. \n",
    "\n",
    "Assim, percebemos que o modelo consegue explicar cerca de 61% da variação das vendas, ou seja, 2/3 do aumento das vendas pode ser explicada pelo investimento na publicidade em TV."
   ]
  },
  {
   "cell_type": "markdown",
   "metadata": {},
   "source": [
    "## Regressão linear em Python\n",
    "\n",
    "Felizmente não precisamos usar todas equações derivadas acima para ajustar um modelo de regressão linear em Python. De fato, existem diversas formas de se fazê-lo, usando SciPy ou Scikit-Learn.\n",
    "\n",
    "#### SciPy"
   ]
  },
  {
   "cell_type": "code",
   "execution_count": 24,
   "metadata": {},
   "outputs": [
    {
     "name": "stdout",
     "output_type": "stream",
     "text": [
      "y = 7.033 + 0.048x\n",
      "Stats\n",
      "r2 = 0.612, p-value=0.000\n"
     ]
    }
   ],
   "source": [
    "from scipy.stats import linregress\n",
    "\n",
    "X = ads.TV.values.copy()\n",
    "y = ads.sales.values\n",
    "\n",
    "model = linregress(X,y)\n",
    "print('y = {:.3f} + {:.3f}x'.format(model.intercept,model.slope))\n",
    "print('Stats')\n",
    "print('r2 = {:.3f}, p-value={:.3f}'.format(model.rvalue**2,model.pvalue))"
   ]
  },
  {
   "cell_type": "markdown",
   "metadata": {},
   "source": [
    "#### sklearn"
   ]
  },
  {
   "cell_type": "code",
   "execution_count": 27,
   "metadata": {},
   "outputs": [
    {
     "name": "stdout",
     "output_type": "stream",
     "text": [
      "y = 7.033 + 0.048x\n",
      "Stats\n",
      "r2 = 0.612\n"
     ]
    }
   ],
   "source": [
    "from sklearn.linear_model import LinearRegression\n",
    "from sklearn.metrics import r2_score, explained_variance_score\n",
    "\n",
    "model = LinearRegression()\n",
    "model.fit(X[:, np.newaxis],y)\n",
    "print('y = {:.3f} + {:.3f}x'.format(model.intercept_,model.coef_[0]))\n",
    "print('Stats')\n",
    "print('r2 = {:.3f}'.format(r2_score(y,model.predict(X[:, np.newaxis]))))"
   ]
  },
  {
   "cell_type": "code",
   "execution_count": 29,
   "metadata": {},
   "outputs": [
    {
     "data": {
      "text/plain": [
       "array([[ 230.1],\n",
       "       [  44.5],\n",
       "       [  17.2],\n",
       "       [ 151.5],\n",
       "       [ 180.8],\n",
       "       [   8.7],\n",
       "       [  57.5],\n",
       "       [ 120.2],\n",
       "       [   8.6],\n",
       "       [ 199.8],\n",
       "       [  66.1],\n",
       "       [ 214.7],\n",
       "       [  23.8],\n",
       "       [  97.5],\n",
       "       [ 204.1],\n",
       "       [ 195.4],\n",
       "       [  67.8],\n",
       "       [ 281.4],\n",
       "       [  69.2],\n",
       "       [ 147.3],\n",
       "       [ 218.4],\n",
       "       [ 237.4],\n",
       "       [  13.2],\n",
       "       [ 228.3],\n",
       "       [  62.3],\n",
       "       [ 262.9],\n",
       "       [ 142.9],\n",
       "       [ 240.1],\n",
       "       [ 248.8],\n",
       "       [  70.6],\n",
       "       [ 292.9],\n",
       "       [ 112.9],\n",
       "       [  97.2],\n",
       "       [ 265.6],\n",
       "       [  95.7],\n",
       "       [ 290.7],\n",
       "       [ 266.9],\n",
       "       [  74.7],\n",
       "       [  43.1],\n",
       "       [ 228. ],\n",
       "       [ 202.5],\n",
       "       [ 177. ],\n",
       "       [ 293.6],\n",
       "       [ 206.9],\n",
       "       [  25.1],\n",
       "       [ 175.1],\n",
       "       [  89.7],\n",
       "       [ 239.9],\n",
       "       [ 227.2],\n",
       "       [  66.9],\n",
       "       [ 199.8],\n",
       "       [ 100.4],\n",
       "       [ 216.4],\n",
       "       [ 182.6],\n",
       "       [ 262.7],\n",
       "       [ 198.9],\n",
       "       [   7.3],\n",
       "       [ 136.2],\n",
       "       [ 210.8],\n",
       "       [ 210.7],\n",
       "       [  53.5],\n",
       "       [ 261.3],\n",
       "       [ 239.3],\n",
       "       [ 102.7],\n",
       "       [ 131.1],\n",
       "       [  69. ],\n",
       "       [  31.5],\n",
       "       [ 139.3],\n",
       "       [ 237.4],\n",
       "       [ 216.8],\n",
       "       [ 199.1],\n",
       "       [ 109.8],\n",
       "       [  26.8],\n",
       "       [ 129.4],\n",
       "       [ 213.4],\n",
       "       [  16.9],\n",
       "       [  27.5],\n",
       "       [ 120.5],\n",
       "       [   5.4],\n",
       "       [ 116. ],\n",
       "       [  76.4],\n",
       "       [ 239.8],\n",
       "       [  75.3],\n",
       "       [  68.4],\n",
       "       [ 213.5],\n",
       "       [ 193.2],\n",
       "       [  76.3],\n",
       "       [ 110.7],\n",
       "       [  88.3],\n",
       "       [ 109.8],\n",
       "       [ 134.3],\n",
       "       [  28.6],\n",
       "       [ 217.7],\n",
       "       [ 250.9],\n",
       "       [ 107.4],\n",
       "       [ 163.3],\n",
       "       [ 197.6],\n",
       "       [ 184.9],\n",
       "       [ 289.7],\n",
       "       [ 135.2],\n",
       "       [ 222.4],\n",
       "       [ 296.4],\n",
       "       [ 280.2],\n",
       "       [ 187.9],\n",
       "       [ 238.2],\n",
       "       [ 137.9],\n",
       "       [  25. ],\n",
       "       [  90.4],\n",
       "       [  13.1],\n",
       "       [ 255.4],\n",
       "       [ 225.8],\n",
       "       [ 241.7],\n",
       "       [ 175.7],\n",
       "       [ 209.6],\n",
       "       [  78.2],\n",
       "       [  75.1],\n",
       "       [ 139.2],\n",
       "       [  76.4],\n",
       "       [ 125.7],\n",
       "       [  19.4],\n",
       "       [ 141.3],\n",
       "       [  18.8],\n",
       "       [ 224. ],\n",
       "       [ 123.1],\n",
       "       [ 229.5],\n",
       "       [  87.2],\n",
       "       [   7.8],\n",
       "       [  80.2],\n",
       "       [ 220.3],\n",
       "       [  59.6],\n",
       "       [   0.7],\n",
       "       [ 265.2],\n",
       "       [   8.4],\n",
       "       [ 219.8],\n",
       "       [  36.9],\n",
       "       [  48.3],\n",
       "       [  25.6],\n",
       "       [ 273.7],\n",
       "       [  43. ],\n",
       "       [ 184.9],\n",
       "       [  73.4],\n",
       "       [ 193.7],\n",
       "       [ 220.5],\n",
       "       [ 104.6],\n",
       "       [  96.2],\n",
       "       [ 140.3],\n",
       "       [ 240.1],\n",
       "       [ 243.2],\n",
       "       [  38. ],\n",
       "       [  44.7],\n",
       "       [ 280.7],\n",
       "       [ 121. ],\n",
       "       [ 197.6],\n",
       "       [ 171.3],\n",
       "       [ 187.8],\n",
       "       [   4.1],\n",
       "       [  93.9],\n",
       "       [ 149.8],\n",
       "       [  11.7],\n",
       "       [ 131.7],\n",
       "       [ 172.5],\n",
       "       [  85.7],\n",
       "       [ 188.4],\n",
       "       [ 163.5],\n",
       "       [ 117.2],\n",
       "       [ 234.5],\n",
       "       [  17.9],\n",
       "       [ 206.8],\n",
       "       [ 215.4],\n",
       "       [ 284.3],\n",
       "       [  50. ],\n",
       "       [ 164.5],\n",
       "       [  19.6],\n",
       "       [ 168.4],\n",
       "       [ 222.4],\n",
       "       [ 276.9],\n",
       "       [ 248.4],\n",
       "       [ 170.2],\n",
       "       [ 276.7],\n",
       "       [ 165.6],\n",
       "       [ 156.6],\n",
       "       [ 218.5],\n",
       "       [  56.2],\n",
       "       [ 287.6],\n",
       "       [ 253.8],\n",
       "       [ 205. ],\n",
       "       [ 139.5],\n",
       "       [ 191.1],\n",
       "       [ 286. ],\n",
       "       [  18.7],\n",
       "       [  39.5],\n",
       "       [  75.5],\n",
       "       [  17.2],\n",
       "       [ 166.8],\n",
       "       [ 149.7],\n",
       "       [  38.2],\n",
       "       [  94.2],\n",
       "       [ 177. ],\n",
       "       [ 283.6],\n",
       "       [ 232.1]])"
      ]
     },
     "execution_count": 29,
     "metadata": {},
     "output_type": "execute_result"
    }
   ],
   "source": [
    "X[:, np.newaxis]"
   ]
  },
  {
   "cell_type": "code",
   "execution_count": null,
   "metadata": {
    "collapsed": true
   },
   "outputs": [],
   "source": []
  }
 ],
 "metadata": {
  "kernelspec": {
   "display_name": "Python 3",
   "language": "python",
   "name": "python3"
  },
  "language_info": {
   "codemirror_mode": {
    "name": "ipython",
    "version": 3
   },
   "file_extension": ".py",
   "mimetype": "text/x-python",
   "name": "python",
   "nbconvert_exporter": "python",
   "pygments_lexer": "ipython3",
   "version": "3.6.3"
  }
 },
 "nbformat": 4,
 "nbformat_minor": 2
}
