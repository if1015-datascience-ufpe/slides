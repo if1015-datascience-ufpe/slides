{
 "cells": [
  {
   "cell_type": "markdown",
   "metadata": {},
   "source": [
    "# Aula 15 &mdash; Regressão Logística\n",
    "\n",
    "Renato Vimieiro\n",
    "\n",
    "rv2 {em} cin.ufpe.br\n",
    "\n",
    "maio 2017"
   ]
  },
  {
   "cell_type": "markdown",
   "metadata": {},
   "source": [
    "## Introdução\n",
    "\n",
    "Nas aulas anteriores nos dedicamos ao estudo do problema de aprendizado supervisionado de predição de valores para uma variável alvo (dependente) a partir dos dados (variáveis independentes). Vimos que o modelo linear ajustado pelo método dos mínimos quadrados, apesar de ser uma simplificação bem drástica da realidade (que obviamente não é linear), fornecia bastante informações acerca dos dados como um todo, mas sobretudo da relação entre as variáveis. Embora o modelo fosse bastante útil, ele é restrito à predição de valores para variáveis quantitativas. Surge, então, a dúvida sobre a aplicação, ou melhor, o ajuste de modelos lineares para predição de variáveis categóricas. Esse problema é conhecido como **classificação**.\n",
    "\n",
    "Para entendermos os conceitos relacionados ao problema, vamos usar um conjunto de dados real sobre câncer de próstata publicado em 1989. A referência do estudo é:\n",
    "\n",
    "*Stamey, T.A., Kabalin, J.N., McNeal, J.E., Johnstone, I.M., Freiha, F., Redwine, E.A. and Yang, N. (1989)\n",
    "Prostate specific antigen in the diagnosis and treatment of adenocarcinoma of the prostate: II. radical prostatectomy treated patients, Journal of Urology 141(5), 1076–1083*\n",
    "\n",
    "Esse conjunto de dados é amplamente usado para o ensino de diversas técnicas. Frequentemente ele está nos pacotes de R e Python como exemplo. A ideia do estudo era avaliar a correlação entre o valor do PSA e outros dados clínicos de pacientes prestes a terem a próstata retirada (prostatectomia). O conjunto possui as seguintes variáveis:\n",
    "\n",
    "- **lcavol** log do volume do câncer \n",
    "- **lweight** log do peso da próstata\n",
    "- **age** idade do paciente\n",
    "- **lbph** log da quantidade de tumor benigno\n",
    "- **svi** variável indicadora se houve invasão da vesícula seminal \n",
    "- **lcp** log da penetração do tumor na cápsula prostática (tecido que contém a próstata)\n",
    "- **gleason** escore de Gleason\n",
    "- **pgg45** percentual de escores de Gleason 4 ou 5 (pgg45)\n",
    "- **lpsa** log do valor do PSA\n",
    "\n",
    "O escore de Gleason é uma métrica usada pelos patologistas para avaliar a gravidade e o prognóstico das amostras estudadas. Em geral, um escore de Gleason entre 5-6 indica que há grandes chances do câncer ser tratado e curado, ou seja está associado a um bom prognóstico, enquanto escores entre 8-10 indicam que o tumor já é ou vai se tornar bastante agressivo e há poucas chances do paciente ser curado (mau prognóstico). No caso do escore 7, o comportamento do tumor é mais heterogêneo, podendo o paciente ter bom ou mau prognóstico. No entanto, ele é mais associado a um mau prognóstico que a um bom.\n"
   ]
  },
  {
   "cell_type": "code",
   "execution_count": 1,
   "metadata": {},
   "outputs": [],
   "source": [
    "import pandas as pd\n",
    "import numpy as np\n",
    "import seaborn as sns\n",
    "from seaborn import color_palette\n",
    "import matplotlib.pyplot as plt\n",
    "import matplotlib\n",
    "matplotlib.style.use('ggplot')\n",
    "\n",
    "import statsmodels.formula.api as smf\n",
    "import statsmodels.api as sm\n",
    "\n",
    "from sklearn.linear_model import LogisticRegression, LogisticRegressionCV\n",
    "from sklearn.metrics import accuracy_score, recall_score\n",
    "\n",
    "%matplotlib inline"
   ]
  },
  {
   "cell_type": "code",
   "execution_count": 2,
   "metadata": {},
   "outputs": [
    {
     "data": {
      "text/html": [
       "<div>\n",
       "<style scoped>\n",
       "    .dataframe tbody tr th:only-of-type {\n",
       "        vertical-align: middle;\n",
       "    }\n",
       "\n",
       "    .dataframe tbody tr th {\n",
       "        vertical-align: top;\n",
       "    }\n",
       "\n",
       "    .dataframe thead th {\n",
       "        text-align: right;\n",
       "    }\n",
       "</style>\n",
       "<table border=\"1\" class=\"dataframe\">\n",
       "  <thead>\n",
       "    <tr style=\"text-align: right;\">\n",
       "      <th></th>\n",
       "      <th>lcavol</th>\n",
       "      <th>lweight</th>\n",
       "      <th>age</th>\n",
       "      <th>lbph</th>\n",
       "      <th>svi</th>\n",
       "      <th>lcp</th>\n",
       "      <th>gleason</th>\n",
       "      <th>pgg45</th>\n",
       "      <th>lpsa</th>\n",
       "      <th>train</th>\n",
       "    </tr>\n",
       "  </thead>\n",
       "  <tbody>\n",
       "    <tr>\n",
       "      <th>1</th>\n",
       "      <td>-0.579818</td>\n",
       "      <td>2.769459</td>\n",
       "      <td>50</td>\n",
       "      <td>-1.386294</td>\n",
       "      <td>0</td>\n",
       "      <td>-1.386294</td>\n",
       "      <td>6</td>\n",
       "      <td>0</td>\n",
       "      <td>-0.430783</td>\n",
       "      <td>T</td>\n",
       "    </tr>\n",
       "    <tr>\n",
       "      <th>2</th>\n",
       "      <td>-0.994252</td>\n",
       "      <td>3.319626</td>\n",
       "      <td>58</td>\n",
       "      <td>-1.386294</td>\n",
       "      <td>0</td>\n",
       "      <td>-1.386294</td>\n",
       "      <td>6</td>\n",
       "      <td>0</td>\n",
       "      <td>-0.162519</td>\n",
       "      <td>T</td>\n",
       "    </tr>\n",
       "    <tr>\n",
       "      <th>3</th>\n",
       "      <td>-0.510826</td>\n",
       "      <td>2.691243</td>\n",
       "      <td>74</td>\n",
       "      <td>-1.386294</td>\n",
       "      <td>0</td>\n",
       "      <td>-1.386294</td>\n",
       "      <td>7</td>\n",
       "      <td>20</td>\n",
       "      <td>-0.162519</td>\n",
       "      <td>T</td>\n",
       "    </tr>\n",
       "    <tr>\n",
       "      <th>4</th>\n",
       "      <td>-1.203973</td>\n",
       "      <td>3.282789</td>\n",
       "      <td>58</td>\n",
       "      <td>-1.386294</td>\n",
       "      <td>0</td>\n",
       "      <td>-1.386294</td>\n",
       "      <td>6</td>\n",
       "      <td>0</td>\n",
       "      <td>-0.162519</td>\n",
       "      <td>T</td>\n",
       "    </tr>\n",
       "    <tr>\n",
       "      <th>5</th>\n",
       "      <td>0.751416</td>\n",
       "      <td>3.432373</td>\n",
       "      <td>62</td>\n",
       "      <td>-1.386294</td>\n",
       "      <td>0</td>\n",
       "      <td>-1.386294</td>\n",
       "      <td>6</td>\n",
       "      <td>0</td>\n",
       "      <td>0.371564</td>\n",
       "      <td>T</td>\n",
       "    </tr>\n",
       "  </tbody>\n",
       "</table>\n",
       "</div>"
      ],
      "text/plain": [
       "     lcavol   lweight  age      lbph  svi       lcp  gleason  pgg45      lpsa  \\\n",
       "1 -0.579818  2.769459   50 -1.386294    0 -1.386294        6      0 -0.430783   \n",
       "2 -0.994252  3.319626   58 -1.386294    0 -1.386294        6      0 -0.162519   \n",
       "3 -0.510826  2.691243   74 -1.386294    0 -1.386294        7     20 -0.162519   \n",
       "4 -1.203973  3.282789   58 -1.386294    0 -1.386294        6      0 -0.162519   \n",
       "5  0.751416  3.432373   62 -1.386294    0 -1.386294        6      0  0.371564   \n",
       "\n",
       "  train  \n",
       "1     T  \n",
       "2     T  \n",
       "3     T  \n",
       "4     T  \n",
       "5     T  "
      ]
     },
     "execution_count": 2,
     "metadata": {},
     "output_type": "execute_result"
    }
   ],
   "source": [
    "prostate = pd.read_csv(\"https://web.stanford.edu/~hastie/ElemStatLearn/datasets/prostate.data\",\n",
    "                       header=0,index_col=0,sep='\\t')\n",
    "prostate.head()"
   ]
  },
  {
   "cell_type": "markdown",
   "metadata": {},
   "source": [
    "No estudo original, o objetivo era modelar o nível de PSA dos pacientes. Contudo, aqui vamos modificar o objetivo para predizer (classificar) se um paciente tem um bom ou mau prognóstico baseado em seus dados clínicos. Para isso vamos criar uma variável categórica *prognóstico* que terá os valores *bom* e *mau* baseados nos escores de Gleason dos pacientes."
   ]
  },
  {
   "cell_type": "code",
   "execution_count": 3,
   "metadata": {},
   "outputs": [
    {
     "data": {
      "text/plain": [
       "mau    62\n",
       "bom    35\n",
       "Name: prognostico, dtype: int64"
      ]
     },
     "execution_count": 3,
     "metadata": {},
     "output_type": "execute_result"
    }
   ],
   "source": [
    "prostate['prognostico'] = prostate.gleason.map(lambda x: x >=7 and 'mau' or 'bom')\n",
    "prostate.prognostico.value_counts()"
   ]
  },
  {
   "cell_type": "code",
   "execution_count": 4,
   "metadata": {},
   "outputs": [
    {
     "data": {
      "image/png": "[encoded data removed]",
      "text/plain": [
       "<matplotlib.figure.Figure at 0x10a825128>"
      ]
     },
     "metadata": {},
     "output_type": "display_data"
    }
   ],
   "source": [
    "fig, axes = plt.subplots(2,3,figsize=(13,6))\n",
    "sns.boxplot(x='prognostico',y='lcavol',data=prostate,ax=axes[0][0],width=.2,palette=color_palette(['#67a9cf','#ef8a62']))\n",
    "sns.boxplot(x='prognostico',y='lweight',data=prostate,ax=axes[0][1],width=.2,palette=color_palette(['#67a9cf','#ef8a62']))\n",
    "sns.boxplot(x='prognostico',y='lbph',data=prostate,ax=axes[0][2],width=.2,palette=color_palette(['#67a9cf','#ef8a62']))\n",
    "sns.boxplot(x='prognostico',y='lcp',data=prostate,ax=axes[1][0],width=.2,palette=color_palette(['#67a9cf','#ef8a62']))\n",
    "sns.boxplot(x='prognostico',y='lpsa',data=prostate,ax=axes[1][1],width=.2,palette=color_palette(['#67a9cf','#ef8a62']))\n",
    "#sns.boxplot(x='prognostico',y=prostate.prognostico.value_counts(),data=prostate,ax=axes[1][2])\n",
    "axes[0][0].xaxis.label.set_visible(False)\n",
    "axes[0][1].xaxis.label.set_visible(False)\n",
    "axes[0][2].xaxis.label.set_visible(False)\n",
    "axes[1][0].xaxis.label.set_visible(False)\n",
    "axes[1][1].xaxis.label.set_visible(False)\n",
    "fig.delaxes(axes[1][2])"
   ]
  },
  {
   "cell_type": "markdown",
   "metadata": {},
   "source": [
    "## Conjuntos de treinamento e teste\n",
    "\n",
    "O objetivo de um algoritmo de classificação é ajustar um modelo aos dados de forma a predizer a classe de um objeto. A intenção é obter um modelo que seja geral o suficiente para classificar de forma acurada objetos que não tenham sido usados durante a fase de ajuste (treinamento). Dessa forma, frequentemente dividimos o conjunto de dados em duas partes: treinamento e teste. O primeiro é usado durante a fase de ajuste (treinamento) do modelo, equanto o segundo é usado para avaliar sua qualidade.\n",
    "\n",
    "Se notarmos o conjunto de dados de câncer de próstata usado como exemplo, existe uma variável adicional *train*. Essa variável indica se o objeto será usado para o treinamento ou teste do modelo. Assim podemos dividir os dados em treinamento e teste a partir dessa variável."
   ]
  },
  {
   "cell_type": "code",
   "execution_count": 5,
   "metadata": {},
   "outputs": [
    {
     "name": "stdout",
     "output_type": "stream",
     "text": [
      "(67, 10)\n",
      "mau    42\n",
      "bom    25\n",
      "Name: prognostico, dtype: int64\n",
      "(30, 10)\n",
      "mau    20\n",
      "bom    10\n",
      "Name: prognostico, dtype: int64\n"
     ]
    }
   ],
   "source": [
    "treino = prostate[prostate.train=='T'].drop('train',axis=1)\n",
    "print(treino.shape)\n",
    "print(treino.prognostico.value_counts())\n",
    "teste = prostate[prostate.train=='F'].drop('train',axis=1)\n",
    "print(teste.shape)\n",
    "print(teste.prognostico.value_counts())"
   ]
  },
  {
   "cell_type": "markdown",
   "metadata": {},
   "source": [
    "O conjunto de dados original foi dividido em 1/3 teste e 2/3 treinamento (em geral, divide-se o conjunto em 70-30% entre treino e teste). Fortuitamente mantivemos a mesma proporção de objetos das classes bom e mau tanto nos dois conjuntos. Isso nem sempre ocorre. É bom o analista se atentar e refazer a amostragem caso seja de interesse preservar as características."
   ]
  },
  {
   "cell_type": "markdown",
   "metadata": {},
   "source": [
    "## Validação cruzada\n",
    "\n",
    "Embora seja usado em muitas ocasiões, esse esquema de divisão entre treino e teste é bastante criticado por nem sempre fornecer uma boa avaliação do modelo. Isso é ainda mais crítico quando trabalhamos com poucos dados. Nesses casos, uma divisão enviesada dos conjuntos de treino e teste pode acarretar sobre-estimação ou subestimação da qualidade do modelo. Por exemplo, uma mudança drástica na distribuição das classes nos conjuntos de treino e teste pode levar a grandes erros de predição. Se houver preponderância de uma classe no conjunto de treinamento, o modelo tenderá a valorizar esta classe, ou seja se ajustará melhor a ela negligenciando as outras. Isso é natural uma vez que, ao se ajustar à classe dominante, o erro do modelo tende a cair. Contudo, quando a situação se inverter no conjunto de teste, as taxas de erro serão elevadas, refletindo o fato de que os dados não seguiram a mesma distribuição.\n",
    "\n",
    "Uma alternativa mais recomendada nesses casos é o uso de validação cruzada (cross-validation). Na validação cruzada, o conjunto de dados é dividido em $k$ partições (folds). A cada rodada $k-1$ partições são usadas no treinamento e a partição restante usada no teste. A qualidade do modelo é avaliada como a média dos resultados obtidos em cada rodada. \n",
    "\n",
    "O valor mais usado para $k$ é 10 (10-fold cross-validation). Porém esse valor deve ser ajustado conforme a disponibilidade de dados. A partição dos dados pode ser estratificada (mantém-se a proporção das classes) ou não."
   ]
  },
  {
   "cell_type": "markdown",
   "metadata": {},
   "source": [
    "## Regressão logística\n",
    "\n",
    "Voltando ao problema da classificação dos pacientes em bom ou mau prognóstico, nossa primeira ideia para resolvê-lo nesse momento seria transformá-lo num problema de regressão linear. Ou seja, poderíamos transformar a variável prognóstico numa variável fictícia como fizemos com as variáveis categóricas introduzidas no modelo. Logo, se o modelo desse um valor próximo de 1, atribuiríamos uma classe, caso contrário atribuiríamos a outra."
   ]
  },
  {
   "cell_type": "code",
   "execution_count": 6,
   "metadata": {},
   "outputs": [
    {
     "data": {
      "text/html": [
       "<table class=\"simpletable\">\n",
       "<caption>OLS Regression Results</caption>\n",
       "<tr>\n",
       "  <th>Dep. Variable:</th>           <td>Ip</td>        <th>  R-squared:         </th> <td>   0.319</td>\n",
       "</tr>\n",
       "<tr>\n",
       "  <th>Model:</th>                   <td>OLS</td>       <th>  Adj. R-squared:    </th> <td>   0.287</td>\n",
       "</tr>\n",
       "<tr>\n",
       "  <th>Method:</th>             <td>Least Squares</td>  <th>  F-statistic:       </th> <td>   9.858</td>\n",
       "</tr>\n",
       "<tr>\n",
       "  <th>Date:</th>             <td>Thu, 03 May 2018</td> <th>  Prob (F-statistic):</th> <td>2.03e-05</td>\n",
       "</tr>\n",
       "<tr>\n",
       "  <th>Time:</th>                 <td>10:32:04</td>     <th>  Log-Likelihood:    </th> <td> -33.505</td>\n",
       "</tr>\n",
       "<tr>\n",
       "  <th>No. Observations:</th>      <td>    67</td>      <th>  AIC:               </th> <td>   75.01</td>\n",
       "</tr>\n",
       "<tr>\n",
       "  <th>Df Residuals:</th>          <td>    63</td>      <th>  BIC:               </th> <td>   83.83</td>\n",
       "</tr>\n",
       "<tr>\n",
       "  <th>Df Model:</th>              <td>     3</td>      <th>                     </th>     <td> </td>   \n",
       "</tr>\n",
       "<tr>\n",
       "  <th>Covariance Type:</th>      <td>nonrobust</td>    <th>                     </th>     <td> </td>   \n",
       "</tr>\n",
       "</table>\n",
       "<table class=\"simpletable\">\n",
       "<tr>\n",
       "      <td></td>         <th>coef</th>     <th>std err</th>      <th>t</th>      <th>P>|t|</th>  <th>[0.025</th>    <th>0.975]</th>  \n",
       "</tr>\n",
       "<tr>\n",
       "  <th>Intercept</th> <td>    0.8802</td> <td>    0.400</td> <td>    2.199</td> <td> 0.032</td> <td>    0.080</td> <td>    1.680</td>\n",
       "</tr>\n",
       "<tr>\n",
       "  <th>lpsa</th>      <td>    0.1479</td> <td>    0.068</td> <td>    2.190</td> <td> 0.032</td> <td>    0.013</td> <td>    0.283</td>\n",
       "</tr>\n",
       "<tr>\n",
       "  <th>lcavol</th>    <td>    0.1184</td> <td>    0.060</td> <td>    1.967</td> <td> 0.054</td> <td>   -0.002</td> <td>    0.239</td>\n",
       "</tr>\n",
       "<tr>\n",
       "  <th>lweight</th>   <td>   -0.2128</td> <td>    0.122</td> <td>   -1.743</td> <td> 0.086</td> <td>   -0.457</td> <td>    0.031</td>\n",
       "</tr>\n",
       "</table>\n",
       "<table class=\"simpletable\">\n",
       "<tr>\n",
       "  <th>Omnibus:</th>       <td> 3.213</td> <th>  Durbin-Watson:     </th> <td>   2.004</td>\n",
       "</tr>\n",
       "<tr>\n",
       "  <th>Prob(Omnibus):</th> <td> 0.201</td> <th>  Jarque-Bera (JB):  </th> <td>   2.736</td>\n",
       "</tr>\n",
       "<tr>\n",
       "  <th>Skew:</th>          <td>-0.387</td> <th>  Prob(JB):          </th> <td>   0.255</td>\n",
       "</tr>\n",
       "<tr>\n",
       "  <th>Kurtosis:</th>      <td> 2.384</td> <th>  Cond. No.          </th> <td>    40.0</td>\n",
       "</tr>\n",
       "</table><br/><br/>Warnings:<br/>[1] Standard Errors assume that the covariance matrix of the errors is correctly specified."
      ],
      "text/plain": [
       "<class 'statsmodels.iolib.summary.Summary'>\n",
       "\"\"\"\n",
       "                            OLS Regression Results                            \n",
       "==============================================================================\n",
       "Dep. Variable:                     Ip   R-squared:                       0.319\n",
       "Model:                            OLS   Adj. R-squared:                  0.287\n",
       "Method:                 Least Squares   F-statistic:                     9.858\n",
       "Date:                Thu, 03 May 2018   Prob (F-statistic):           2.03e-05\n",
       "Time:                        10:32:04   Log-Likelihood:                -33.505\n",
       "No. Observations:                  67   AIC:                             75.01\n",
       "Df Residuals:                      63   BIC:                             83.83\n",
       "Df Model:                           3                                         \n",
       "Covariance Type:            nonrobust                                         \n",
       "==============================================================================\n",
       "                 coef    std err          t      P>|t|      [0.025      0.975]\n",
       "------------------------------------------------------------------------------\n",
       "Intercept      0.8802      0.400      2.199      0.032       0.080       1.680\n",
       "lpsa           0.1479      0.068      2.190      0.032       0.013       0.283\n",
       "lcavol         0.1184      0.060      1.967      0.054      -0.002       0.239\n",
       "lweight       -0.2128      0.122     -1.743      0.086      -0.457       0.031\n",
       "==============================================================================\n",
       "Omnibus:                        3.213   Durbin-Watson:                   2.004\n",
       "Prob(Omnibus):                  0.201   Jarque-Bera (JB):                2.736\n",
       "Skew:                          -0.387   Prob(JB):                        0.255\n",
       "Kurtosis:                       2.384   Cond. No.                         40.0\n",
       "==============================================================================\n",
       "\n",
       "Warnings:\n",
       "[1] Standard Errors assume that the covariance matrix of the errors is correctly specified.\n",
       "\"\"\""
      ]
     },
     "execution_count": 6,
     "metadata": {},
     "output_type": "execute_result"
    }
   ],
   "source": [
    "treinoCP = treino.copy()\n",
    "treinoCP['Ip'] = treinoCP.prognostico.map(lambda x: x=='mau' and 1 or 0)\n",
    "model = smf.ols(\"Ip ~ lpsa + lcavol + lweight\",data=treinoCP).fit()\n",
    "model.summary()"
   ]
  },
  {
   "cell_type": "code",
   "execution_count": 7,
   "metadata": {},
   "outputs": [
    {
     "data": {
      "text/plain": [
       "<matplotlib.axes._subplots.AxesSubplot at 0x10b7d1978>"
      ]
     },
     "execution_count": 7,
     "metadata": {},
     "output_type": "execute_result"
    },
    {
     "data": {
      "image/png": "[encoded data removed]",
      "text/plain": [
       "<matplotlib.figure.Figure at 0x10b729fd0>"
      ]
     },
     "metadata": {},
     "output_type": "display_data"
    }
   ],
   "source": [
    "fig, axes = plt.subplots(1,3,figsize=(12,4))\n",
    "sns.regplot(x='lpsa',y='Ip',data=treinoCP,ax=axes[0])\n",
    "sns.regplot(x='lcavol',y='Ip',data=treinoCP,ax=axes[1])\n",
    "sns.regplot(x='lweight',y='Ip',data=treinoCP,ax=axes[2])"
   ]
  },
  {
   "cell_type": "markdown",
   "metadata": {},
   "source": [
    "Vemos que, apesar do modelo com todas as variáveis indique relação entre elas e o prognóstico, os modelos individuais acima deixam bem claro que essa relação não foi exatamente modelada. O modelo linear não consegue se ajustar aos dados. É percepível que o domínio do modelo não é restrito ao domínio da variável prognóstico ${0,1}$. Outra questão a ser levada em conta é que o modelo também não pode ser generalizado para mais de duas categorias. Assim, usamos como alternativo a regressão logística.\n",
    "\n",
    "No modelo logístico, ao invés de modelarmos o valor da variável dependente em função das variáveis independentes, modelamos a probabilidade condicional da variável dependente em função das variáveis independentes, $P(Y=1|x_1,x_2,\\dots,x_p)$. Por exemplo, poderíamos modelar $P(prognóstico=mau|lpsa)$. Nesse caso, poderíamos dizer que o prognóstico do paciente é mau se $P(prognóstico=mau|lpsa) > 0.5$, ou se quisermos ser menos alarmantes, $P(prognóstico=mau|lpsa) > 0.8$. Por conveniência, expressamos $P(Y=1|X) = p(X)$.\n",
    "\n",
    "Como discutimos, modelar $p(X) = \\beta_0 + \\beta_1X$ fornece um péssimo modelo. Na regressão logística, usamos a função logística como modelo:\n",
    "\n",
    "\\begin{equation*}\n",
    "p(X) = \\frac{e^{\\beta_0 + \\beta_1X}}{1+e^{\\beta_0 + \\beta_1X}}\n",
    "\\end{equation*}\n",
    "\n",
    "Após algumas manipulações algébricas, podemos verificar que\n",
    "\n",
    "\\begin{equation*}\n",
    "\\frac{p(X)}{1-p(X)} = e^{\\beta_0 + \\beta_1X}\n",
    "\\end{equation*}\n",
    "\n",
    "A proporção à esqueda é chamada de **chance**. Se tomarmos o logarítmo da chance (**logit**), temos o nosso modelo linear\n",
    "\n",
    "\\begin{equation*}\n",
    "\\log\\left(\\frac{p(X)}{1-p(X)}\\right) = \\beta_0 + \\beta_1X\n",
    "\\end{equation*}\n",
    "\n",
    "O modelo é ajustado pela máxima verossímilhança ao invés do método dos mínimos quadrados. Queremos estimar os valores de $\\beta_0$ e $\\beta_1$ tais que, quando substituídos na definição de probabilidade condicional do nosso modelo, o valor seja o mais próximo possível da probabilidade real. A função de verossimilhança é\n",
    "\n",
    "$$L(\\beta_0,\\beta_1) = \\prod p(x_i)^{y_i}(1-p(x_i))^{1-y_i} = \\prod_{i,y_i=1} p(x_i)\\prod_{i^\\prime,y_{i^\\prime}=0} (1-p(x_{i^\\prime}))$$\n",
    "\n",
    "Para encontrar o valor máximo, derivamos a função com respeito aos coeficientes e igualamos a zero. Como a derivada de produtos é mais complexa que a de somas, usamos o log da função de verossimilhança.\n",
    "\n",
    "$$\\log(L(\\beta_0,\\beta_1)) = l(\\beta_0,\\beta_1) = \\sum_{i,y_i=1} \\log(p(x_i)) + \\sum_{i^\\prime,y_{i^\\prime}=0} \\log(1-p(x_{i^\\prime}))$$\n",
    "\n",
    "O modelo pode ser resolvido por qualquer método iterativo para o cálculo do zero de funções, por exemplo, o método de Newton-Raphson. Não vamos explorar as propriedades matemáticas do modelo, tampouco resolvê-lo. O importante em nosso caso é que existem ferramentas para fazê-lo em Python."
   ]
  },
  {
   "cell_type": "code",
   "execution_count": 9,
   "metadata": {},
   "outputs": [
    {
     "name": "stdout",
     "output_type": "stream",
     "text": [
      "Optimization terminated successfully.\n",
      "         Current function value: 0.527651\n",
      "         Iterations 6\n"
     ]
    },
    {
     "data": {
      "text/html": [
       "<table class=\"simpletable\">\n",
       "<caption>Logit Regression Results</caption>\n",
       "<tr>\n",
       "  <th>Dep. Variable:</th>        <td>Ip</td>        <th>  No. Observations:  </th>  <td>    67</td>  \n",
       "</tr>\n",
       "<tr>\n",
       "  <th>Model:</th>               <td>Logit</td>      <th>  Df Residuals:      </th>  <td>    65</td>  \n",
       "</tr>\n",
       "<tr>\n",
       "  <th>Method:</th>               <td>MLE</td>       <th>  Df Model:          </th>  <td>     1</td>  \n",
       "</tr>\n",
       "<tr>\n",
       "  <th>Date:</th>          <td>Thu, 03 May 2018</td> <th>  Pseudo R-squ.:     </th>  <td>0.2013</td>  \n",
       "</tr>\n",
       "<tr>\n",
       "  <th>Time:</th>              <td>10:32:26</td>     <th>  Log-Likelihood:    </th> <td> -35.353</td> \n",
       "</tr>\n",
       "<tr>\n",
       "  <th>converged:</th>           <td>True</td>       <th>  LL-Null:           </th> <td> -44.260</td> \n",
       "</tr>\n",
       "<tr>\n",
       "  <th> </th>                      <td> </td>        <th>  LLR p-value:       </th> <td>2.434e-05</td>\n",
       "</tr>\n",
       "</table>\n",
       "<table class=\"simpletable\">\n",
       "<tr>\n",
       "      <td></td>         <th>coef</th>     <th>std err</th>      <th>z</th>      <th>P>|z|</th>  <th>[0.025</th>    <th>0.975]</th>  \n",
       "</tr>\n",
       "<tr>\n",
       "  <th>Intercept</th> <td>   -1.9992</td> <td>    0.760</td> <td>   -2.631</td> <td> 0.009</td> <td>   -3.489</td> <td>   -0.510</td>\n",
       "</tr>\n",
       "<tr>\n",
       "  <th>lpsa</th>      <td>    1.0833</td> <td>    0.311</td> <td>    3.484</td> <td> 0.000</td> <td>    0.474</td> <td>    1.693</td>\n",
       "</tr>\n",
       "</table>"
      ],
      "text/plain": [
       "<class 'statsmodels.iolib.summary.Summary'>\n",
       "\"\"\"\n",
       "                           Logit Regression Results                           \n",
       "==============================================================================\n",
       "Dep. Variable:                     Ip   No. Observations:                   67\n",
       "Model:                          Logit   Df Residuals:                       65\n",
       "Method:                           MLE   Df Model:                            1\n",
       "Date:                Thu, 03 May 2018   Pseudo R-squ.:                  0.2013\n",
       "Time:                        10:32:26   Log-Likelihood:                -35.353\n",
       "converged:                       True   LL-Null:                       -44.260\n",
       "                                        LLR p-value:                 2.434e-05\n",
       "==============================================================================\n",
       "                 coef    std err          z      P>|z|      [0.025      0.975]\n",
       "------------------------------------------------------------------------------\n",
       "Intercept     -1.9992      0.760     -2.631      0.009      -3.489      -0.510\n",
       "lpsa           1.0833      0.311      3.484      0.000       0.474       1.693\n",
       "==============================================================================\n",
       "\"\"\""
      ]
     },
     "execution_count": 9,
     "metadata": {},
     "output_type": "execute_result"
    }
   ],
   "source": [
    "treinoCP = sm.add_constant(treino.copy())\n",
    "treinoCP['Ip'] = treinoCP.prognostico.map(lambda x: x=='mau' and 1 or 0)\n",
    "model = smf.logit(\"Ip ~ lpsa\",treinoCP).fit()\n",
    "model.summary()"
   ]
  },
  {
   "cell_type": "code",
   "execution_count": 11,
   "metadata": {},
   "outputs": [
    {
     "data": {
      "image/png": "[encoded data removed]",
      "text/plain": [
       "<matplotlib.figure.Figure at 0x10b7ef390>"
      ]
     },
     "metadata": {},
     "output_type": "display_data"
    }
   ],
   "source": [
    "sns.regplot(x='lpsa',y='Ip',logistic=True,data=treinoCP);"
   ]
  },
  {
   "cell_type": "code",
   "execution_count": 12,
   "metadata": {},
   "outputs": [
    {
     "name": "stdout",
     "output_type": "stream",
     "text": [
      "Optimization terminated successfully.\n",
      "         Current function value: 0.423807\n",
      "         Iterations 7\n"
     ]
    },
    {
     "data": {
      "text/html": [
       "<table class=\"simpletable\">\n",
       "<caption>Logit Regression Results</caption>\n",
       "<tr>\n",
       "  <th>Dep. Variable:</th>        <td>Ip</td>        <th>  No. Observations:  </th>  <td>    67</td>  \n",
       "</tr>\n",
       "<tr>\n",
       "  <th>Model:</th>               <td>Logit</td>      <th>  Df Residuals:      </th>  <td>    61</td>  \n",
       "</tr>\n",
       "<tr>\n",
       "  <th>Method:</th>               <td>MLE</td>       <th>  Df Model:          </th>  <td>     5</td>  \n",
       "</tr>\n",
       "<tr>\n",
       "  <th>Date:</th>          <td>Thu, 03 May 2018</td> <th>  Pseudo R-squ.:     </th>  <td>0.3585</td>  \n",
       "</tr>\n",
       "<tr>\n",
       "  <th>Time:</th>              <td>10:32:59</td>     <th>  Log-Likelihood:    </th> <td> -28.395</td> \n",
       "</tr>\n",
       "<tr>\n",
       "  <th>converged:</th>           <td>True</td>       <th>  LL-Null:           </th> <td> -44.260</td> \n",
       "</tr>\n",
       "<tr>\n",
       "  <th> </th>                      <td> </td>        <th>  LLR p-value:       </th> <td>6.717e-06</td>\n",
       "</tr>\n",
       "</table>\n",
       "<table class=\"simpletable\">\n",
       "<tr>\n",
       "      <td></td>         <th>coef</th>     <th>std err</th>      <th>z</th>      <th>P>|z|</th>  <th>[0.025</th>    <th>0.975]</th>  \n",
       "</tr>\n",
       "<tr>\n",
       "  <th>Intercept</th> <td>    4.5834</td> <td>    2.935</td> <td>    1.562</td> <td> 0.118</td> <td>   -1.169</td> <td>   10.336</td>\n",
       "</tr>\n",
       "<tr>\n",
       "  <th>lpsa</th>      <td>    1.0838</td> <td>    0.539</td> <td>    2.011</td> <td> 0.044</td> <td>    0.027</td> <td>    2.140</td>\n",
       "</tr>\n",
       "<tr>\n",
       "  <th>lcavol</th>    <td>    0.0818</td> <td>    0.433</td> <td>    0.189</td> <td> 0.850</td> <td>   -0.767</td> <td>    0.930</td>\n",
       "</tr>\n",
       "<tr>\n",
       "  <th>lweight</th>   <td>   -1.6921</td> <td>    0.890</td> <td>   -1.901</td> <td> 0.057</td> <td>   -3.437</td> <td>    0.053</td>\n",
       "</tr>\n",
       "<tr>\n",
       "  <th>lcp</th>       <td>    0.9065</td> <td>    0.412</td> <td>    2.198</td> <td> 0.028</td> <td>    0.098</td> <td>    1.715</td>\n",
       "</tr>\n",
       "<tr>\n",
       "  <th>lbph</th>      <td>    0.2431</td> <td>    0.265</td> <td>    0.917</td> <td> 0.359</td> <td>   -0.276</td> <td>    0.762</td>\n",
       "</tr>\n",
       "</table>"
      ],
      "text/plain": [
       "<class 'statsmodels.iolib.summary.Summary'>\n",
       "\"\"\"\n",
       "                           Logit Regression Results                           \n",
       "==============================================================================\n",
       "Dep. Variable:                     Ip   No. Observations:                   67\n",
       "Model:                          Logit   Df Residuals:                       61\n",
       "Method:                           MLE   Df Model:                            5\n",
       "Date:                Thu, 03 May 2018   Pseudo R-squ.:                  0.3585\n",
       "Time:                        10:32:59   Log-Likelihood:                -28.395\n",
       "converged:                       True   LL-Null:                       -44.260\n",
       "                                        LLR p-value:                 6.717e-06\n",
       "==============================================================================\n",
       "                 coef    std err          z      P>|z|      [0.025      0.975]\n",
       "------------------------------------------------------------------------------\n",
       "Intercept      4.5834      2.935      1.562      0.118      -1.169      10.336\n",
       "lpsa           1.0838      0.539      2.011      0.044       0.027       2.140\n",
       "lcavol         0.0818      0.433      0.189      0.850      -0.767       0.930\n",
       "lweight       -1.6921      0.890     -1.901      0.057      -3.437       0.053\n",
       "lcp            0.9065      0.412      2.198      0.028       0.098       1.715\n",
       "lbph           0.2431      0.265      0.917      0.359      -0.276       0.762\n",
       "==============================================================================\n",
       "\"\"\""
      ]
     },
     "execution_count": 12,
     "metadata": {},
     "output_type": "execute_result"
    }
   ],
   "source": [
    "model = smf.logit(\"Ip ~ lpsa + lcavol + lweight + lcp + lbph\",treinoCP,).fit()\n",
    "model.summary()"
   ]
  },
  {
   "cell_type": "markdown",
   "metadata": {},
   "source": [
    "Agora observamos que o modelo se ajustou melhor aos dados. Da mesma forma que nos modelos de regressão linear simples e múltipla, os p-values estão relacionados com a hipótese nula de que os coeficientes não estão relacionados à variável dependente. Por outro lado, a interpretação dos coeficientes não é tão direta. Podemos interpretá-los como: valores positivos indicam que o aumento de $X$ multiplica a chance por $e^{\\beta_1}$ unidades, enquanto valores negativos a dividem."
   ]
  },
  {
   "cell_type": "markdown",
   "metadata": {},
   "source": [
    "## Predizendo os valores do conjunto de teste\n",
    "\n",
    "Uma vez que obtivemos o modelo, agora podemos fazer previsões para o conjunto de teste e avaliar sua precisão."
   ]
  },
  {
   "cell_type": "code",
   "execution_count": 13,
   "metadata": {},
   "outputs": [
    {
     "data": {
      "text/plain": [
       "7     0.180741\n",
       "9     0.126993\n",
       "10    0.206372\n",
       "15    0.412494\n",
       "22    0.900738\n",
       "25    0.358521\n",
       "26    0.536305\n",
       "28    0.302081\n",
       "32    0.376385\n",
       "34    0.413963\n",
       "36    0.321005\n",
       "42    0.349197\n",
       "44    0.751478\n",
       "48    0.659462\n",
       "49    0.505584\n",
       "50    0.743541\n",
       "53    0.857350\n",
       "54    0.919921\n",
       "55    0.557184\n",
       "57    0.950451\n",
       "62    0.975161\n",
       "64    0.974580\n",
       "65    0.538045\n",
       "66    0.781062\n",
       "73    0.800235\n",
       "74    0.977351\n",
       "80    0.895569\n",
       "84    0.982613\n",
       "95    0.998565\n",
       "97    0.999024\n",
       "dtype: float64"
      ]
     },
     "execution_count": 13,
     "metadata": {},
     "output_type": "execute_result"
    }
   ],
   "source": [
    "model.predict(teste)"
   ]
  },
  {
   "cell_type": "markdown",
   "metadata": {},
   "source": [
    "Como podemos ver, o modelo retorna as probabilidades associadas a cada objeto no conjunto de teste de terem um mau prognóstico. Podemos converter tais probabilidades em classes. Podemos arbitrariamente dizer que se a probabilidade for maior que 0.5 então a classe é mau, e bom caso contrário."
   ]
  },
  {
   "cell_type": "code",
   "execution_count": 14,
   "metadata": {},
   "outputs": [
    {
     "data": {
      "text/plain": [
       "7     bom\n",
       "9     bom\n",
       "10    bom\n",
       "15    bom\n",
       "22    mau\n",
       "25    bom\n",
       "26    mau\n",
       "28    bom\n",
       "32    bom\n",
       "34    bom\n",
       "36    bom\n",
       "42    bom\n",
       "44    mau\n",
       "48    mau\n",
       "49    mau\n",
       "50    mau\n",
       "53    mau\n",
       "54    mau\n",
       "55    mau\n",
       "57    mau\n",
       "62    mau\n",
       "64    mau\n",
       "65    mau\n",
       "66    mau\n",
       "73    mau\n",
       "74    mau\n",
       "80    mau\n",
       "84    mau\n",
       "95    mau\n",
       "97    mau\n",
       "dtype: object"
      ]
     },
     "execution_count": 14,
     "metadata": {},
     "output_type": "execute_result"
    }
   ],
   "source": [
    "model.predict(teste).map(lambda x: x > 0.5 and 'mau' or 'bom')"
   ]
  },
  {
   "cell_type": "markdown",
   "metadata": {},
   "source": [
    "Podemos agora comparar tais valores com os valores originais para avaliarmos a precisão do modelo"
   ]
  },
  {
   "cell_type": "code",
   "execution_count": 20,
   "metadata": {},
   "outputs": [],
   "source": [
    "df = pd.DataFrame(dict(prob=model.predict(teste),\n",
    "                  pred=model.predict(teste).map(lambda x: x > 0.5 and 'mau' or 'bom'),\n",
    "                  real=teste.prognostico))"
   ]
  },
  {
   "cell_type": "code",
   "execution_count": 22,
   "metadata": {},
   "outputs": [
    {
     "data": {
      "text/html": [
       "<div>\n",
       "<style scoped>\n",
       "    .dataframe tbody tr th:only-of-type {\n",
       "        vertical-align: middle;\n",
       "    }\n",
       "\n",
       "    .dataframe tbody tr th {\n",
       "        vertical-align: top;\n",
       "    }\n",
       "\n",
       "    .dataframe thead th {\n",
       "        text-align: right;\n",
       "    }\n",
       "</style>\n",
       "<table border=\"1\" class=\"dataframe\">\n",
       "  <thead>\n",
       "    <tr style=\"text-align: right;\">\n",
       "      <th></th>\n",
       "      <th>pred</th>\n",
       "      <th>prob</th>\n",
       "      <th>real</th>\n",
       "      <th>gleason</th>\n",
       "    </tr>\n",
       "  </thead>\n",
       "  <tbody>\n",
       "    <tr>\n",
       "      <th>7</th>\n",
       "      <td>bom</td>\n",
       "      <td>0.180741</td>\n",
       "      <td>bom</td>\n",
       "      <td>6</td>\n",
       "    </tr>\n",
       "    <tr>\n",
       "      <th>9</th>\n",
       "      <td>bom</td>\n",
       "      <td>0.126993</td>\n",
       "      <td>bom</td>\n",
       "      <td>6</td>\n",
       "    </tr>\n",
       "    <tr>\n",
       "      <th>10</th>\n",
       "      <td>bom</td>\n",
       "      <td>0.206372</td>\n",
       "      <td>bom</td>\n",
       "      <td>6</td>\n",
       "    </tr>\n",
       "    <tr>\n",
       "      <th>15</th>\n",
       "      <td>bom</td>\n",
       "      <td>0.412494</td>\n",
       "      <td>mau</td>\n",
       "      <td>7</td>\n",
       "    </tr>\n",
       "    <tr>\n",
       "      <th>22</th>\n",
       "      <td>mau</td>\n",
       "      <td>0.900738</td>\n",
       "      <td>mau</td>\n",
       "      <td>7</td>\n",
       "    </tr>\n",
       "    <tr>\n",
       "      <th>25</th>\n",
       "      <td>bom</td>\n",
       "      <td>0.358521</td>\n",
       "      <td>bom</td>\n",
       "      <td>6</td>\n",
       "    </tr>\n",
       "    <tr>\n",
       "      <th>26</th>\n",
       "      <td>mau</td>\n",
       "      <td>0.536305</td>\n",
       "      <td>bom</td>\n",
       "      <td>6</td>\n",
       "    </tr>\n",
       "    <tr>\n",
       "      <th>28</th>\n",
       "      <td>bom</td>\n",
       "      <td>0.302081</td>\n",
       "      <td>mau</td>\n",
       "      <td>7</td>\n",
       "    </tr>\n",
       "    <tr>\n",
       "      <th>32</th>\n",
       "      <td>bom</td>\n",
       "      <td>0.376385</td>\n",
       "      <td>bom</td>\n",
       "      <td>6</td>\n",
       "    </tr>\n",
       "    <tr>\n",
       "      <th>34</th>\n",
       "      <td>bom</td>\n",
       "      <td>0.413963</td>\n",
       "      <td>bom</td>\n",
       "      <td>6</td>\n",
       "    </tr>\n",
       "    <tr>\n",
       "      <th>36</th>\n",
       "      <td>bom</td>\n",
       "      <td>0.321005</td>\n",
       "      <td>mau</td>\n",
       "      <td>7</td>\n",
       "    </tr>\n",
       "    <tr>\n",
       "      <th>42</th>\n",
       "      <td>bom</td>\n",
       "      <td>0.349197</td>\n",
       "      <td>mau</td>\n",
       "      <td>7</td>\n",
       "    </tr>\n",
       "    <tr>\n",
       "      <th>44</th>\n",
       "      <td>mau</td>\n",
       "      <td>0.751478</td>\n",
       "      <td>mau</td>\n",
       "      <td>7</td>\n",
       "    </tr>\n",
       "    <tr>\n",
       "      <th>48</th>\n",
       "      <td>mau</td>\n",
       "      <td>0.659462</td>\n",
       "      <td>mau</td>\n",
       "      <td>7</td>\n",
       "    </tr>\n",
       "    <tr>\n",
       "      <th>49</th>\n",
       "      <td>mau</td>\n",
       "      <td>0.505584</td>\n",
       "      <td>bom</td>\n",
       "      <td>6</td>\n",
       "    </tr>\n",
       "    <tr>\n",
       "      <th>50</th>\n",
       "      <td>mau</td>\n",
       "      <td>0.743541</td>\n",
       "      <td>bom</td>\n",
       "      <td>6</td>\n",
       "    </tr>\n",
       "    <tr>\n",
       "      <th>53</th>\n",
       "      <td>mau</td>\n",
       "      <td>0.857350</td>\n",
       "      <td>mau</td>\n",
       "      <td>7</td>\n",
       "    </tr>\n",
       "    <tr>\n",
       "      <th>54</th>\n",
       "      <td>mau</td>\n",
       "      <td>0.919921</td>\n",
       "      <td>mau</td>\n",
       "      <td>7</td>\n",
       "    </tr>\n",
       "    <tr>\n",
       "      <th>55</th>\n",
       "      <td>mau</td>\n",
       "      <td>0.557184</td>\n",
       "      <td>mau</td>\n",
       "      <td>7</td>\n",
       "    </tr>\n",
       "    <tr>\n",
       "      <th>57</th>\n",
       "      <td>mau</td>\n",
       "      <td>0.950451</td>\n",
       "      <td>mau</td>\n",
       "      <td>7</td>\n",
       "    </tr>\n",
       "    <tr>\n",
       "      <th>62</th>\n",
       "      <td>mau</td>\n",
       "      <td>0.975161</td>\n",
       "      <td>mau</td>\n",
       "      <td>7</td>\n",
       "    </tr>\n",
       "    <tr>\n",
       "      <th>64</th>\n",
       "      <td>mau</td>\n",
       "      <td>0.974580</td>\n",
       "      <td>mau</td>\n",
       "      <td>7</td>\n",
       "    </tr>\n",
       "    <tr>\n",
       "      <th>65</th>\n",
       "      <td>mau</td>\n",
       "      <td>0.538045</td>\n",
       "      <td>bom</td>\n",
       "      <td>6</td>\n",
       "    </tr>\n",
       "    <tr>\n",
       "      <th>66</th>\n",
       "      <td>mau</td>\n",
       "      <td>0.781062</td>\n",
       "      <td>mau</td>\n",
       "      <td>7</td>\n",
       "    </tr>\n",
       "    <tr>\n",
       "      <th>73</th>\n",
       "      <td>mau</td>\n",
       "      <td>0.800235</td>\n",
       "      <td>mau</td>\n",
       "      <td>7</td>\n",
       "    </tr>\n",
       "    <tr>\n",
       "      <th>74</th>\n",
       "      <td>mau</td>\n",
       "      <td>0.977351</td>\n",
       "      <td>mau</td>\n",
       "      <td>9</td>\n",
       "    </tr>\n",
       "    <tr>\n",
       "      <th>80</th>\n",
       "      <td>mau</td>\n",
       "      <td>0.895569</td>\n",
       "      <td>mau</td>\n",
       "      <td>7</td>\n",
       "    </tr>\n",
       "    <tr>\n",
       "      <th>84</th>\n",
       "      <td>mau</td>\n",
       "      <td>0.982613</td>\n",
       "      <td>mau</td>\n",
       "      <td>9</td>\n",
       "    </tr>\n",
       "    <tr>\n",
       "      <th>95</th>\n",
       "      <td>mau</td>\n",
       "      <td>0.998565</td>\n",
       "      <td>mau</td>\n",
       "      <td>7</td>\n",
       "    </tr>\n",
       "    <tr>\n",
       "      <th>97</th>\n",
       "      <td>mau</td>\n",
       "      <td>0.999024</td>\n",
       "      <td>mau</td>\n",
       "      <td>7</td>\n",
       "    </tr>\n",
       "  </tbody>\n",
       "</table>\n",
       "</div>"
      ],
      "text/plain": [
       "   pred      prob real  gleason\n",
       "7   bom  0.180741  bom        6\n",
       "9   bom  0.126993  bom        6\n",
       "10  bom  0.206372  bom        6\n",
       "15  bom  0.412494  mau        7\n",
       "22  mau  0.900738  mau        7\n",
       "25  bom  0.358521  bom        6\n",
       "26  mau  0.536305  bom        6\n",
       "28  bom  0.302081  mau        7\n",
       "32  bom  0.376385  bom        6\n",
       "34  bom  0.413963  bom        6\n",
       "36  bom  0.321005  mau        7\n",
       "42  bom  0.349197  mau        7\n",
       "44  mau  0.751478  mau        7\n",
       "48  mau  0.659462  mau        7\n",
       "49  mau  0.505584  bom        6\n",
       "50  mau  0.743541  bom        6\n",
       "53  mau  0.857350  mau        7\n",
       "54  mau  0.919921  mau        7\n",
       "55  mau  0.557184  mau        7\n",
       "57  mau  0.950451  mau        7\n",
       "62  mau  0.975161  mau        7\n",
       "64  mau  0.974580  mau        7\n",
       "65  mau  0.538045  bom        6\n",
       "66  mau  0.781062  mau        7\n",
       "73  mau  0.800235  mau        7\n",
       "74  mau  0.977351  mau        9\n",
       "80  mau  0.895569  mau        7\n",
       "84  mau  0.982613  mau        9\n",
       "95  mau  0.998565  mau        7\n",
       "97  mau  0.999024  mau        7"
      ]
     },
     "execution_count": 22,
     "metadata": {},
     "output_type": "execute_result"
    }
   ],
   "source": [
    "df['gleason'] = teste.gleason\n",
    "df"
   ]
  },
  {
   "cell_type": "markdown",
   "metadata": {},
   "source": [
    "Podemos ainda sumarizar os resultados numa tabela, mostrando os acertos e erros do modelo."
   ]
  },
  {
   "cell_type": "code",
   "execution_count": 19,
   "metadata": {},
   "outputs": [
    {
     "data": {
      "text/html": [
       "<div>\n",
       "<style scoped>\n",
       "    .dataframe tbody tr th:only-of-type {\n",
       "        vertical-align: middle;\n",
       "    }\n",
       "\n",
       "    .dataframe tbody tr th {\n",
       "        vertical-align: top;\n",
       "    }\n",
       "\n",
       "    .dataframe thead th {\n",
       "        text-align: right;\n",
       "    }\n",
       "</style>\n",
       "<table border=\"1\" class=\"dataframe\">\n",
       "  <thead>\n",
       "    <tr style=\"text-align: right;\">\n",
       "      <th>real</th>\n",
       "      <th>bom</th>\n",
       "      <th>mau</th>\n",
       "    </tr>\n",
       "    <tr>\n",
       "      <th>pred</th>\n",
       "      <th></th>\n",
       "      <th></th>\n",
       "    </tr>\n",
       "  </thead>\n",
       "  <tbody>\n",
       "    <tr>\n",
       "      <th>bom</th>\n",
       "      <td>6</td>\n",
       "      <td>4</td>\n",
       "    </tr>\n",
       "    <tr>\n",
       "      <th>mau</th>\n",
       "      <td>4</td>\n",
       "      <td>16</td>\n",
       "    </tr>\n",
       "  </tbody>\n",
       "</table>\n",
       "</div>"
      ],
      "text/plain": [
       "real  bom  mau\n",
       "pred          \n",
       "bom     6    4\n",
       "mau     4   16"
      ]
     },
     "execution_count": 19,
     "metadata": {},
     "output_type": "execute_result"
    }
   ],
   "source": [
    "pd.crosstab(df.pred,df.real)"
   ]
  },
  {
   "cell_type": "markdown",
   "metadata": {},
   "source": [
    "Essa tabela é conhecida como **tabela de contingência**. A diagonal principal mostra os acertos do modelo, enquanto a secundária mostra os erros. Os exemplos que eram realmente maus e foram classificados como tal são chamados de *verdadeiros positivos* (TP), já os bons classificados corretamente são chamados de *verdadeiros negativos* (TN). Os bons classificados de maus são chamados de *falsos positivos* (FP) e os maus classificados de bons são *falsos negativos*.\n",
    "\n",
    "A **acurácia** do modelo é a proporção de acertos que o modelo teve. Além dessa métrica, outras duas métricas de qualidade são **sensitividade** e **especificidade** que revelam a capacidade do modelo de classificar corretamente os exemplos que eram positivos (maus) e os que eram negativos (bons).\n",
    "\n",
    "\\begin{align}\n",
    "ACC & = \\frac{TP+TN}{TP+TN+FP+FN}\\\\\n",
    "SEN & = \\frac{TP}{TP+FN}\\\\\n",
    "ESP & = \\frac{TN}{TN+FP}\\\\\n",
    "\\end{align}\n",
    "\n",
    "Dessa forma, podemos avaliar a qualidade do nosso modelo."
   ]
  },
  {
   "cell_type": "code",
   "execution_count": 16,
   "metadata": {},
   "outputs": [
    {
     "name": "stdout",
     "output_type": "stream",
     "text": [
      "acc= 0.733, sen=0.800, esp=0.600\n"
     ]
    }
   ],
   "source": [
    "tabcont = pd.crosstab(df.pred,df.real).values\n",
    "acc = np.sum(tabcont.diagonal())/teste.shape[0]\n",
    "sen = tabcont[1,1]/(tabcont[1,1]+tabcont[0,1])\n",
    "esp = tabcont[0,0]/(tabcont[0,0]+tabcont[1,0])\n",
    "\n",
    "print(\"acc= {:.3f}, sen={:.3f}, esp={:.3f}\".format(acc,sen,esp))"
   ]
  },
  {
   "cell_type": "markdown",
   "metadata": {},
   "source": [
    "Assim observamos que nosso modelo acertou 73% das classificações, sendo mais preciso com exemplos positivos (mau prognóstico), acertando 80%, que com exemplos negativos (bom prognóstico), acertando 60%. "
   ]
  }
 ],
 "metadata": {
  "kernelspec": {
   "display_name": "Python 3",
   "language": "python",
   "name": "python3"
  },
  "language_info": {
   "codemirror_mode": {
    "name": "ipython",
    "version": 3
   },
   "file_extension": ".py",
   "mimetype": "text/x-python",
   "name": "python",
   "nbconvert_exporter": "python",
   "pygments_lexer": "ipython3",
   "version": "3.6.3"
  }
 },
 "nbformat": 4,
 "nbformat_minor": 2
}
